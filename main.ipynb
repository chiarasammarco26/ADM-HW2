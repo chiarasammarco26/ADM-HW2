{
 "cells": [
  {
   "cell_type": "code",
   "execution_count": 1,
   "id": "9fe8b89b-f22f-419b-be87-869b29263872",
   "metadata": {},
   "outputs": [],
   "source": [
    "import pandas as pd\n",
    "from tqdm import tqdm # handy for timing interations\n",
    "from matplotlib import pyplot as plt\n",
    "import numpy as np\n",
    "import seaborn as sns\n",
    "import time\n",
    "from collections import Counter\n",
    "from scipy.stats import mode\n",
    "import datetime"
   ]
  },
  {
   "cell_type": "code",
   "execution_count": 2,
   "id": "880a88db-f67d-486a-b849-7774ff3d7294",
   "metadata": {},
   "outputs": [],
   "source": [
    "plt.rcParams['figure.figsize'] = [12, 10]\n",
    "plt.rcParams['font.size'] = 12"
   ]
  },
  {
   "cell_type": "markdown",
   "id": "b3482b92",
   "metadata": {},
   "source": [
    "#### Declare paths to the .csv locations"
   ]
  },
  {
   "cell_type": "code",
   "execution_count": 18,
   "id": "585402aa",
   "metadata": {},
   "outputs": [],
   "source": [
    "path_to_posts = '/Users/Chiara Sammarco/Downloads/instagram_posts.zip'\n",
    "path_to_locs = '/Users/Chiara Sammarco/Downloads/instagram_locations.zip'\n",
    "path_to_profiles = '/Users/Chiara Sammarco/Downloads/instagram_profiles.zip'"
   ]
  },
  {
   "cell_type": "markdown",
   "id": "37d8d184-0ff3-4a3e-89f8-f676adad95b1",
   "metadata": {},
   "source": [
    "#### Setup for the data"
   ]
  },
  {
   "cell_type": "code",
   "execution_count": 9,
   "id": "fd940a58-a47b-45f5-9e72-0afb4d3fc10e",
   "metadata": {},
   "outputs": [],
   "source": [
    "loc_df = pd.read_csv(path_to_locs, delimiter='\\t')"
   ]
  },
  {
   "cell_type": "code",
   "execution_count": 19,
   "id": "1681f5cb-c853-48f9-b963-c28290ece106",
   "metadata": {},
   "outputs": [],
   "source": [
    "profiles_df = pd.read_csv(path_to_profiles, delimiter='\\t')"
   ]
  },
  {
   "cell_type": "markdown",
   "id": "02dfa2e2",
   "metadata": {},
   "source": [
    "### Research Question 1"
   ]
  },
  {
   "cell_type": "markdown",
   "id": "e607a6fc",
   "metadata": {},
   "source": [
    "##### Let's study the \"instagram_profiles\" dataset"
   ]
  },
  {
   "cell_type": "code",
   "execution_count": 12,
   "id": "c4374d2e",
   "metadata": {},
   "outputs": [
    {
     "data": {
      "text/html": [
       "<div>\n",
       "<style scoped>\n",
       "    .dataframe tbody tr th:only-of-type {\n",
       "        vertical-align: middle;\n",
       "    }\n",
       "\n",
       "    .dataframe tbody tr th {\n",
       "        vertical-align: top;\n",
       "    }\n",
       "\n",
       "    .dataframe thead th {\n",
       "        text-align: right;\n",
       "    }\n",
       "</style>\n",
       "<table border=\"1\" class=\"dataframe\">\n",
       "  <thead>\n",
       "    <tr style=\"text-align: right;\">\n",
       "      <th></th>\n",
       "      <th>sid</th>\n",
       "      <th>profile_id</th>\n",
       "      <th>profile_name</th>\n",
       "      <th>firstname_lastname</th>\n",
       "      <th>description</th>\n",
       "      <th>following</th>\n",
       "      <th>followers</th>\n",
       "      <th>n_posts</th>\n",
       "      <th>url</th>\n",
       "      <th>cts</th>\n",
       "      <th>is_business_account</th>\n",
       "    </tr>\n",
       "  </thead>\n",
       "  <tbody>\n",
       "    <tr>\n",
       "      <th>2880218</th>\n",
       "      <td>336492</td>\n",
       "      <td>2.502532e+07</td>\n",
       "      <td>instagram</td>\n",
       "      <td>Instagram</td>\n",
       "      <td>Bringing you closer to the people and things y...</td>\n",
       "      <td>226.0</td>\n",
       "      <td>285457645.0</td>\n",
       "      <td>5760.0</td>\n",
       "      <td>help.instagram.com</td>\n",
       "      <td>NaN</td>\n",
       "      <td>False</td>\n",
       "    </tr>\n",
       "    <tr>\n",
       "      <th>2582507</th>\n",
       "      <td>371414</td>\n",
       "      <td>3.416684e+06</td>\n",
       "      <td>victoriassecret</td>\n",
       "      <td>Victoria's Secret</td>\n",
       "      <td>Confidence is sexy. #wearitdaily</td>\n",
       "      <td>549.0</td>\n",
       "      <td>65269440.0</td>\n",
       "      <td>7355.0</td>\n",
       "      <td>like2b.uy/victoriassecret</td>\n",
       "      <td>NaN</td>\n",
       "      <td>True</td>\n",
       "    </tr>\n",
       "    <tr>\n",
       "      <th>3820939</th>\n",
       "      <td>337097</td>\n",
       "      <td>2.082449e+07</td>\n",
       "      <td>nba</td>\n",
       "      <td>NBA</td>\n",
       "      <td>30 teams, 1 🏆\\n👟: @nbakicks \\n📽: @nbahistory \\...</td>\n",
       "      <td>817.0</td>\n",
       "      <td>35339708.0</td>\n",
       "      <td>28816.0</td>\n",
       "      <td>nba.app.link/js6X7SVaxT</td>\n",
       "      <td>NaN</td>\n",
       "      <td>True</td>\n",
       "    </tr>\n",
       "    <tr>\n",
       "      <th>701965</th>\n",
       "      <td>330376</td>\n",
       "      <td>1.876191e+08</td>\n",
       "      <td>louisvuitton</td>\n",
       "      <td>Louis Vuitton Official</td>\n",
       "      <td>The official Instagram account of Louis Vuitton.</td>\n",
       "      <td>5.0</td>\n",
       "      <td>30689316.0</td>\n",
       "      <td>3352.0</td>\n",
       "      <td>on.louisvuitton.com/Like2Buy</td>\n",
       "      <td>NaN</td>\n",
       "      <td>True</td>\n",
       "    </tr>\n",
       "    <tr>\n",
       "      <th>2414951</th>\n",
       "      <td>292359</td>\n",
       "      <td>2.125507e+09</td>\n",
       "      <td>buzzfeedtasty</td>\n",
       "      <td>Tasty</td>\n",
       "      <td>Recipes that will make you say \"oh yes!\"\\n👇 Cl...</td>\n",
       "      <td>298.0</td>\n",
       "      <td>30246783.0</td>\n",
       "      <td>2791.0</td>\n",
       "      <td>tasty.co/linkinbio</td>\n",
       "      <td>NaN</td>\n",
       "      <td>True</td>\n",
       "    </tr>\n",
       "    <tr>\n",
       "      <th>2785241</th>\n",
       "      <td>3437294</td>\n",
       "      <td>4.968651e+08</td>\n",
       "      <td>andresiniesta8</td>\n",
       "      <td>Andres Iniesta</td>\n",
       "      <td>Andres Iniesta Official Instagram Account, \\nB...</td>\n",
       "      <td>151.0</td>\n",
       "      <td>29542143.0</td>\n",
       "      <td>990.0</td>\n",
       "      <td>mikakus.com</td>\n",
       "      <td>2019-05-08 23:54:35.377 -0400</td>\n",
       "      <td>False</td>\n",
       "    </tr>\n",
       "    <tr>\n",
       "      <th>333193</th>\n",
       "      <td>158690</td>\n",
       "      <td>2.341008e+07</td>\n",
       "      <td>hm</td>\n",
       "      <td>H&amp;M</td>\n",
       "      <td>Welcome to #HM! Follow us at @HM_Man @HM_Kids ...</td>\n",
       "      <td>403.0</td>\n",
       "      <td>29176804.0</td>\n",
       "      <td>4566.0</td>\n",
       "      <td>hm.info/1c9he</td>\n",
       "      <td>2018-05-31 19:33:46.022 -0400</td>\n",
       "      <td>True</td>\n",
       "    </tr>\n",
       "    <tr>\n",
       "      <th>3934581</th>\n",
       "      <td>3615154</td>\n",
       "      <td>2.423993e+07</td>\n",
       "      <td>princessyahrini</td>\n",
       "      <td>Syahrini</td>\n",
       "      <td>NaN</td>\n",
       "      <td>835.0</td>\n",
       "      <td>29042823.0</td>\n",
       "      <td>4719.0</td>\n",
       "      <td>www.youtube.com/c/ThePrincesSyahrini</td>\n",
       "      <td>2019-06-26 15:05:53.411 -0400</td>\n",
       "      <td>True</td>\n",
       "    </tr>\n",
       "    <tr>\n",
       "      <th>1311970</th>\n",
       "      <td>508140</td>\n",
       "      <td>5.041706e+07</td>\n",
       "      <td>danbilzerian</td>\n",
       "      <td>Dan Bilzerian</td>\n",
       "      <td>Snapchat: dbilzerian</td>\n",
       "      <td>252.0</td>\n",
       "      <td>26476004.0</td>\n",
       "      <td>1311.0</td>\n",
       "      <td>www.ignite.co</td>\n",
       "      <td>NaN</td>\n",
       "      <td>True</td>\n",
       "    </tr>\n",
       "    <tr>\n",
       "      <th>1703764</th>\n",
       "      <td>3513205</td>\n",
       "      <td>9.070254e+08</td>\n",
       "      <td>akshaykumar</td>\n",
       "      <td>Akshay Kumar</td>\n",
       "      <td>#AkshayKumar</td>\n",
       "      <td>5.0</td>\n",
       "      <td>26252169.0</td>\n",
       "      <td>1173.0</td>\n",
       "      <td>bit.ly/AliAliBlank</td>\n",
       "      <td>2019-05-14 08:29:29.754 -0400</td>\n",
       "      <td>False</td>\n",
       "    </tr>\n",
       "  </tbody>\n",
       "</table>\n",
       "</div>"
      ],
      "text/plain": [
       "             sid    profile_id     profile_name      firstname_lastname  \\\n",
       "2880218   336492  2.502532e+07        instagram               Instagram   \n",
       "2582507   371414  3.416684e+06  victoriassecret       Victoria's Secret   \n",
       "3820939   337097  2.082449e+07              nba                     NBA   \n",
       "701965    330376  1.876191e+08     louisvuitton  Louis Vuitton Official   \n",
       "2414951   292359  2.125507e+09    buzzfeedtasty                   Tasty   \n",
       "2785241  3437294  4.968651e+08   andresiniesta8          Andres Iniesta   \n",
       "333193    158690  2.341008e+07               hm                     H&M   \n",
       "3934581  3615154  2.423993e+07  princessyahrini                Syahrini   \n",
       "1311970   508140  5.041706e+07     danbilzerian           Dan Bilzerian   \n",
       "1703764  3513205  9.070254e+08      akshaykumar            Akshay Kumar   \n",
       "\n",
       "                                               description  following  \\\n",
       "2880218  Bringing you closer to the people and things y...      226.0   \n",
       "2582507                   Confidence is sexy. #wearitdaily      549.0   \n",
       "3820939  30 teams, 1 🏆\\n👟: @nbakicks \\n📽: @nbahistory \\...      817.0   \n",
       "701965    The official Instagram account of Louis Vuitton.        5.0   \n",
       "2414951  Recipes that will make you say \"oh yes!\"\\n👇 Cl...      298.0   \n",
       "2785241  Andres Iniesta Official Instagram Account, \\nB...      151.0   \n",
       "333193   Welcome to #HM! Follow us at @HM_Man @HM_Kids ...      403.0   \n",
       "3934581                                                NaN      835.0   \n",
       "1311970                               Snapchat: dbilzerian      252.0   \n",
       "1703764                                       #AkshayKumar        5.0   \n",
       "\n",
       "           followers  n_posts                                   url  \\\n",
       "2880218  285457645.0   5760.0                    help.instagram.com   \n",
       "2582507   65269440.0   7355.0             like2b.uy/victoriassecret   \n",
       "3820939   35339708.0  28816.0               nba.app.link/js6X7SVaxT   \n",
       "701965    30689316.0   3352.0          on.louisvuitton.com/Like2Buy   \n",
       "2414951   30246783.0   2791.0                    tasty.co/linkinbio   \n",
       "2785241   29542143.0    990.0                           mikakus.com   \n",
       "333193    29176804.0   4566.0                         hm.info/1c9he   \n",
       "3934581   29042823.0   4719.0  www.youtube.com/c/ThePrincesSyahrini   \n",
       "1311970   26476004.0   1311.0                         www.ignite.co   \n",
       "1703764   26252169.0   1173.0                    bit.ly/AliAliBlank   \n",
       "\n",
       "                                   cts is_business_account  \n",
       "2880218                            NaN               False  \n",
       "2582507                            NaN                True  \n",
       "3820939                            NaN                True  \n",
       "701965                             NaN                True  \n",
       "2414951                            NaN                True  \n",
       "2785241  2019-05-08 23:54:35.377 -0400               False  \n",
       "333193   2018-05-31 19:33:46.022 -0400                True  \n",
       "3934581  2019-06-26 15:05:53.411 -0400                True  \n",
       "1311970                            NaN                True  \n",
       "1703764  2019-05-14 08:29:29.754 -0400               False  "
      ]
     },
     "execution_count": 12,
     "metadata": {},
     "output_type": "execute_result"
    }
   ],
   "source": [
    "n = 10\n",
    "top_10_profiles = profiles_df.sort_values(by=['followers'], ascending=False).head(n)\n",
    "top_10_profiles\n",
    "\n",
    "# We compute the 10 most followed Instagram accounts."
   ]
  },
  {
   "cell_type": "code",
   "execution_count": 15,
   "id": "8b9424b9",
   "metadata": {},
   "outputs": [
    {
     "data": {
      "text/html": [
       "<div>\n",
       "<style scoped>\n",
       "    .dataframe tbody tr th:only-of-type {\n",
       "        vertical-align: middle;\n",
       "    }\n",
       "\n",
       "    .dataframe tbody tr th {\n",
       "        vertical-align: top;\n",
       "    }\n",
       "\n",
       "    .dataframe thead th {\n",
       "        text-align: right;\n",
       "    }\n",
       "</style>\n",
       "<table border=\"1\" class=\"dataframe\">\n",
       "  <thead>\n",
       "    <tr style=\"text-align: right;\">\n",
       "      <th></th>\n",
       "      <th>sid</th>\n",
       "      <th>profile_id</th>\n",
       "      <th>following</th>\n",
       "      <th>followers</th>\n",
       "      <th>n_posts</th>\n",
       "    </tr>\n",
       "  </thead>\n",
       "  <tbody>\n",
       "    <tr>\n",
       "      <th>count</th>\n",
       "      <td>4.509586e+06</td>\n",
       "      <td>4.477139e+06</td>\n",
       "      <td>3.452771e+06</td>\n",
       "      <td>3.452771e+06</td>\n",
       "      <td>3.452771e+06</td>\n",
       "    </tr>\n",
       "    <tr>\n",
       "      <th>mean</th>\n",
       "      <td>2.255992e+06</td>\n",
       "      <td>3.083302e+09</td>\n",
       "      <td>1.405641e+03</td>\n",
       "      <td>4.739899e+03</td>\n",
       "      <td>4.095414e+02</td>\n",
       "    </tr>\n",
       "    <tr>\n",
       "      <th>std</th>\n",
       "      <td>1.301807e+06</td>\n",
       "      <td>4.266575e+10</td>\n",
       "      <td>8.113473e+03</td>\n",
       "      <td>1.939087e+05</td>\n",
       "      <td>1.041940e+03</td>\n",
       "    </tr>\n",
       "    <tr>\n",
       "      <th>min</th>\n",
       "      <td>1.186000e+03</td>\n",
       "      <td>4.000000e+00</td>\n",
       "      <td>0.000000e+00</td>\n",
       "      <td>0.000000e+00</td>\n",
       "      <td>0.000000e+00</td>\n",
       "    </tr>\n",
       "    <tr>\n",
       "      <th>25%</th>\n",
       "      <td>1.128596e+06</td>\n",
       "      <td>2.735177e+08</td>\n",
       "      <td>3.560000e+02</td>\n",
       "      <td>1.590000e+02</td>\n",
       "      <td>2.200000e+01</td>\n",
       "    </tr>\n",
       "    <tr>\n",
       "      <th>50%</th>\n",
       "      <td>2.255992e+06</td>\n",
       "      <td>1.649248e+09</td>\n",
       "      <td>7.540000e+02</td>\n",
       "      <td>4.060000e+02</td>\n",
       "      <td>1.200000e+02</td>\n",
       "    </tr>\n",
       "    <tr>\n",
       "      <th>75%</th>\n",
       "      <td>3.383389e+06</td>\n",
       "      <td>5.514691e+09</td>\n",
       "      <td>1.573000e+03</td>\n",
       "      <td>9.740000e+02</td>\n",
       "      <td>4.200000e+02</td>\n",
       "    </tr>\n",
       "    <tr>\n",
       "      <th>max</th>\n",
       "      <td>4.510785e+06</td>\n",
       "      <td>9.001013e+13</td>\n",
       "      <td>4.191080e+06</td>\n",
       "      <td>2.854576e+08</td>\n",
       "      <td>1.837300e+05</td>\n",
       "    </tr>\n",
       "  </tbody>\n",
       "</table>\n",
       "</div>"
      ],
      "text/plain": [
       "                sid    profile_id     following     followers       n_posts\n",
       "count  4.509586e+06  4.477139e+06  3.452771e+06  3.452771e+06  3.452771e+06\n",
       "mean   2.255992e+06  3.083302e+09  1.405641e+03  4.739899e+03  4.095414e+02\n",
       "std    1.301807e+06  4.266575e+10  8.113473e+03  1.939087e+05  1.041940e+03\n",
       "min    1.186000e+03  4.000000e+00  0.000000e+00  0.000000e+00  0.000000e+00\n",
       "25%    1.128596e+06  2.735177e+08  3.560000e+02  1.590000e+02  2.200000e+01\n",
       "50%    2.255992e+06  1.649248e+09  7.540000e+02  4.060000e+02  1.200000e+02\n",
       "75%    3.383389e+06  5.514691e+09  1.573000e+03  9.740000e+02  4.200000e+02\n",
       "max    4.510785e+06  9.001013e+13  4.191080e+06  2.854576e+08  1.837300e+05"
      ]
     },
     "execution_count": 15,
     "metadata": {},
     "output_type": "execute_result"
    }
   ],
   "source": [
    "summary_prof = profiles_df.describe()\n",
    "summary_prof"
   ]
  },
  {
   "cell_type": "markdown",
   "id": "c5f2ca5f",
   "metadata": {},
   "source": [
    "We use this code to get a summary of the numerical variables of the dataset. In fact it computes the count, the mean, the standard deviation and the quantiles of the dataset. We have to look only at the columns for \"following\", \"followers\" and \"n_posts\" because \"sid\" and \"profile_id\" are, literally, just IDs. The most important thing we notice is that the mean of the followers for every user is higher than the following."
   ]
  },
  {
   "cell_type": "code",
   "execution_count": 16,
   "id": "362036b4",
   "metadata": {},
   "outputs": [
    {
     "data": {
      "text/html": [
       "<div>\n",
       "<style scoped>\n",
       "    .dataframe tbody tr th:only-of-type {\n",
       "        vertical-align: middle;\n",
       "    }\n",
       "\n",
       "    .dataframe tbody tr th {\n",
       "        vertical-align: top;\n",
       "    }\n",
       "\n",
       "    .dataframe thead th {\n",
       "        text-align: right;\n",
       "    }\n",
       "</style>\n",
       "<table border=\"1\" class=\"dataframe\">\n",
       "  <thead>\n",
       "    <tr style=\"text-align: right;\">\n",
       "      <th></th>\n",
       "      <th>sid</th>\n",
       "      <th>profile_id</th>\n",
       "      <th>profile_name</th>\n",
       "      <th>firstname_lastname</th>\n",
       "      <th>description</th>\n",
       "      <th>following</th>\n",
       "      <th>followers</th>\n",
       "      <th>n_posts</th>\n",
       "      <th>url</th>\n",
       "      <th>cts</th>\n",
       "      <th>is_business_account</th>\n",
       "    </tr>\n",
       "  </thead>\n",
       "  <tbody>\n",
       "    <tr>\n",
       "      <th>0</th>\n",
       "      <td>4184446</td>\n",
       "      <td>4.721050e+09</td>\n",
       "      <td>jphillip033</td>\n",
       "      <td>John Pierce</td>\n",
       "      <td>\"Document Everything Always\"</td>\n",
       "      <td>250.0</td>\n",
       "      <td>146.0</td>\n",
       "      <td>170.0</td>\n",
       "      <td>NaN</td>\n",
       "      <td>2019-08-01 14:38:55.394 -0400</td>\n",
       "      <td>False</td>\n",
       "    </tr>\n",
       "    <tr>\n",
       "      <th>1</th>\n",
       "      <td>4184457</td>\n",
       "      <td>5.905830e+08</td>\n",
       "      <td>mama_haas</td>\n",
       "      <td>Deanna</td>\n",
       "      <td>Trying to enjoy the simple things in life. Kni...</td>\n",
       "      <td>534.0</td>\n",
       "      <td>1145.0</td>\n",
       "      <td>2878.0</td>\n",
       "      <td>www.etsy.com/shop/MamaHaas69</td>\n",
       "      <td>2019-08-01 14:39:36.526 -0400</td>\n",
       "      <td>False</td>\n",
       "    </tr>\n",
       "    <tr>\n",
       "      <th>2</th>\n",
       "      <td>4184460</td>\n",
       "      <td>1.074147e+09</td>\n",
       "      <td>yellowlightbreen</td>\n",
       "      <td>Eliza Gray</td>\n",
       "      <td>Maine is for Lovers</td>\n",
       "      <td>469.0</td>\n",
       "      <td>324.0</td>\n",
       "      <td>431.0</td>\n",
       "      <td>elizajanegray.com</td>\n",
       "      <td>2019-08-01 14:39:54.407 -0400</td>\n",
       "      <td>False</td>\n",
       "    </tr>\n",
       "    <tr>\n",
       "      <th>3</th>\n",
       "      <td>4184461</td>\n",
       "      <td>1.472039e+09</td>\n",
       "      <td>tec1025</td>\n",
       "      <td>Thomas Clark</td>\n",
       "      <td>NaN</td>\n",
       "      <td>NaN</td>\n",
       "      <td>NaN</td>\n",
       "      <td>NaN</td>\n",
       "      <td>NaN</td>\n",
       "      <td>2019-08-01 14:40:06.472 -0400</td>\n",
       "      <td>NaN</td>\n",
       "    </tr>\n",
       "    <tr>\n",
       "      <th>4</th>\n",
       "      <td>4184462</td>\n",
       "      <td>3.531421e+09</td>\n",
       "      <td>luckyfluff</td>\n",
       "      <td>NaN</td>\n",
       "      <td>NaN</td>\n",
       "      <td>NaN</td>\n",
       "      <td>NaN</td>\n",
       "      <td>NaN</td>\n",
       "      <td>NaN</td>\n",
       "      <td>2019-08-01 14:40:07.806 -0400</td>\n",
       "      <td>NaN</td>\n",
       "    </tr>\n",
       "    <tr>\n",
       "      <th>5</th>\n",
       "      <td>4184465</td>\n",
       "      <td>1.450642e+08</td>\n",
       "      <td>sabahlke</td>\n",
       "      <td>Sarah bahlke</td>\n",
       "      <td>NaN</td>\n",
       "      <td>266.0</td>\n",
       "      <td>192.0</td>\n",
       "      <td>590.0</td>\n",
       "      <td>NaN</td>\n",
       "      <td>2019-08-01 14:40:16.443 -0400</td>\n",
       "      <td>False</td>\n",
       "    </tr>\n",
       "    <tr>\n",
       "      <th>6</th>\n",
       "      <td>4184471</td>\n",
       "      <td>2.061868e+09</td>\n",
       "      <td>masslivehs</td>\n",
       "      <td>MassLive High School Sports</td>\n",
       "      <td>Your spot for the best Western Mass. high scho...</td>\n",
       "      <td>157.0</td>\n",
       "      <td>4137.0</td>\n",
       "      <td>753.0</td>\n",
       "      <td>bit.ly/2HIysyv</td>\n",
       "      <td>2019-08-01 14:40:40.390 -0400</td>\n",
       "      <td>True</td>\n",
       "    </tr>\n",
       "    <tr>\n",
       "      <th>7</th>\n",
       "      <td>4184472</td>\n",
       "      <td>1.446651e+09</td>\n",
       "      <td>hvcanes</td>\n",
       "      <td>Hoosac Valley</td>\n",
       "      <td>NaN</td>\n",
       "      <td>NaN</td>\n",
       "      <td>NaN</td>\n",
       "      <td>NaN</td>\n",
       "      <td>NaN</td>\n",
       "      <td>2019-08-01 14:40:52.635 -0400</td>\n",
       "      <td>NaN</td>\n",
       "    </tr>\n",
       "    <tr>\n",
       "      <th>8</th>\n",
       "      <td>4184475</td>\n",
       "      <td>1.743726e+09</td>\n",
       "      <td>will_jay_k</td>\n",
       "      <td>William Kramer</td>\n",
       "      <td>I’d rather die a big death than live a small life</td>\n",
       "      <td>115.0</td>\n",
       "      <td>183.0</td>\n",
       "      <td>37.0</td>\n",
       "      <td>NaN</td>\n",
       "      <td>2019-08-01 14:40:59.969 -0400</td>\n",
       "      <td>False</td>\n",
       "    </tr>\n",
       "    <tr>\n",
       "      <th>9</th>\n",
       "      <td>4184476</td>\n",
       "      <td>5.455198e+09</td>\n",
       "      <td>ashley_downing722</td>\n",
       "      <td>Ashley Downing</td>\n",
       "      <td>NaN</td>\n",
       "      <td>NaN</td>\n",
       "      <td>NaN</td>\n",
       "      <td>NaN</td>\n",
       "      <td>NaN</td>\n",
       "      <td>2019-08-01 14:41:12.826 -0400</td>\n",
       "      <td>NaN</td>\n",
       "    </tr>\n",
       "  </tbody>\n",
       "</table>\n",
       "</div>"
      ],
      "text/plain": [
       "       sid    profile_id       profile_name           firstname_lastname  \\\n",
       "0  4184446  4.721050e+09        jphillip033                  John Pierce   \n",
       "1  4184457  5.905830e+08          mama_haas                       Deanna   \n",
       "2  4184460  1.074147e+09   yellowlightbreen                   Eliza Gray   \n",
       "3  4184461  1.472039e+09            tec1025                 Thomas Clark   \n",
       "4  4184462  3.531421e+09         luckyfluff                          NaN   \n",
       "5  4184465  1.450642e+08           sabahlke                 Sarah bahlke   \n",
       "6  4184471  2.061868e+09         masslivehs  MassLive High School Sports   \n",
       "7  4184472  1.446651e+09            hvcanes                Hoosac Valley   \n",
       "8  4184475  1.743726e+09         will_jay_k               William Kramer   \n",
       "9  4184476  5.455198e+09  ashley_downing722               Ashley Downing   \n",
       "\n",
       "                                         description  following  followers  \\\n",
       "0                       \"Document Everything Always\"      250.0      146.0   \n",
       "1  Trying to enjoy the simple things in life. Kni...      534.0     1145.0   \n",
       "2                                Maine is for Lovers      469.0      324.0   \n",
       "3                                                NaN        NaN        NaN   \n",
       "4                                                NaN        NaN        NaN   \n",
       "5                                                NaN      266.0      192.0   \n",
       "6  Your spot for the best Western Mass. high scho...      157.0     4137.0   \n",
       "7                                                NaN        NaN        NaN   \n",
       "8  I’d rather die a big death than live a small life      115.0      183.0   \n",
       "9                                                NaN        NaN        NaN   \n",
       "\n",
       "   n_posts                           url                            cts  \\\n",
       "0    170.0                           NaN  2019-08-01 14:38:55.394 -0400   \n",
       "1   2878.0  www.etsy.com/shop/MamaHaas69  2019-08-01 14:39:36.526 -0400   \n",
       "2    431.0             elizajanegray.com  2019-08-01 14:39:54.407 -0400   \n",
       "3      NaN                           NaN  2019-08-01 14:40:06.472 -0400   \n",
       "4      NaN                           NaN  2019-08-01 14:40:07.806 -0400   \n",
       "5    590.0                           NaN  2019-08-01 14:40:16.443 -0400   \n",
       "6    753.0                bit.ly/2HIysyv  2019-08-01 14:40:40.390 -0400   \n",
       "7      NaN                           NaN  2019-08-01 14:40:52.635 -0400   \n",
       "8     37.0                           NaN  2019-08-01 14:40:59.969 -0400   \n",
       "9      NaN                           NaN  2019-08-01 14:41:12.826 -0400   \n",
       "\n",
       "  is_business_account  \n",
       "0               False  \n",
       "1               False  \n",
       "2               False  \n",
       "3                 NaN  \n",
       "4                 NaN  \n",
       "5               False  \n",
       "6                True  \n",
       "7                 NaN  \n",
       "8               False  \n",
       "9                 NaN  "
      ]
     },
     "execution_count": 16,
     "metadata": {},
     "output_type": "execute_result"
    }
   ],
   "source": [
    "profiles_df.head(10)"
   ]
  },
  {
   "cell_type": "code",
   "execution_count": 17,
   "id": "68e9fa4e",
   "metadata": {},
   "outputs": [
    {
     "data": {
      "text/plain": [
       "sid                          0\n",
       "profile_id               32447\n",
       "profile_name                 0\n",
       "firstname_lastname      288465\n",
       "description            2055996\n",
       "following              1056815\n",
       "followers              1056815\n",
       "n_posts                1056815\n",
       "url                    3639312\n",
       "cts                     438488\n",
       "is_business_account    1064263\n",
       "dtype: int64"
      ]
     },
     "execution_count": 17,
     "metadata": {},
     "output_type": "execute_result"
    }
   ],
   "source": [
    "profiles_df.isna().sum() # let's check how many NA we have"
   ]
  },
  {
   "cell_type": "code",
   "execution_count": 18,
   "id": "4244ef88",
   "metadata": {},
   "outputs": [],
   "source": [
    "profiles_df.description.fillna('',inplace=True) # let's replace our missing values\n",
    "profiles_df.firstname_lastname.fillna('',inplace=True)\n",
    "profiles_df.url.fillna('',inplace=True)\n",
    "profiles_df.is_business_account.fillna(False,inplace=True)\n",
    "profiles_df.following.fillna(0,inplace=True)\n",
    "profiles_df.followers.fillna(0,inplace=True)\n",
    "profiles_df.n_posts.fillna(0,inplace=True)"
   ]
  },
  {
   "cell_type": "code",
   "execution_count": 19,
   "id": "837ab69a",
   "metadata": {},
   "outputs": [
    {
     "data": {
      "image/png": "[encoded data removed]",
      "text/plain": [
       "<Figure size 864x720 with 2 Axes>"
      ]
     },
     "metadata": {
      "needs_background": "light"
     },
     "output_type": "display_data"
    }
   ],
   "source": [
    "n_posts_ordered = profiles_df.sort_values(by=\"n_posts\", ascending=False)\n",
    "fig, (ax1, ax2) = plt.subplots(ncols=2)\n",
    "\n",
    "n_posts_ordered.plot(kind='box', y=\"n_posts\", ax=ax1) \n",
    "n_posts_ordered.plot(showfliers=False, y=\"n_posts\", kind='box', ax=ax2) \n",
    "\n",
    "plt.title('Boxplot with and without outliers')\n",
    "fig.tight_layout()\n",
    "\n",
    "plt.show()"
   ]
  },
  {
   "cell_type": "markdown",
   "id": "bf230bba",
   "metadata": {},
   "source": [
    "##### Let's study the \"instagram_locations\" dataset"
   ]
  },
  {
   "cell_type": "code",
   "execution_count": 21,
   "id": "e25dfd6a",
   "metadata": {},
   "outputs": [
    {
     "data": {
      "text/html": [
       "<div>\n",
       "<style scoped>\n",
       "    .dataframe tbody tr th:only-of-type {\n",
       "        vertical-align: middle;\n",
       "    }\n",
       "\n",
       "    .dataframe tbody tr th {\n",
       "        vertical-align: top;\n",
       "    }\n",
       "\n",
       "    .dataframe thead th {\n",
       "        text-align: right;\n",
       "    }\n",
       "</style>\n",
       "<table border=\"1\" class=\"dataframe\">\n",
       "  <thead>\n",
       "    <tr style=\"text-align: right;\">\n",
       "      <th></th>\n",
       "      <th>sid</th>\n",
       "      <th>id</th>\n",
       "      <th>lat</th>\n",
       "      <th>lng</th>\n",
       "    </tr>\n",
       "  </thead>\n",
       "  <tbody>\n",
       "    <tr>\n",
       "      <th>count</th>\n",
       "      <td>1.022658e+06</td>\n",
       "      <td>1.022658e+06</td>\n",
       "      <td>1.016495e+06</td>\n",
       "      <td>1.016495e+06</td>\n",
       "    </tr>\n",
       "    <tr>\n",
       "      <th>mean</th>\n",
       "      <td>5.274856e+05</td>\n",
       "      <td>3.152851e+14</td>\n",
       "      <td>-1.529215e+01</td>\n",
       "      <td>3.421718e+01</td>\n",
       "    </tr>\n",
       "    <tr>\n",
       "      <th>std</th>\n",
       "      <td>2.994567e+05</td>\n",
       "      <td>5.795031e+14</td>\n",
       "      <td>7.615085e+01</td>\n",
       "      <td>2.201081e+01</td>\n",
       "    </tr>\n",
       "    <tr>\n",
       "      <th>min</th>\n",
       "      <td>1.000000e+00</td>\n",
       "      <td>7.000000e+00</td>\n",
       "      <td>-1.799830e+02</td>\n",
       "      <td>-9.000000e+01</td>\n",
       "    </tr>\n",
       "    <tr>\n",
       "      <th>25%</th>\n",
       "      <td>2.688392e+05</td>\n",
       "      <td>2.522377e+08</td>\n",
       "      <td>-8.015575e+01</td>\n",
       "      <td>2.997555e+01</td>\n",
       "    </tr>\n",
       "    <tr>\n",
       "      <th>50%</th>\n",
       "      <td>5.300405e+05</td>\n",
       "      <td>8.573350e+08</td>\n",
       "      <td>-2.450000e+00</td>\n",
       "      <td>4.067820e+01</td>\n",
       "    </tr>\n",
       "    <tr>\n",
       "      <th>75%</th>\n",
       "      <td>7.866598e+05</td>\n",
       "      <td>3.304662e+14</td>\n",
       "      <td>3.071740e+01</td>\n",
       "      <td>4.884722e+01</td>\n",
       "    </tr>\n",
       "    <tr>\n",
       "      <th>max</th>\n",
       "      <td>1.043657e+06</td>\n",
       "      <td>2.402148e+16</td>\n",
       "      <td>1.799941e+02</td>\n",
       "      <td>8.999870e+01</td>\n",
       "    </tr>\n",
       "  </tbody>\n",
       "</table>\n",
       "</div>"
      ],
      "text/plain": [
       "                sid            id           lat           lng\n",
       "count  1.022658e+06  1.022658e+06  1.016495e+06  1.016495e+06\n",
       "mean   5.274856e+05  3.152851e+14 -1.529215e+01  3.421718e+01\n",
       "std    2.994567e+05  5.795031e+14  7.615085e+01  2.201081e+01\n",
       "min    1.000000e+00  7.000000e+00 -1.799830e+02 -9.000000e+01\n",
       "25%    2.688392e+05  2.522377e+08 -8.015575e+01  2.997555e+01\n",
       "50%    5.300405e+05  8.573350e+08 -2.450000e+00  4.067820e+01\n",
       "75%    7.866598e+05  3.304662e+14  3.071740e+01  4.884722e+01\n",
       "max    1.043657e+06  2.402148e+16  1.799941e+02  8.999870e+01"
      ]
     },
     "execution_count": 21,
     "metadata": {},
     "output_type": "execute_result"
    }
   ],
   "source": [
    "summary_loc = loc_df.describe()\n",
    "summary_loc"
   ]
  },
  {
   "cell_type": "markdown",
   "id": "39d686d0",
   "metadata": {},
   "source": [
    "We notice that it doesn't make sense to compute the describe function for the locations dataset.\n",
    "In fact, we try running the head to look at the column names.\n",
    "What we figure out is that the important data we need from this dataset is all non numerical so it doesn't make sense to compute any statistical value. The important thing from this dataset is the names of the various locations that Instagram has in the system."
   ]
  },
  {
   "cell_type": "code",
   "execution_count": 22,
   "id": "6399baef",
   "metadata": {},
   "outputs": [
    {
     "data": {
      "text/html": [
       "<div>\n",
       "<style scoped>\n",
       "    .dataframe tbody tr th:only-of-type {\n",
       "        vertical-align: middle;\n",
       "    }\n",
       "\n",
       "    .dataframe tbody tr th {\n",
       "        vertical-align: top;\n",
       "    }\n",
       "\n",
       "    .dataframe thead th {\n",
       "        text-align: right;\n",
       "    }\n",
       "</style>\n",
       "<table border=\"1\" class=\"dataframe\">\n",
       "  <thead>\n",
       "    <tr style=\"text-align: right;\">\n",
       "      <th></th>\n",
       "      <th>sid</th>\n",
       "      <th>id</th>\n",
       "      <th>name</th>\n",
       "      <th>street</th>\n",
       "      <th>zip</th>\n",
       "      <th>city</th>\n",
       "      <th>region</th>\n",
       "      <th>cd</th>\n",
       "      <th>phone</th>\n",
       "      <th>aj_exact_city_match</th>\n",
       "      <th>...</th>\n",
       "      <th>dir_city_name</th>\n",
       "      <th>dir_city_slug</th>\n",
       "      <th>dir_country_id</th>\n",
       "      <th>dir_country_name</th>\n",
       "      <th>lat</th>\n",
       "      <th>lng</th>\n",
       "      <th>primary_alias_on_fb</th>\n",
       "      <th>slug</th>\n",
       "      <th>website</th>\n",
       "      <th>cts</th>\n",
       "    </tr>\n",
       "  </thead>\n",
       "  <tbody>\n",
       "    <tr>\n",
       "      <th>0</th>\n",
       "      <td>719981</td>\n",
       "      <td>110296492939207</td>\n",
       "      <td>Playa de Daimuz - Valencia, España</td>\n",
       "      <td>NaN</td>\n",
       "      <td>NaN</td>\n",
       "      <td>NaN</td>\n",
       "      <td>NaN</td>\n",
       "      <td>NaN</td>\n",
       "      <td>NaN</td>\n",
       "      <td>False</td>\n",
       "      <td>...</td>\n",
       "      <td>NaN</td>\n",
       "      <td>NaN</td>\n",
       "      <td>NaN</td>\n",
       "      <td>NaN</td>\n",
       "      <td>-0.139475</td>\n",
       "      <td>38.974391</td>\n",
       "      <td>daimuzplaya</td>\n",
       "      <td>playa-de-daimuz-valencia-espana</td>\n",
       "      <td>https://es.wikipedia.org/wiki/Daimuz</td>\n",
       "      <td>2019-05-29 01:21:29.987</td>\n",
       "    </tr>\n",
       "    <tr>\n",
       "      <th>1</th>\n",
       "      <td>719983</td>\n",
       "      <td>274391278</td>\n",
       "      <td>Nová Vieska</td>\n",
       "      <td>NaN</td>\n",
       "      <td>NaN</td>\n",
       "      <td>Nová Vieska</td>\n",
       "      <td>NaN</td>\n",
       "      <td>SK</td>\n",
       "      <td>NaN</td>\n",
       "      <td>True</td>\n",
       "      <td>...</td>\n",
       "      <td>Kis-Újfalu</td>\n",
       "      <td>kis-ujfalu</td>\n",
       "      <td>SK</td>\n",
       "      <td>Slovakia</td>\n",
       "      <td>18.466667</td>\n",
       "      <td>47.866667</td>\n",
       "      <td>NaN</td>\n",
       "      <td>nova-vieska</td>\n",
       "      <td>NaN</td>\n",
       "      <td>2019-05-29 01:21:38.037</td>\n",
       "    </tr>\n",
       "    <tr>\n",
       "      <th>2</th>\n",
       "      <td>719985</td>\n",
       "      <td>148885595789195</td>\n",
       "      <td>Everest Today</td>\n",
       "      <td>Himalayas</td>\n",
       "      <td>+977</td>\n",
       "      <td>Kathmandu, Nepal</td>\n",
       "      <td>NaN</td>\n",
       "      <td>NP</td>\n",
       "      <td>NaN</td>\n",
       "      <td>False</td>\n",
       "      <td>...</td>\n",
       "      <td>Pasupati</td>\n",
       "      <td>pasupati</td>\n",
       "      <td>NP</td>\n",
       "      <td>Nepal</td>\n",
       "      <td>85.330150</td>\n",
       "      <td>27.701960</td>\n",
       "      <td>EverestToday</td>\n",
       "      <td>everest-today</td>\n",
       "      <td>NaN</td>\n",
       "      <td>2019-05-29 01:21:46.295</td>\n",
       "    </tr>\n",
       "    <tr>\n",
       "      <th>3</th>\n",
       "      <td>719987</td>\n",
       "      <td>263258277</td>\n",
       "      <td>BULAC - Bibliothèque universitaire des langues...</td>\n",
       "      <td>65, rue des Grands-Moulins</td>\n",
       "      <td>75013</td>\n",
       "      <td>Paris, France</td>\n",
       "      <td>NaN</td>\n",
       "      <td>FR</td>\n",
       "      <td>01 81 69 18 00</td>\n",
       "      <td>False</td>\n",
       "      <td>...</td>\n",
       "      <td>13ème Arrondissement Paris</td>\n",
       "      <td>13eme-arrondissement-paris</td>\n",
       "      <td>FR</td>\n",
       "      <td>France</td>\n",
       "      <td>2.375995</td>\n",
       "      <td>48.827240</td>\n",
       "      <td>BULAC.Paris</td>\n",
       "      <td>bulac-bibliotheque-universitaire-des-langues-e...</td>\n",
       "      <td>www.bulac.fr</td>\n",
       "      <td>2019-05-29 01:21:54.355</td>\n",
       "    </tr>\n",
       "    <tr>\n",
       "      <th>4</th>\n",
       "      <td>326443</td>\n",
       "      <td>406147529857708</td>\n",
       "      <td>ABC Cable Networks Group</td>\n",
       "      <td>3800 W Alameda Ave</td>\n",
       "      <td>91505</td>\n",
       "      <td>Burbank, California</td>\n",
       "      <td>NaN</td>\n",
       "      <td>US</td>\n",
       "      <td>(818) 569-7500</td>\n",
       "      <td>False</td>\n",
       "      <td>...</td>\n",
       "      <td>NaN</td>\n",
       "      <td>NaN</td>\n",
       "      <td>NaN</td>\n",
       "      <td>NaN</td>\n",
       "      <td>-118.341864</td>\n",
       "      <td>34.153265</td>\n",
       "      <td>NaN</td>\n",
       "      <td>abc-cable-networks-group</td>\n",
       "      <td>NaN</td>\n",
       "      <td>2019-04-02 15:22:55.703</td>\n",
       "    </tr>\n",
       "    <tr>\n",
       "      <th>5</th>\n",
       "      <td>326440</td>\n",
       "      <td>242403516699715</td>\n",
       "      <td>The Lakes at Discovery Bay</td>\n",
       "      <td>NaN</td>\n",
       "      <td>NaN</td>\n",
       "      <td>NaN</td>\n",
       "      <td>NaN</td>\n",
       "      <td>NaN</td>\n",
       "      <td>(925) 308-3883</td>\n",
       "      <td>NaN</td>\n",
       "      <td>...</td>\n",
       "      <td>NaN</td>\n",
       "      <td>NaN</td>\n",
       "      <td>NaN</td>\n",
       "      <td>NaN</td>\n",
       "      <td>-121.621549</td>\n",
       "      <td>37.925412</td>\n",
       "      <td>TheLakesatDiscoveryBay</td>\n",
       "      <td>the-lakes-at-discovery-bay</td>\n",
       "      <td>www.TheLakesatDiscoveryBay.com</td>\n",
       "      <td>2019-04-02 15:22:55.367</td>\n",
       "    </tr>\n",
       "    <tr>\n",
       "      <th>6</th>\n",
       "      <td>719988</td>\n",
       "      <td>1651686855080719</td>\n",
       "      <td>Tampines, Singapore</td>\n",
       "      <td>Tampines</td>\n",
       "      <td>529941</td>\n",
       "      <td>Singapore</td>\n",
       "      <td>NaN</td>\n",
       "      <td>SG</td>\n",
       "      <td>NaN</td>\n",
       "      <td>False</td>\n",
       "      <td>...</td>\n",
       "      <td>NaN</td>\n",
       "      <td>NaN</td>\n",
       "      <td>NaN</td>\n",
       "      <td>NaN</td>\n",
       "      <td>103.949729</td>\n",
       "      <td>1.355203</td>\n",
       "      <td>TampinesZingapurA</td>\n",
       "      <td>tampines-singapore</td>\n",
       "      <td>NaN</td>\n",
       "      <td>2019-05-29 01:21:56.635</td>\n",
       "    </tr>\n",
       "    <tr>\n",
       "      <th>7</th>\n",
       "      <td>719992</td>\n",
       "      <td>240487083</td>\n",
       "      <td>Sittano’s Bar &amp; Restaurant</td>\n",
       "      <td>Shop R03 Westfield Penrith, Level 1 / Riley St...</td>\n",
       "      <td>2750</td>\n",
       "      <td>Penrith, New South Wales</td>\n",
       "      <td>NaN</td>\n",
       "      <td>AU</td>\n",
       "      <td>0247224444</td>\n",
       "      <td>False</td>\n",
       "      <td>...</td>\n",
       "      <td>Penrith</td>\n",
       "      <td>penrith</td>\n",
       "      <td>AU</td>\n",
       "      <td>Australia</td>\n",
       "      <td>150.694367</td>\n",
       "      <td>-33.751031</td>\n",
       "      <td>Sittanos</td>\n",
       "      <td>sittanos-bar-restaurant</td>\n",
       "      <td>http://www.sittanos.com.au/</td>\n",
       "      <td>2019-05-29 01:22:12.909</td>\n",
       "    </tr>\n",
       "    <tr>\n",
       "      <th>8</th>\n",
       "      <td>719996</td>\n",
       "      <td>750669435108256</td>\n",
       "      <td>วัดท่าซุง อุทัยธานี</td>\n",
       "      <td>3212</td>\n",
       "      <td>61000</td>\n",
       "      <td>Nam Soem, Uthai Thani, Thailand</td>\n",
       "      <td>NaN</td>\n",
       "      <td>TH</td>\n",
       "      <td>0854623871</td>\n",
       "      <td>False</td>\n",
       "      <td>...</td>\n",
       "      <td>NaN</td>\n",
       "      <td>NaN</td>\n",
       "      <td>NaN</td>\n",
       "      <td>NaN</td>\n",
       "      <td>100.073586</td>\n",
       "      <td>15.329776</td>\n",
       "      <td>NaN</td>\n",
       "      <td>NaN</td>\n",
       "      <td>http://www.watthasung.com</td>\n",
       "      <td>2019-05-29 01:22:27.749</td>\n",
       "    </tr>\n",
       "    <tr>\n",
       "      <th>9</th>\n",
       "      <td>719998</td>\n",
       "      <td>223283275</td>\n",
       "      <td>Cine Atlas</td>\n",
       "      <td>Hatanpään valtatie 1</td>\n",
       "      <td>33100</td>\n",
       "      <td>Tampere, Finland</td>\n",
       "      <td>NaN</td>\n",
       "      <td>FI</td>\n",
       "      <td>NaN</td>\n",
       "      <td>False</td>\n",
       "      <td>...</td>\n",
       "      <td>NaN</td>\n",
       "      <td>NaN</td>\n",
       "      <td>NaN</td>\n",
       "      <td>NaN</td>\n",
       "      <td>23.766263</td>\n",
       "      <td>61.495690</td>\n",
       "      <td>NaN</td>\n",
       "      <td>cine-atlas</td>\n",
       "      <td>http://www.finnkino.fi/cinemas/tampere_cine_atlas</td>\n",
       "      <td>2019-05-29 01:22:35.936</td>\n",
       "    </tr>\n",
       "  </tbody>\n",
       "</table>\n",
       "<p>10 rows × 23 columns</p>\n",
       "</div>"
      ],
      "text/plain": [
       "      sid                id  \\\n",
       "0  719981   110296492939207   \n",
       "1  719983         274391278   \n",
       "2  719985   148885595789195   \n",
       "3  719987         263258277   \n",
       "4  326443   406147529857708   \n",
       "5  326440   242403516699715   \n",
       "6  719988  1651686855080719   \n",
       "7  719992         240487083   \n",
       "8  719996   750669435108256   \n",
       "9  719998         223283275   \n",
       "\n",
       "                                                name  \\\n",
       "0                 Playa de Daimuz - Valencia, España   \n",
       "1                                        Nová Vieska   \n",
       "2                                      Everest Today   \n",
       "3  BULAC - Bibliothèque universitaire des langues...   \n",
       "4                           ABC Cable Networks Group   \n",
       "5                         The Lakes at Discovery Bay   \n",
       "6                                Tampines, Singapore   \n",
       "7                         Sittano’s Bar & Restaurant   \n",
       "8                                วัดท่าซุง อุทัยธานี   \n",
       "9                                         Cine Atlas   \n",
       "\n",
       "                                              street     zip  \\\n",
       "0                                                NaN     NaN   \n",
       "1                                                NaN     NaN   \n",
       "2                                          Himalayas    +977   \n",
       "3                         65, rue des Grands-Moulins   75013   \n",
       "4                                 3800 W Alameda Ave   91505   \n",
       "5                                                NaN     NaN   \n",
       "6                                           Tampines  529941   \n",
       "7  Shop R03 Westfield Penrith, Level 1 / Riley St...    2750   \n",
       "8                                               3212   61000   \n",
       "9                               Hatanpään valtatie 1   33100   \n",
       "\n",
       "                              city region   cd           phone  \\\n",
       "0                              NaN    NaN  NaN             NaN   \n",
       "1                      Nová Vieska    NaN   SK             NaN   \n",
       "2                 Kathmandu, Nepal    NaN   NP             NaN   \n",
       "3                    Paris, France    NaN   FR  01 81 69 18 00   \n",
       "4              Burbank, California    NaN   US  (818) 569-7500   \n",
       "5                              NaN    NaN  NaN  (925) 308-3883   \n",
       "6                        Singapore    NaN   SG             NaN   \n",
       "7         Penrith, New South Wales    NaN   AU      0247224444   \n",
       "8  Nam Soem, Uthai Thani, Thailand    NaN   TH      0854623871   \n",
       "9                 Tampere, Finland    NaN   FI             NaN   \n",
       "\n",
       "  aj_exact_city_match  ...               dir_city_name  \\\n",
       "0               False  ...                         NaN   \n",
       "1                True  ...                  Kis-Újfalu   \n",
       "2               False  ...                    Pasupati   \n",
       "3               False  ...  13ème Arrondissement Paris   \n",
       "4               False  ...                         NaN   \n",
       "5                 NaN  ...                         NaN   \n",
       "6               False  ...                         NaN   \n",
       "7               False  ...                     Penrith   \n",
       "8               False  ...                         NaN   \n",
       "9               False  ...                         NaN   \n",
       "\n",
       "                dir_city_slug dir_country_id dir_country_name         lat  \\\n",
       "0                         NaN            NaN              NaN   -0.139475   \n",
       "1                  kis-ujfalu             SK         Slovakia   18.466667   \n",
       "2                    pasupati             NP            Nepal   85.330150   \n",
       "3  13eme-arrondissement-paris             FR           France    2.375995   \n",
       "4                         NaN            NaN              NaN -118.341864   \n",
       "5                         NaN            NaN              NaN -121.621549   \n",
       "6                         NaN            NaN              NaN  103.949729   \n",
       "7                     penrith             AU        Australia  150.694367   \n",
       "8                         NaN            NaN              NaN  100.073586   \n",
       "9                         NaN            NaN              NaN   23.766263   \n",
       "\n",
       "         lng     primary_alias_on_fb  \\\n",
       "0  38.974391             daimuzplaya   \n",
       "1  47.866667                     NaN   \n",
       "2  27.701960            EverestToday   \n",
       "3  48.827240             BULAC.Paris   \n",
       "4  34.153265                     NaN   \n",
       "5  37.925412  TheLakesatDiscoveryBay   \n",
       "6   1.355203       TampinesZingapurA   \n",
       "7 -33.751031                Sittanos   \n",
       "8  15.329776                     NaN   \n",
       "9  61.495690                     NaN   \n",
       "\n",
       "                                                slug  \\\n",
       "0                    playa-de-daimuz-valencia-espana   \n",
       "1                                        nova-vieska   \n",
       "2                                      everest-today   \n",
       "3  bulac-bibliotheque-universitaire-des-langues-e...   \n",
       "4                           abc-cable-networks-group   \n",
       "5                         the-lakes-at-discovery-bay   \n",
       "6                                 tampines-singapore   \n",
       "7                            sittanos-bar-restaurant   \n",
       "8                                                NaN   \n",
       "9                                         cine-atlas   \n",
       "\n",
       "                                             website                      cts  \n",
       "0               https://es.wikipedia.org/wiki/Daimuz  2019-05-29 01:21:29.987  \n",
       "1                                                NaN  2019-05-29 01:21:38.037  \n",
       "2                                                NaN  2019-05-29 01:21:46.295  \n",
       "3                                       www.bulac.fr  2019-05-29 01:21:54.355  \n",
       "4                                                NaN  2019-04-02 15:22:55.703  \n",
       "5                     www.TheLakesatDiscoveryBay.com  2019-04-02 15:22:55.367  \n",
       "6                                                NaN  2019-05-29 01:21:56.635  \n",
       "7                        http://www.sittanos.com.au/  2019-05-29 01:22:12.909  \n",
       "8                          http://www.watthasung.com  2019-05-29 01:22:27.749  \n",
       "9  http://www.finnkino.fi/cinemas/tampere_cine_atlas  2019-05-29 01:22:35.936  \n",
       "\n",
       "[10 rows x 23 columns]"
      ]
     },
     "execution_count": 22,
     "metadata": {},
     "output_type": "execute_result"
    }
   ],
   "source": [
    "loc_df.head(10)"
   ]
  },
  {
   "cell_type": "markdown",
   "id": "4c98eab1",
   "metadata": {},
   "source": [
    "##### Let's study the \"instagram_posts\" dataset"
   ]
  },
  {
   "cell_type": "markdown",
   "id": "3b3dfd63",
   "metadata": {},
   "source": [
    "Since the \"instagram_posts\" dataset is such a \"heavy\" dataset we don't run it fully but we only use the columns needed for every exercises using the command \"usecols\" in the \"pd.read_csv\" line. Although, to do this exploratory we can run just a few rows so we can look at the variables we're working with."
   ]
  },
  {
   "cell_type": "code",
   "execution_count": 24,
   "id": "dae6016e",
   "metadata": {},
   "outputs": [
    {
     "data": {
      "text/html": [
       "<div>\n",
       "<style scoped>\n",
       "    .dataframe tbody tr th:only-of-type {\n",
       "        vertical-align: middle;\n",
       "    }\n",
       "\n",
       "    .dataframe tbody tr th {\n",
       "        vertical-align: top;\n",
       "    }\n",
       "\n",
       "    .dataframe thead th {\n",
       "        text-align: right;\n",
       "    }\n",
       "</style>\n",
       "<table border=\"1\" class=\"dataframe\">\n",
       "  <thead>\n",
       "    <tr style=\"text-align: right;\">\n",
       "      <th></th>\n",
       "      <th>sid</th>\n",
       "      <th>sid_profile</th>\n",
       "      <th>post_id</th>\n",
       "      <th>profile_id</th>\n",
       "      <th>location_id</th>\n",
       "      <th>cts</th>\n",
       "      <th>post_type</th>\n",
       "      <th>description</th>\n",
       "      <th>numbr_likes</th>\n",
       "      <th>number_comments</th>\n",
       "    </tr>\n",
       "  </thead>\n",
       "  <tbody>\n",
       "    <tr>\n",
       "      <th>0</th>\n",
       "      <td>28370919</td>\n",
       "      <td>3496776</td>\n",
       "      <td>BXdjjUlgcgq</td>\n",
       "      <td>2237947779</td>\n",
       "      <td>1022366247837915</td>\n",
       "      <td>2017-08-06 20:06:57.000</td>\n",
       "      <td>2</td>\n",
       "      <td>Wreckloose! Deevalley bike park laps on the @i...</td>\n",
       "      <td>80</td>\n",
       "      <td>0</td>\n",
       "    </tr>\n",
       "    <tr>\n",
       "      <th>1</th>\n",
       "      <td>28370932</td>\n",
       "      <td>-1</td>\n",
       "      <td>BVg0pbolYBC</td>\n",
       "      <td>5579335020</td>\n",
       "      <td>457426771112991</td>\n",
       "      <td>2017-06-19 09:31:16.000</td>\n",
       "      <td>1</td>\n",
       "      <td>🙌🏼 believe in ya dreams 🙌🏼 just like I believe...</td>\n",
       "      <td>25</td>\n",
       "      <td>1</td>\n",
       "    </tr>\n",
       "    <tr>\n",
       "      <th>2</th>\n",
       "      <td>28370933</td>\n",
       "      <td>-1</td>\n",
       "      <td>BRgkjcXFp3Q</td>\n",
       "      <td>313429634</td>\n",
       "      <td>457426771112991</td>\n",
       "      <td>2017-03-11 20:05:03.000</td>\n",
       "      <td>1</td>\n",
       "      <td>#meraviglia #incensi #the #candele #profumo #a...</td>\n",
       "      <td>9</td>\n",
       "      <td>0</td>\n",
       "    </tr>\n",
       "    <tr>\n",
       "      <th>3</th>\n",
       "      <td>28370934</td>\n",
       "      <td>-1</td>\n",
       "      <td>BKTKeNhjEA7</td>\n",
       "      <td>1837592700</td>\n",
       "      <td>457426771112991</td>\n",
       "      <td>2016-09-13 16:27:16.000</td>\n",
       "      <td>1</td>\n",
       "      <td>#teatime #scorpion #friends #love #mountains #...</td>\n",
       "      <td>4</td>\n",
       "      <td>0</td>\n",
       "    </tr>\n",
       "    <tr>\n",
       "      <th>4</th>\n",
       "      <td>28370935</td>\n",
       "      <td>-1</td>\n",
       "      <td>8-NQrvoYLX</td>\n",
       "      <td>1131527143</td>\n",
       "      <td>457426771112991</td>\n",
       "      <td>2015-10-18 10:19:27.000</td>\n",
       "      <td>1</td>\n",
       "      <td>thE sky gavE mE a #constEllation</td>\n",
       "      <td>8</td>\n",
       "      <td>0</td>\n",
       "    </tr>\n",
       "  </tbody>\n",
       "</table>\n",
       "</div>"
      ],
      "text/plain": [
       "        sid  sid_profile      post_id  profile_id       location_id  \\\n",
       "0  28370919      3496776  BXdjjUlgcgq  2237947779  1022366247837915   \n",
       "1  28370932           -1  BVg0pbolYBC  5579335020   457426771112991   \n",
       "2  28370933           -1  BRgkjcXFp3Q   313429634   457426771112991   \n",
       "3  28370934           -1  BKTKeNhjEA7  1837592700   457426771112991   \n",
       "4  28370935           -1   8-NQrvoYLX  1131527143   457426771112991   \n",
       "\n",
       "                       cts  post_type  \\\n",
       "0  2017-08-06 20:06:57.000          2   \n",
       "1  2017-06-19 09:31:16.000          1   \n",
       "2  2017-03-11 20:05:03.000          1   \n",
       "3  2016-09-13 16:27:16.000          1   \n",
       "4  2015-10-18 10:19:27.000          1   \n",
       "\n",
       "                                         description  numbr_likes  \\\n",
       "0  Wreckloose! Deevalley bike park laps on the @i...           80   \n",
       "1  🙌🏼 believe in ya dreams 🙌🏼 just like I believe...           25   \n",
       "2  #meraviglia #incensi #the #candele #profumo #a...            9   \n",
       "3  #teatime #scorpion #friends #love #mountains #...            4   \n",
       "4                   thE sky gavE mE a #constEllation            8   \n",
       "\n",
       "   number_comments  \n",
       "0                0  \n",
       "1                1  \n",
       "2                0  \n",
       "3                0  \n",
       "4                0  "
      ]
     },
     "execution_count": 24,
     "metadata": {},
     "output_type": "execute_result"
    }
   ],
   "source": [
    "test_posts_df = pd.read_csv(path_to_posts, delimiter='\\t', nrows = 5)\n",
    "test_posts_df"
   ]
  },
  {
   "cell_type": "markdown",
   "id": "eb1de7c4-dd28-447c-b161-b7f456289bd6",
   "metadata": {
    "tags": []
   },
   "source": [
    "### Research Question 2\n"
   ]
  },
  {
   "cell_type": "markdown",
   "id": "976f0084-5fd7-47e0-948b-500dc88035cc",
   "metadata": {},
   "source": [
    "#### Plot the number of posts for each profile in descending order."
   ]
  },
  {
   "cell_type": "code",
   "execution_count": 25,
   "id": "5fd2f064-3e48-46e9-8b52-8f72c112eed9",
   "metadata": {},
   "outputs": [
    {
     "data": {
      "text/plain": [
       "Text(0, 0.5, 'log(# Profiles)')"
      ]
     },
     "execution_count": 25,
     "metadata": {},
     "output_type": "execute_result"
    },
    {
     "data": {
      "image/png": "[encoded data removed]",
      "text/plain": [
       "<Figure size 864x720 with 1 Axes>"
      ]
     },
     "metadata": {
      "needs_background": "light"
     },
     "output_type": "display_data"
    }
   ],
   "source": [
    "sorted_profiles = profiles_df.sort_values(by='n_posts', ascending=False)\n",
    "sorted_profiles.dropna(subset=['n_posts'], inplace=True)\n",
    "sorted_profiles['n_posts'].plot(kind='hist', logy=True, bins=50, edgecolor='black')\n",
    "plt.xlabel('# Posts')\n",
    "plt.ylabel('log(# Profiles)')\n",
    "\n",
    "# There's a problem with this graph since \n",
    "# we should get an ascending plot."
   ]
  },
  {
   "cell_type": "markdown",
   "id": "2604ee0c-a885-400b-a03d-807af3c1ad60",
   "metadata": {
    "tags": []
   },
   "source": [
    "#### What posts have the highest number of \"likes\"?"
   ]
  },
  {
   "cell_type": "code",
   "execution_count": 28,
   "id": "546ca24b",
   "metadata": {},
   "outputs": [],
   "source": [
    "data_posts = pd.read_csv(path_to_posts, delimiter='\\t', usecols = [\"post_id\", \"post_type\", \"profile_id\", \"numbr_likes\", \"number_comments\", \"location_id\"])"
   ]
  },
  {
   "cell_type": "code",
   "execution_count": 29,
   "id": "09315e0b",
   "metadata": {},
   "outputs": [
    {
     "data": {
      "text/html": [
       "<div>\n",
       "<style scoped>\n",
       "    .dataframe tbody tr th:only-of-type {\n",
       "        vertical-align: middle;\n",
       "    }\n",
       "\n",
       "    .dataframe tbody tr th {\n",
       "        vertical-align: top;\n",
       "    }\n",
       "\n",
       "    .dataframe thead th {\n",
       "        text-align: right;\n",
       "    }\n",
       "</style>\n",
       "<table border=\"1\" class=\"dataframe\">\n",
       "  <thead>\n",
       "    <tr style=\"text-align: right;\">\n",
       "      <th></th>\n",
       "      <th>post_id</th>\n",
       "      <th>profile_id</th>\n",
       "      <th>location_id</th>\n",
       "      <th>post_type</th>\n",
       "      <th>numbr_likes</th>\n",
       "      <th>number_comments</th>\n",
       "    </tr>\n",
       "  </thead>\n",
       "  <tbody>\n",
       "    <tr>\n",
       "      <th>19624085</th>\n",
       "      <td>Bt3yaXmAM0d</td>\n",
       "      <td>49067778.0</td>\n",
       "      <td>NaN</td>\n",
       "      <td>1</td>\n",
       "      <td>8822952.0</td>\n",
       "      <td>165886.0</td>\n",
       "    </tr>\n",
       "    <tr>\n",
       "      <th>19623988</th>\n",
       "      <td>BuwffB7g8cK</td>\n",
       "      <td>49067778.0</td>\n",
       "      <td>NaN</td>\n",
       "      <td>1</td>\n",
       "      <td>5447066.0</td>\n",
       "      <td>25303.0</td>\n",
       "    </tr>\n",
       "    <tr>\n",
       "      <th>19624082</th>\n",
       "      <td>Buc1gyZAaMQ</td>\n",
       "      <td>49067778.0</td>\n",
       "      <td>NaN</td>\n",
       "      <td>1</td>\n",
       "      <td>5116398.0</td>\n",
       "      <td>40608.0</td>\n",
       "    </tr>\n",
       "    <tr>\n",
       "      <th>19623986</th>\n",
       "      <td>BvcukE8AMuG</td>\n",
       "      <td>49067778.0</td>\n",
       "      <td>NaN</td>\n",
       "      <td>1</td>\n",
       "      <td>4271466.0</td>\n",
       "      <td>30770.0</td>\n",
       "    </tr>\n",
       "    <tr>\n",
       "      <th>39701024</th>\n",
       "      <td>BqSLFVBFLfq</td>\n",
       "      <td>427553890.0</td>\n",
       "      <td>3.214182e+14</td>\n",
       "      <td>1</td>\n",
       "      <td>4264745.0</td>\n",
       "      <td>18691.0</td>\n",
       "    </tr>\n",
       "  </tbody>\n",
       "</table>\n",
       "</div>"
      ],
      "text/plain": [
       "              post_id   profile_id   location_id  post_type  numbr_likes  \\\n",
       "19624085  Bt3yaXmAM0d   49067778.0           NaN          1    8822952.0   \n",
       "19623988  BuwffB7g8cK   49067778.0           NaN          1    5447066.0   \n",
       "19624082  Buc1gyZAaMQ   49067778.0           NaN          1    5116398.0   \n",
       "19623986  BvcukE8AMuG   49067778.0           NaN          1    4271466.0   \n",
       "39701024  BqSLFVBFLfq  427553890.0  3.214182e+14          1    4264745.0   \n",
       "\n",
       "          number_comments  \n",
       "19624085         165886.0  \n",
       "19623988          25303.0  \n",
       "19624082          40608.0  \n",
       "19623986          30770.0  \n",
       "39701024          18691.0  "
      ]
     },
     "execution_count": 29,
     "metadata": {},
     "output_type": "execute_result"
    }
   ],
   "source": [
    "max_likes = data_posts.sort_values(by=\"numbr_likes\", ascending=False)\n",
    "max_likes.head()"
   ]
  },
  {
   "cell_type": "markdown",
   "id": "ac59aee0-d2e7-4afc-846c-d3be18a70059",
   "metadata": {
    "tags": []
   },
   "source": [
    "#### What posts have the most and the least number of comments?"
   ]
  },
  {
   "cell_type": "code",
   "execution_count": 30,
   "id": "f295519f-a59e-49c1-a5ac-5537db595670",
   "metadata": {},
   "outputs": [
    {
     "name": "stdout",
     "output_type": "stream",
     "text": [
      "The posts with the smallest number of comments is:  post_id              BzWK_KVgiXi\n",
      "profile_id         10990845790.0\n",
      "location_id          249436045.0\n",
      "post_type                      1\n",
      "numbr_likes                  3.0\n",
      "number_comments              0.0\n",
      "Name: 13108581, dtype: object\n",
      "The posts with the gratest number of comments is:  post_id            BipsAY-nIZK\n",
      "profile_id                 NaN\n",
      "location_id                NaN\n",
      "post_type                    1\n",
      "numbr_likes                NaN\n",
      "number_comments            NaN\n",
      "Name: 19917787, dtype: object\n"
     ]
    }
   ],
   "source": [
    "data_posts.sort_values(by = 'number_comments', axis = 0, inplace = True)\n",
    "data_posts['number_comments']\n",
    "print(\"The posts with the smallest number of comments is: \", data_posts.iloc[1])\n",
    "print(\"The posts with the gratest number of comments is: \", data_posts.iloc[-1])"
   ]
  },
  {
   "cell_type": "markdown",
   "id": "dd654bd2-1362-41c3-a104-e15796e20c26",
   "metadata": {},
   "source": [
    "#### How many posts include tagged locations, and how many do not? Show it using an appropriate chart and comment your results."
   ]
  },
  {
   "cell_type": "code",
   "execution_count": 31,
   "id": "9ec4a15b",
   "metadata": {},
   "outputs": [],
   "source": [
    "noloc = data_posts[\"location_id\"].isna().sum()\n",
    "noloc = np.array(int(noloc))"
   ]
  },
  {
   "cell_type": "code",
   "execution_count": 34,
   "id": "ef14dd33",
   "metadata": {},
   "outputs": [],
   "source": [
    "wloc = len(data_posts[\"location_id\"]) - noloc\n",
    "wloc = np.array(int(wloc))"
   ]
  },
  {
   "cell_type": "code",
   "execution_count": 35,
   "id": "e7b61ebe",
   "metadata": {},
   "outputs": [],
   "source": [
    "data = [wloc,noloc]"
   ]
  },
  {
   "cell_type": "code",
   "execution_count": 37,
   "id": "7a8d489e-ee73-484a-b133-dd598d189188",
   "metadata": {},
   "outputs": [
    {
     "data": {
      "image/png": "[encoded data removed]",
      "text/plain": [
       "<Figure size 720x504 with 1 Axes>"
      ]
     },
     "metadata": {},
     "output_type": "display_data"
    }
   ],
   "source": [
    "lab = [\"W/out location\", \"W/ location\"]\n",
    "color = [\"green\", \"blue\"]\n",
    "myexplode = [0.2, 0]\n",
    "fig = plt.figure(figsize = (10, 7))\n",
    "plt.pie(data, labels = lab, \n",
    "        colors = color, \n",
    "        shadow = True, \n",
    "        explode = myexplode)\n",
    " \n",
    "# Show plot\n",
    "plt.show()"
   ]
  },
  {
   "cell_type": "markdown",
   "id": "af3b1119",
   "metadata": {},
   "source": [
    "We use the pie plot to show the proportion between the posts without the location and with the location. As we can tell the number of posts with no location is higher than the ones with the location. This means that not many people add the Location to their posts"
   ]
  },
  {
   "cell_type": "markdown",
   "id": "eec7a174-a160-4daf-b95e-5d618e4beb30",
   "metadata": {
    "tags": []
   },
   "source": [
    "#### How many posts include only photos? How many also have videos?"
   ]
  },
  {
   "cell_type": "code",
   "execution_count": 38,
   "id": "f2dd7f26-252f-4fa0-b987-6dfbcd102c91",
   "metadata": {
    "scrolled": true
   },
   "outputs": [
    {
     "name": "stdout",
     "output_type": "stream",
     "text": [
      "41534486 posts includes only photos\n",
      "40943 posts includes both videos and photos\n"
     ]
    }
   ],
   "source": [
    "#1 - Photo, 2 - Video, 3 - Multy\n",
    "print(data_posts['post_type'].value_counts()[1], 'posts includes only photos')\n",
    "print(data_posts['post_type'].value_counts()[3], 'posts includes both videos and photos')"
   ]
  },
  {
   "cell_type": "markdown",
   "id": "4aa237cf-c123-4265-bb4c-91b6a9944507",
   "metadata": {
    "tags": []
   },
   "source": [
    "#### What's the percentage of business accounts vs non-business? What can you interpret regarding that percentage?\n"
   ]
  },
  {
   "cell_type": "code",
   "execution_count": 39,
   "id": "f991ae17-fa61-4a9f-b1e7-893df5fedffc",
   "metadata": {},
   "outputs": [
    {
     "data": {
      "image/png": "[encoded data removed]",
      "text/plain": [
       "<Figure size 864x720 with 1 Axes>"
      ]
     },
     "metadata": {},
     "output_type": "display_data"
    }
   ],
   "source": [
    "N = len(profiles_df)\n",
    "n_business_na = profiles_df['is_business_account'].isna().sum()\n",
    "n_business_false = profiles_df['is_business_account'].value_counts()[False]\n",
    "n_business_true = profiles_df['is_business_account'].value_counts()[True]\n",
    "\n",
    "labels = ['nan', 'True', 'False']\n",
    "\n",
    "plt.pie([n_business_na, n_business_true, n_business_false], labels=labels, explode=[.1, 0, 0], autopct='%1.1f%%', \n",
    "        wedgeprops={\"edgecolor\": \"black\"})\n",
    "plt.title('% of business accounts')\n",
    "\n",
    "plt.show()"
   ]
  },
  {
   "cell_type": "markdown",
   "id": "354f65fe",
   "metadata": {},
   "source": [
    "From this plot we can tell that there are way more non-business accounts than business ones. This is probably because there's a bigger percentage of people that uses Instagram as a social for fun than businesses that, maybe, want to use the platform as a way of showing their assets."
   ]
  },
  {
   "cell_type": "markdown",
   "id": "7c64f8da-80ce-4571-90bf-61ff1365e4b7",
   "metadata": {},
   "source": [
    "### Research Question 3"
   ]
  },
  {
   "cell_type": "markdown",
   "id": "fb362bed-4720-448f-82ef-5151a4c735a3",
   "metadata": {},
   "source": [
    "#### What is the most common time in which users publish their posts?"
   ]
  },
  {
   "cell_type": "code",
   "execution_count": 3,
   "id": "3a0e4ead-00e0-4446-8e50-42b81e84a7c5",
   "metadata": {},
   "outputs": [],
   "source": [
    "columns = ['cts']\n",
    "posts_df = pd.to_datetime(pd.read_csv(path_to_posts, delimiter='\\t', usecols=columns).dropna().stack()).unstack()"
   ]
  },
  {
   "cell_type": "code",
   "execution_count": 4,
   "id": "1ef0227c-1701-4bd8-8bcf-8933533f561b",
   "metadata": {},
   "outputs": [
    {
     "data": {
      "image/png": "[encoded data removed]",
      "text/plain": [
       "<Figure size 432x288 with 1 Axes>"
      ]
     },
     "metadata": {
      "needs_background": "light"
     },
     "output_type": "display_data"
    }
   ],
   "source": [
    "# We form bins to have divide each day in three time slots\n",
    "\n",
    "bins = pd.IntervalIndex.from_tuples([(0, 7), (8, 15), (16, 23)])\n",
    "\n",
    "labels = [\"Sunday Night\", \"Early Monday\", \"Late Monday\", \n",
    "          \"Monday Night\", \"Early Tuesday\", \"Late Tuesday\", \n",
    "          \"Tuesday Night\", \"Early Wednesday\", \"Late Wednesday\", \n",
    "          \"Wednesday Night\", \"Early Thursday\", \"Late Thursday\", \n",
    "          \"Thursday Night\", \"Early Friday\", \"Late Friday\", \n",
    "          \"Friday Night\", \"Early Saturday\", \"Late Saturday\", \n",
    "          \"Saturday Night\", \"Early Sunday\", \"Late Sunday\"]\n",
    "\n",
    "loc = range(len(labels))\n",
    "\n",
    "# The following statement groups the posts_df by weekdays and then by the above-mentioned bins \n",
    "# then we count the values in each group and finally plot it as a bar graph\n",
    "\n",
    "posts_df.groupby([posts_df[\"cts\"].dt.weekday, \n",
    "                  pd.cut(posts_df[\"cts\"].dt.hour, bins=bins)]).count().plot(kind=\"bar\",\n",
    "                                                                            edgecolor=\"black\")\n",
    "plt.xlabel(\"Time\")\n",
    "plt.ylabel(\"#Posts [millions]\")\n",
    "plt.xticks(loc, labels, rotation=\"vertical\")\n",
    "plt.show()\n"
   ]
  },
  {
   "cell_type": "markdown",
   "id": "49ff10ac",
   "metadata": {},
   "source": [
    "Note that: Night is the time interval from 24:00 to 07:59. \\\n",
    "           Early is the time interval from 08:00 to 15.59. \\\n",
    "           Late  is the time interval from 16:00 to 23:59.\n",
    "\n",
    "From the plot we can see that the most common time to post on Instagram is late sunday."
   ]
  },
  {
   "cell_type": "markdown",
   "id": "2909a012-2608-4834-8cbb-5c1ac2478d3f",
   "metadata": {},
   "source": [
    "#### Create a function that receives a time intervals list as a parameter and returns a plot with the number of posts for each given interval."
   ]
  },
  {
   "cell_type": "code",
   "execution_count": 26,
   "id": "dfc7cfe0-1427-4c28-bdd7-3ed14a1247dd",
   "metadata": {},
   "outputs": [],
   "source": [
    "def time_to_plot(list_of_intervals):\n",
    "    bin_list = [] # It stores start and end times of each interval\n",
    "    labels = []   # This is useful for plotting x labels\n",
    "    for t_0, t_end in list_of_intervals:\n",
    "        labels.append(' -> '.join([t_0, t_end]))\n",
    "        \n",
    "        t_0 = pd.to_datetime(t_0).time()\n",
    "        t_end = pd.to_datetime(t_end).time()\n",
    "        \n",
    "        bin_list.append((t_0.hour, t_end.hour))\n",
    "    \n",
    "    loc = range(len(labels))\n",
    "    bins = pd.IntervalIndex.from_tuples(bin_list) # Create pandas bins for grouping\n",
    "    result_df = posts_df.groupby(pd.cut(posts_df[\"cts\"].dt.hour, bins=bins)).count()\n",
    "    \n",
    "    result_df.plot(kind=\"bar\", edgecolor=\"black\")\n",
    "   \n",
    "    plt.xlabel(\"Time\")\n",
    "    plt.ylabel(\"#Posts [millions]\")\n",
    "    plt.xticks(loc, labels, rotation=\"vertical\")\n",
    "    plt.show()"
   ]
  },
  {
   "cell_type": "markdown",
   "id": "c0cb81d7-f792-44c5-bf0c-874a55d7d6d2",
   "metadata": {},
   "source": [
    "#### Use the function that you created in the previous literal to plot the number of posts between the following time intervals."
   ]
  },
  {
   "cell_type": "code",
   "execution_count": 27,
   "id": "66917d6f-6516-4cda-b38b-f6344916bd80",
   "metadata": {},
   "outputs": [
    {
     "name": "stdout",
     "output_type": "stream",
     "text": [
      "              cts\n",
      "cts              \n",
      "(6, 10]   5366649\n",
      "(11, 13]  3894113\n",
      "(14, 16]  4604061\n",
      "(17, 19]  4986139\n",
      "(20, 23]  6420525\n",
      "(0, 2]    2666581\n",
      "(3, 5]    2179579\n"
     ]
    },
    {
     "data": {
      "image/png": "[encoded data removed]",
      "text/plain": [
       "<Figure size 432x288 with 1 Axes>"
      ]
     },
     "metadata": {
      "needs_background": "light"
     },
     "output_type": "display_data"
    }
   ],
   "source": [
    "time_intervals = [(\"06:00:00\", \"10:59:59\"), \n",
    "                  (\"11:00:00\", \"13:59:59\"), \n",
    "                  (\"14:00:00\", \"16:59:59\"), \n",
    "                  (\"17:00:00\", \"19:59:59\"), \n",
    "                  (\"20:00:00\", \"23:59:59\"),\n",
    "                  (\"00:00:00\", \"02:59:59\"),\n",
    "                  (\"03:00:00\", \"05:59:59\")]\n",
    "\n",
    "time_to_plot(time_intervals)"
   ]
  },
  {
   "cell_type": "markdown",
   "id": "7ee87cb5-5e3e-4c29-9877-88a0ba48e31d",
   "metadata": {},
   "source": [
    "### Research Question 4"
   ]
  },
  {
   "cell_type": "markdown",
   "id": "fef4e9b1",
   "metadata": {},
   "source": [
    "#### In most cases, we will not have a consistent dataset, and the one we are dealing with is not an exception (ex. in the given datasets, you may not find the information of the profiles for some of the posts). So let’s enhance our analysis"
   ]
  },
  {
   "cell_type": "markdown",
   "id": "aa756ad9",
   "metadata": {},
   "source": [
    "#### Write a function that, given a profile_id, will be able to return the posts that belong to the given profile_id."
   ]
  },
  {
   "cell_type": "code",
   "execution_count": 43,
   "id": "08bfa2c7",
   "metadata": {},
   "outputs": [],
   "source": [
    "def find_posts(profile_id, df):\n",
    "    post_id = df.loc[df['profile_id'] == profile_id]\n",
    "    return post_id\n"
   ]
  },
  {
   "cell_type": "markdown",
   "id": "b2a565df",
   "metadata": {},
   "source": [
    "#### Write another function that, given an input n (an integer), will return the posts that belong to the n top posted profiles \n"
   ]
  },
  {
   "cell_type": "code",
   "execution_count": 61,
   "id": "ff8874ff",
   "metadata": {},
   "outputs": [],
   "source": [
    "def n_top_posted(n, df):\n",
    "  # top_profile = []\n",
    "    posts = pd.DataFrame()\n",
    "  \n",
    "    top_profiles = profiles_df.sort_values('n_posts', ascending = False)\n",
    "    # Retrieve from 'profile.csv' the profiles that posted the higher number of posts\n",
    "    for i in range(n):\n",
    "    \n",
    "        posts = posts.append(find_posts(top_profiles.loc[i, 'profile_id'], df), ignore_index = True) # Find posts for the top profiles\n",
    "        #print(posts)\n",
    "        #top_profile.append(top_profiles.loc[i, 'profile_name']) \n",
    "        #print(top_profile)\n",
    "        return posts"
   ]
  },
  {
   "cell_type": "code",
   "execution_count": 56,
   "id": "ff86a951",
   "metadata": {},
   "outputs": [],
   "source": [
    "columns = ['profile_id' , 'numbr_likes', 'number_comments', 'cts']\n",
    "data_posts = pd.read_csv(path_to_posts, usecols = columns, delimiter='\\t')"
   ]
  },
  {
   "cell_type": "code",
   "execution_count": 57,
   "id": "2400464f",
   "metadata": {},
   "outputs": [],
   "source": [
    "data_posts['cts'] = pd.to_datetime(data_posts['cts'])"
   ]
  },
  {
   "cell_type": "code",
   "execution_count": 58,
   "id": "c7a008b6",
   "metadata": {},
   "outputs": [
    {
     "data": {
      "text/html": [
       "<div>\n",
       "<style scoped>\n",
       "    .dataframe tbody tr th:only-of-type {\n",
       "        vertical-align: middle;\n",
       "    }\n",
       "\n",
       "    .dataframe tbody tr th {\n",
       "        vertical-align: top;\n",
       "    }\n",
       "\n",
       "    .dataframe thead th {\n",
       "        text-align: right;\n",
       "    }\n",
       "</style>\n",
       "<table border=\"1\" class=\"dataframe\">\n",
       "  <thead>\n",
       "    <tr style=\"text-align: right;\">\n",
       "      <th></th>\n",
       "      <th>profile_id</th>\n",
       "      <th>cts</th>\n",
       "      <th>numbr_likes</th>\n",
       "      <th>number_comments</th>\n",
       "    </tr>\n",
       "  </thead>\n",
       "  <tbody>\n",
       "    <tr>\n",
       "      <th>0</th>\n",
       "      <td>2.237948e+09</td>\n",
       "      <td>2017-08-06 20:06:57</td>\n",
       "      <td>80.0</td>\n",
       "      <td>0.0</td>\n",
       "    </tr>\n",
       "    <tr>\n",
       "      <th>1</th>\n",
       "      <td>5.579335e+09</td>\n",
       "      <td>2017-06-19 09:31:16</td>\n",
       "      <td>25.0</td>\n",
       "      <td>1.0</td>\n",
       "    </tr>\n",
       "    <tr>\n",
       "      <th>2</th>\n",
       "      <td>3.134296e+08</td>\n",
       "      <td>2017-03-11 20:05:03</td>\n",
       "      <td>9.0</td>\n",
       "      <td>0.0</td>\n",
       "    </tr>\n",
       "    <tr>\n",
       "      <th>3</th>\n",
       "      <td>1.837593e+09</td>\n",
       "      <td>2016-09-13 16:27:16</td>\n",
       "      <td>4.0</td>\n",
       "      <td>0.0</td>\n",
       "    </tr>\n",
       "    <tr>\n",
       "      <th>4</th>\n",
       "      <td>1.131527e+09</td>\n",
       "      <td>2015-10-18 10:19:27</td>\n",
       "      <td>8.0</td>\n",
       "      <td>0.0</td>\n",
       "    </tr>\n",
       "    <tr>\n",
       "      <th>...</th>\n",
       "      <td>...</td>\n",
       "      <td>...</td>\n",
       "      <td>...</td>\n",
       "      <td>...</td>\n",
       "    </tr>\n",
       "    <tr>\n",
       "      <th>42710192</th>\n",
       "      <td>5.556457e+09</td>\n",
       "      <td>2017-12-13 15:38:04</td>\n",
       "      <td>74.0</td>\n",
       "      <td>0.0</td>\n",
       "    </tr>\n",
       "    <tr>\n",
       "      <th>42710193</th>\n",
       "      <td>3.371865e+08</td>\n",
       "      <td>2017-10-31 11:28:01</td>\n",
       "      <td>49.0</td>\n",
       "      <td>0.0</td>\n",
       "    </tr>\n",
       "    <tr>\n",
       "      <th>42710194</th>\n",
       "      <td>3.289886e+09</td>\n",
       "      <td>2017-01-13 20:16:37</td>\n",
       "      <td>18.0</td>\n",
       "      <td>0.0</td>\n",
       "    </tr>\n",
       "    <tr>\n",
       "      <th>42710195</th>\n",
       "      <td>8.536366e+09</td>\n",
       "      <td>2019-05-20 20:07:52</td>\n",
       "      <td>27.0</td>\n",
       "      <td>1.0</td>\n",
       "    </tr>\n",
       "    <tr>\n",
       "      <th>42710196</th>\n",
       "      <td>2.219100e+09</td>\n",
       "      <td>2018-03-12 02:57:17</td>\n",
       "      <td>1824.0</td>\n",
       "      <td>49.0</td>\n",
       "    </tr>\n",
       "  </tbody>\n",
       "</table>\n",
       "<p>42710197 rows × 4 columns</p>\n",
       "</div>"
      ],
      "text/plain": [
       "            profile_id                 cts  numbr_likes  number_comments\n",
       "0         2.237948e+09 2017-08-06 20:06:57         80.0              0.0\n",
       "1         5.579335e+09 2017-06-19 09:31:16         25.0              1.0\n",
       "2         3.134296e+08 2017-03-11 20:05:03          9.0              0.0\n",
       "3         1.837593e+09 2016-09-13 16:27:16          4.0              0.0\n",
       "4         1.131527e+09 2015-10-18 10:19:27          8.0              0.0\n",
       "...                ...                 ...          ...              ...\n",
       "42710192  5.556457e+09 2017-12-13 15:38:04         74.0              0.0\n",
       "42710193  3.371865e+08 2017-10-31 11:28:01         49.0              0.0\n",
       "42710194  3.289886e+09 2017-01-13 20:16:37         18.0              0.0\n",
       "42710195  8.536366e+09 2019-05-20 20:07:52         27.0              1.0\n",
       "42710196  2.219100e+09 2018-03-12 02:57:17       1824.0             49.0\n",
       "\n",
       "[42710197 rows x 4 columns]"
      ]
     },
     "execution_count": 58,
     "metadata": {},
     "output_type": "execute_result"
    }
   ],
   "source": [
    "data_posts"
   ]
  },
  {
   "cell_type": "markdown",
   "id": "585e7e15",
   "metadata": {},
   "source": [
    "#### What is the average number of \"likes\" and comments of the top 10 profiles with the highest number of posts which their information is available in profile.csv?"
   ]
  },
  {
   "cell_type": "code",
   "execution_count": 62,
   "id": "073baf19",
   "metadata": {},
   "outputs": [
    {
     "name": "stderr",
     "output_type": "stream",
     "text": [
      "C:\\Users\\Chiara Sammarco\\AppData\\Local\\Temp\\ipykernel_13820\\440770405.py:8: FutureWarning: The frame.append method is deprecated and will be removed from pandas in a future version. Use pandas.concat instead.\n",
      "  posts = posts.append(find_posts(top_profiles.loc[i, 'profile_id'], df), ignore_index = True)     #find posts for the top profiles\n"
     ]
    },
    {
     "data": {
      "text/html": [
       "<div>\n",
       "<style scoped>\n",
       "    .dataframe tbody tr th:only-of-type {\n",
       "        vertical-align: middle;\n",
       "    }\n",
       "\n",
       "    .dataframe tbody tr th {\n",
       "        vertical-align: top;\n",
       "    }\n",
       "\n",
       "    .dataframe thead th {\n",
       "        text-align: right;\n",
       "    }\n",
       "</style>\n",
       "<table border=\"1\" class=\"dataframe\">\n",
       "  <thead>\n",
       "    <tr style=\"text-align: right;\">\n",
       "      <th></th>\n",
       "      <th>profile_id</th>\n",
       "      <th>numbr_likes</th>\n",
       "      <th>number_comments</th>\n",
       "    </tr>\n",
       "  </thead>\n",
       "  <tbody>\n",
       "    <tr>\n",
       "      <th>0</th>\n",
       "      <td>4.721050e+09</td>\n",
       "      <td>12.666667</td>\n",
       "      <td>0.4</td>\n",
       "    </tr>\n",
       "  </tbody>\n",
       "</table>\n",
       "</div>"
      ],
      "text/plain": [
       "     profile_id  numbr_likes  number_comments\n",
       "0  4.721050e+09    12.666667              0.4"
      ]
     },
     "execution_count": 62,
     "metadata": {},
     "output_type": "execute_result"
    }
   ],
   "source": [
    "top_10 = n_top_posted(10, data_posts).groupby(by = 'profile_id', as_index= False).mean() #n = 19 if we want to find 10 profile ids that return an output\n",
    "top_10"
   ]
  },
  {
   "cell_type": "code",
   "execution_count": 63,
   "id": "954b9cd7",
   "metadata": {},
   "outputs": [
    {
     "data": {
      "text/html": [
       "<div>\n",
       "<style scoped>\n",
       "    .dataframe tbody tr th:only-of-type {\n",
       "        vertical-align: middle;\n",
       "    }\n",
       "\n",
       "    .dataframe tbody tr th {\n",
       "        vertical-align: top;\n",
       "    }\n",
       "\n",
       "    .dataframe thead th {\n",
       "        text-align: right;\n",
       "    }\n",
       "</style>\n",
       "<table border=\"1\" class=\"dataframe\">\n",
       "  <thead>\n",
       "    <tr style=\"text-align: right;\">\n",
       "      <th></th>\n",
       "      <th>profile_id</th>\n",
       "      <th>cts</th>\n",
       "      <th>numbr_likes</th>\n",
       "      <th>number_comments</th>\n",
       "    </tr>\n",
       "  </thead>\n",
       "  <tbody>\n",
       "    <tr>\n",
       "      <th>13627713</th>\n",
       "      <td>4.721050e+09</td>\n",
       "      <td>2019-08-01 14:12:52</td>\n",
       "      <td>5.0</td>\n",
       "      <td>1.0</td>\n",
       "    </tr>\n",
       "    <tr>\n",
       "      <th>13627714</th>\n",
       "      <td>4.721050e+09</td>\n",
       "      <td>2019-07-31 13:47:48</td>\n",
       "      <td>9.0</td>\n",
       "      <td>0.0</td>\n",
       "    </tr>\n",
       "    <tr>\n",
       "      <th>13627715</th>\n",
       "      <td>4.721050e+09</td>\n",
       "      <td>2019-07-14 15:07:45</td>\n",
       "      <td>14.0</td>\n",
       "      <td>0.0</td>\n",
       "    </tr>\n",
       "    <tr>\n",
       "      <th>13627716</th>\n",
       "      <td>4.721050e+09</td>\n",
       "      <td>2019-07-08 03:43:04</td>\n",
       "      <td>14.0</td>\n",
       "      <td>0.0</td>\n",
       "    </tr>\n",
       "    <tr>\n",
       "      <th>13627717</th>\n",
       "      <td>4.721050e+09</td>\n",
       "      <td>2019-06-19 14:39:47</td>\n",
       "      <td>17.0</td>\n",
       "      <td>1.0</td>\n",
       "    </tr>\n",
       "    <tr>\n",
       "      <th>13627718</th>\n",
       "      <td>4.721050e+09</td>\n",
       "      <td>2019-06-16 04:53:38</td>\n",
       "      <td>9.0</td>\n",
       "      <td>0.0</td>\n",
       "    </tr>\n",
       "    <tr>\n",
       "      <th>13627719</th>\n",
       "      <td>4.721050e+09</td>\n",
       "      <td>2019-06-15 14:58:52</td>\n",
       "      <td>8.0</td>\n",
       "      <td>0.0</td>\n",
       "    </tr>\n",
       "    <tr>\n",
       "      <th>13627720</th>\n",
       "      <td>4.721050e+09</td>\n",
       "      <td>2019-06-10 14:16:13</td>\n",
       "      <td>11.0</td>\n",
       "      <td>0.0</td>\n",
       "    </tr>\n",
       "    <tr>\n",
       "      <th>13627721</th>\n",
       "      <td>4.721050e+09</td>\n",
       "      <td>2019-06-06 05:50:08</td>\n",
       "      <td>19.0</td>\n",
       "      <td>0.0</td>\n",
       "    </tr>\n",
       "    <tr>\n",
       "      <th>13627722</th>\n",
       "      <td>4.721050e+09</td>\n",
       "      <td>2019-06-06 04:12:35</td>\n",
       "      <td>15.0</td>\n",
       "      <td>1.0</td>\n",
       "    </tr>\n",
       "    <tr>\n",
       "      <th>13627723</th>\n",
       "      <td>4.721050e+09</td>\n",
       "      <td>2019-05-31 02:55:48</td>\n",
       "      <td>15.0</td>\n",
       "      <td>0.0</td>\n",
       "    </tr>\n",
       "    <tr>\n",
       "      <th>13627724</th>\n",
       "      <td>4.721050e+09</td>\n",
       "      <td>2019-05-27 04:19:14</td>\n",
       "      <td>10.0</td>\n",
       "      <td>0.0</td>\n",
       "    </tr>\n",
       "    <tr>\n",
       "      <th>28067214</th>\n",
       "      <td>4.721050e+09</td>\n",
       "      <td>2019-05-10 02:56:49</td>\n",
       "      <td>18.0</td>\n",
       "      <td>0.0</td>\n",
       "    </tr>\n",
       "    <tr>\n",
       "      <th>28067215</th>\n",
       "      <td>4.721050e+09</td>\n",
       "      <td>2019-05-10 02:52:16</td>\n",
       "      <td>11.0</td>\n",
       "      <td>0.0</td>\n",
       "    </tr>\n",
       "    <tr>\n",
       "      <th>28067216</th>\n",
       "      <td>4.721050e+09</td>\n",
       "      <td>2019-05-10 02:03:24</td>\n",
       "      <td>15.0</td>\n",
       "      <td>3.0</td>\n",
       "    </tr>\n",
       "  </tbody>\n",
       "</table>\n",
       "</div>"
      ],
      "text/plain": [
       "            profile_id                 cts  numbr_likes  number_comments\n",
       "13627713  4.721050e+09 2019-08-01 14:12:52          5.0              1.0\n",
       "13627714  4.721050e+09 2019-07-31 13:47:48          9.0              0.0\n",
       "13627715  4.721050e+09 2019-07-14 15:07:45         14.0              0.0\n",
       "13627716  4.721050e+09 2019-07-08 03:43:04         14.0              0.0\n",
       "13627717  4.721050e+09 2019-06-19 14:39:47         17.0              1.0\n",
       "13627718  4.721050e+09 2019-06-16 04:53:38          9.0              0.0\n",
       "13627719  4.721050e+09 2019-06-15 14:58:52          8.0              0.0\n",
       "13627720  4.721050e+09 2019-06-10 14:16:13         11.0              0.0\n",
       "13627721  4.721050e+09 2019-06-06 05:50:08         19.0              0.0\n",
       "13627722  4.721050e+09 2019-06-06 04:12:35         15.0              1.0\n",
       "13627723  4.721050e+09 2019-05-31 02:55:48         15.0              0.0\n",
       "13627724  4.721050e+09 2019-05-27 04:19:14         10.0              0.0\n",
       "28067214  4.721050e+09 2019-05-10 02:56:49         18.0              0.0\n",
       "28067215  4.721050e+09 2019-05-10 02:52:16         11.0              0.0\n",
       "28067216  4.721050e+09 2019-05-10 02:03:24         15.0              3.0"
      ]
     },
     "execution_count": 63,
     "metadata": {},
     "output_type": "execute_result"
    }
   ],
   "source": [
    "# Dataframe containing all the top profiles with the corresponding cts\n",
    "\n",
    "top_profile_id = list(top_10.loc[:,'profile_id'])       # Stores the top_profile ids in a list\n",
    "df_top_profiles = data_posts[data_posts['profile_id'].isin(top_profile_id)].sort_values(by = 'profile_id')\n",
    "df_top_profiles"
   ]
  },
  {
   "cell_type": "code",
   "execution_count": 64,
   "id": "28efad8d",
   "metadata": {},
   "outputs": [
    {
     "data": {
      "text/html": [
       "<div>\n",
       "<style scoped>\n",
       "    .dataframe tbody tr th:only-of-type {\n",
       "        vertical-align: middle;\n",
       "    }\n",
       "\n",
       "    .dataframe tbody tr th {\n",
       "        vertical-align: top;\n",
       "    }\n",
       "\n",
       "    .dataframe thead th {\n",
       "        text-align: right;\n",
       "    }\n",
       "</style>\n",
       "<table border=\"1\" class=\"dataframe\">\n",
       "  <thead>\n",
       "    <tr style=\"text-align: right;\">\n",
       "      <th></th>\n",
       "      <th>profile_id</th>\n",
       "      <th>cts</th>\n",
       "    </tr>\n",
       "  </thead>\n",
       "  <tbody>\n",
       "    <tr>\n",
       "      <th>13627713</th>\n",
       "      <td>4.721050e+09</td>\n",
       "      <td>2019-08-01 14:12:52</td>\n",
       "    </tr>\n",
       "    <tr>\n",
       "      <th>13627714</th>\n",
       "      <td>4.721050e+09</td>\n",
       "      <td>2019-07-31 13:47:48</td>\n",
       "    </tr>\n",
       "    <tr>\n",
       "      <th>13627715</th>\n",
       "      <td>4.721050e+09</td>\n",
       "      <td>2019-07-14 15:07:45</td>\n",
       "    </tr>\n",
       "    <tr>\n",
       "      <th>13627716</th>\n",
       "      <td>4.721050e+09</td>\n",
       "      <td>2019-07-08 03:43:04</td>\n",
       "    </tr>\n",
       "    <tr>\n",
       "      <th>13627717</th>\n",
       "      <td>4.721050e+09</td>\n",
       "      <td>2019-06-19 14:39:47</td>\n",
       "    </tr>\n",
       "    <tr>\n",
       "      <th>13627718</th>\n",
       "      <td>4.721050e+09</td>\n",
       "      <td>2019-06-16 04:53:38</td>\n",
       "    </tr>\n",
       "    <tr>\n",
       "      <th>13627719</th>\n",
       "      <td>4.721050e+09</td>\n",
       "      <td>2019-06-15 14:58:52</td>\n",
       "    </tr>\n",
       "    <tr>\n",
       "      <th>13627720</th>\n",
       "      <td>4.721050e+09</td>\n",
       "      <td>2019-06-10 14:16:13</td>\n",
       "    </tr>\n",
       "    <tr>\n",
       "      <th>13627721</th>\n",
       "      <td>4.721050e+09</td>\n",
       "      <td>2019-06-06 05:50:08</td>\n",
       "    </tr>\n",
       "    <tr>\n",
       "      <th>13627722</th>\n",
       "      <td>4.721050e+09</td>\n",
       "      <td>2019-06-06 04:12:35</td>\n",
       "    </tr>\n",
       "    <tr>\n",
       "      <th>13627723</th>\n",
       "      <td>4.721050e+09</td>\n",
       "      <td>2019-05-31 02:55:48</td>\n",
       "    </tr>\n",
       "    <tr>\n",
       "      <th>13627724</th>\n",
       "      <td>4.721050e+09</td>\n",
       "      <td>2019-05-27 04:19:14</td>\n",
       "    </tr>\n",
       "    <tr>\n",
       "      <th>28067214</th>\n",
       "      <td>4.721050e+09</td>\n",
       "      <td>2019-05-10 02:56:49</td>\n",
       "    </tr>\n",
       "    <tr>\n",
       "      <th>28067215</th>\n",
       "      <td>4.721050e+09</td>\n",
       "      <td>2019-05-10 02:52:16</td>\n",
       "    </tr>\n",
       "    <tr>\n",
       "      <th>28067216</th>\n",
       "      <td>4.721050e+09</td>\n",
       "      <td>2019-05-10 02:03:24</td>\n",
       "    </tr>\n",
       "  </tbody>\n",
       "</table>\n",
       "</div>"
      ],
      "text/plain": [
       "            profile_id                 cts\n",
       "13627713  4.721050e+09 2019-08-01 14:12:52\n",
       "13627714  4.721050e+09 2019-07-31 13:47:48\n",
       "13627715  4.721050e+09 2019-07-14 15:07:45\n",
       "13627716  4.721050e+09 2019-07-08 03:43:04\n",
       "13627717  4.721050e+09 2019-06-19 14:39:47\n",
       "13627718  4.721050e+09 2019-06-16 04:53:38\n",
       "13627719  4.721050e+09 2019-06-15 14:58:52\n",
       "13627720  4.721050e+09 2019-06-10 14:16:13\n",
       "13627721  4.721050e+09 2019-06-06 05:50:08\n",
       "13627722  4.721050e+09 2019-06-06 04:12:35\n",
       "13627723  4.721050e+09 2019-05-31 02:55:48\n",
       "13627724  4.721050e+09 2019-05-27 04:19:14\n",
       "28067214  4.721050e+09 2019-05-10 02:56:49\n",
       "28067215  4.721050e+09 2019-05-10 02:52:16\n",
       "28067216  4.721050e+09 2019-05-10 02:03:24"
      ]
     },
     "execution_count": 64,
     "metadata": {},
     "output_type": "execute_result"
    }
   ],
   "source": [
    "df_top_profiles_red  = df_top_profiles.loc[:,['profile_id', 'cts']]\n",
    "df_top_profiles_red"
   ]
  },
  {
   "cell_type": "markdown",
   "id": "9e4347f7",
   "metadata": {},
   "source": [
    "As we can see, our dataset is inconsistent. \\\n",
    "If we retrieve the top_profiles from the profile.csv and for each of them find the corresponding posts, only 6 profiles results in the posts.csv file."
   ]
  },
  {
   "cell_type": "markdown",
   "id": "8358d816",
   "metadata": {},
   "source": [
    "#### Plot the number of posts that these top 10 profiles have sent on Instagram in the given interval in question RQ3. \n",
    "Interpret the resulting chart."
   ]
  },
  {
   "cell_type": "code",
   "execution_count": 65,
   "id": "ac6e9078",
   "metadata": {},
   "outputs": [],
   "source": [
    "# Function that receives a time intervals list as a parameter and returns a plot \n",
    "# with the number of posts for each given interval.\n",
    "def time_to_plot(list_of_intervals):\n",
    "    bin_list = []\n",
    "    labels = []\n",
    "    for t_0, t_end in list_of_intervals:\n",
    "        labels.append(' -> '.join([t_0, t_end]))      # Create the labels of the histogram\n",
    "        \n",
    "        t_0 = pd.to_datetime(t_0).time()\n",
    "        t_end = pd.to_datetime(t_end).time()\n",
    "        \n",
    "        bin_list.append((t_0.hour, t_end.hour))\n",
    "    \n",
    "    loc = np.arange(len(labels))*6\n",
    "    bins = pd.IntervalIndex.from_tuples(bin_list)\n",
    "   \n",
    "    result_df = df_top_profiles_red.groupby([pd.cut(df_top_profiles_red['cts'].dt.hour, bins=bins), 'profile_id']).count()\n",
    "    # print(result_df)\n",
    "    \n",
    "    result_df.plot(kind=\"bar\", edgecolor=\"black\", use_index = False)\n",
    "\n",
    "   \n",
    "    plt.xlabel(\"Time\")\n",
    "    plt.ylabel(\"#Posts [millions]\")\n",
    "    plt.xticks(loc, labels, rotation=\"vertical\")\n",
    "    plt.show()\n"
   ]
  },
  {
   "cell_type": "code",
   "execution_count": 66,
   "id": "0babfe9e",
   "metadata": {},
   "outputs": [
    {
     "data": {
      "image/png": "[encoded data removed]",
      "text/plain": [
       "<Figure size 864x720 with 1 Axes>"
      ]
     },
     "metadata": {
      "needs_background": "light"
     },
     "output_type": "display_data"
    }
   ],
   "source": [
    "time_intervals = [(\"06:00:00\", \"10:59:59\"), \n",
    "                  (\"11:00:00\", \"13:59:59\"), \n",
    "                  (\"14:00:00\", \"16:59:59\"), \n",
    "                  (\"17:00:00\", \"19:59:59\"), \n",
    "                  (\"20:00:00\", \"23:59:59\"),\n",
    "                  (\"00:00:00\", \"02:59:59\"),\n",
    "                  (\"03:00:00\", \"05:59:59\")]\n",
    "#for i in range(len(time_intervals)):               \n",
    "time_to_plot(time_intervals)"
   ]
  },
  {
   "cell_type": "markdown",
   "id": "c9c0110c",
   "metadata": {},
   "source": [
    "We notice that these 10 profiles mostly posted in the early morning and before lunchtime."
   ]
  },
  {
   "cell_type": "markdown",
   "id": "b6fa3672-753c-4d3e-bd3d-c381a06ca043",
   "metadata": {
    "tags": []
   },
   "source": [
    "### Research Question 5"
   ]
  },
  {
   "cell_type": "markdown",
   "id": "33c99130-f644-45f0-8565-438b410745ad",
   "metadata": {
    "tags": []
   },
   "source": [
    " ##### Plot the top 10 most popular users in terms of followers and their number of posts."
   ]
  },
  {
   "cell_type": "code",
   "execution_count": 50,
   "id": "7e6fd75a-326f-4c2d-953a-3343d17561f6",
   "metadata": {},
   "outputs": [
    {
     "data": {
      "image/png": "[encoded data removed]",
      "text/plain": [
       "<Figure size 864x576 with 2 Axes>"
      ]
     },
     "metadata": {
      "needs_background": "light"
     },
     "output_type": "display_data"
    }
   ],
   "source": [
    "fig, (ax1, ax2) = plt.subplots(ncols=2, sharex=True)\n",
    "\n",
    "top_10_profiles.plot.bar(x='profile_name', y='followers', ax=ax1, edgecolor='black')\n",
    "ax1.set_xlabel('Profile Name')\n",
    "ax1.set_ylabel('#Followers')\n",
    "\n",
    "top_10_profiles.plot.bar(x='profile_name', y='n_posts', ax=ax2, edgecolor='black')\n",
    "ax2.set_xlabel('Profile Name')\n",
    "ax2.set_ylabel('#Posts')\n",
    "\n",
    "fig.tight_layout()\n",
    "plt.show()"
   ]
  },
  {
   "cell_type": "markdown",
   "id": "ce998fb5-a4c0-469f-b37a-4f81c54980f5",
   "metadata": {
    "tags": []
   },
   "source": [
    "##### Who is the most influential user?"
   ]
  },
  {
   "cell_type": "code",
   "execution_count": 70,
   "id": "30cb5ba1-07a5-46f2-a1ef-6b2093cd0ac1",
   "metadata": {},
   "outputs": [],
   "source": [
    "top_names = top_10_profiles['profile_name']\n",
    "top_ids = top_10_profiles['profile_id']\n",
    "top_sids = top_10_profiles['sid']"
   ]
  },
  {
   "cell_type": "code",
   "execution_count": 31,
   "id": "d5f14dcd",
   "metadata": {
    "scrolled": true
   },
   "outputs": [
    {
     "data": {
      "text/html": [
       "<div>\n",
       "<style scoped>\n",
       "    .dataframe tbody tr th:only-of-type {\n",
       "        vertical-align: middle;\n",
       "    }\n",
       "\n",
       "    .dataframe tbody tr th {\n",
       "        vertical-align: top;\n",
       "    }\n",
       "\n",
       "    .dataframe thead th {\n",
       "        text-align: right;\n",
       "    }\n",
       "</style>\n",
       "<table border=\"1\" class=\"dataframe\">\n",
       "  <thead>\n",
       "    <tr style=\"text-align: right;\">\n",
       "      <th></th>\n",
       "      <th>sid</th>\n",
       "      <th>profile_id</th>\n",
       "      <th>profile_name</th>\n",
       "      <th>firstname_lastname</th>\n",
       "      <th>description</th>\n",
       "      <th>following</th>\n",
       "      <th>followers</th>\n",
       "      <th>n_posts</th>\n",
       "      <th>url</th>\n",
       "      <th>cts</th>\n",
       "      <th>is_business_account</th>\n",
       "    </tr>\n",
       "  </thead>\n",
       "  <tbody>\n",
       "    <tr>\n",
       "      <th>2880218</th>\n",
       "      <td>336492</td>\n",
       "      <td>2.502532e+07</td>\n",
       "      <td>instagram</td>\n",
       "      <td>Instagram</td>\n",
       "      <td>Bringing you closer to the people and things y...</td>\n",
       "      <td>226.0</td>\n",
       "      <td>285457645.0</td>\n",
       "      <td>5760.0</td>\n",
       "      <td>help.instagram.com</td>\n",
       "      <td>NaN</td>\n",
       "      <td>False</td>\n",
       "    </tr>\n",
       "    <tr>\n",
       "      <th>2582507</th>\n",
       "      <td>371414</td>\n",
       "      <td>3.416684e+06</td>\n",
       "      <td>victoriassecret</td>\n",
       "      <td>Victoria's Secret</td>\n",
       "      <td>Confidence is sexy. #wearitdaily</td>\n",
       "      <td>549.0</td>\n",
       "      <td>65269440.0</td>\n",
       "      <td>7355.0</td>\n",
       "      <td>like2b.uy/victoriassecret</td>\n",
       "      <td>NaN</td>\n",
       "      <td>True</td>\n",
       "    </tr>\n",
       "    <tr>\n",
       "      <th>3820939</th>\n",
       "      <td>337097</td>\n",
       "      <td>2.082449e+07</td>\n",
       "      <td>nba</td>\n",
       "      <td>NBA</td>\n",
       "      <td>30 teams, 1 🏆\\n👟: @nbakicks \\n📽: @nbahistory \\...</td>\n",
       "      <td>817.0</td>\n",
       "      <td>35339708.0</td>\n",
       "      <td>28816.0</td>\n",
       "      <td>nba.app.link/js6X7SVaxT</td>\n",
       "      <td>NaN</td>\n",
       "      <td>True</td>\n",
       "    </tr>\n",
       "    <tr>\n",
       "      <th>701965</th>\n",
       "      <td>330376</td>\n",
       "      <td>1.876191e+08</td>\n",
       "      <td>louisvuitton</td>\n",
       "      <td>Louis Vuitton Official</td>\n",
       "      <td>The official Instagram account of Louis Vuitton.</td>\n",
       "      <td>5.0</td>\n",
       "      <td>30689316.0</td>\n",
       "      <td>3352.0</td>\n",
       "      <td>on.louisvuitton.com/Like2Buy</td>\n",
       "      <td>NaN</td>\n",
       "      <td>True</td>\n",
       "    </tr>\n",
       "    <tr>\n",
       "      <th>2414951</th>\n",
       "      <td>292359</td>\n",
       "      <td>2.125507e+09</td>\n",
       "      <td>buzzfeedtasty</td>\n",
       "      <td>Tasty</td>\n",
       "      <td>Recipes that will make you say \"oh yes!\"\\n👇 Cl...</td>\n",
       "      <td>298.0</td>\n",
       "      <td>30246783.0</td>\n",
       "      <td>2791.0</td>\n",
       "      <td>tasty.co/linkinbio</td>\n",
       "      <td>NaN</td>\n",
       "      <td>True</td>\n",
       "    </tr>\n",
       "    <tr>\n",
       "      <th>2785241</th>\n",
       "      <td>3437294</td>\n",
       "      <td>4.968651e+08</td>\n",
       "      <td>andresiniesta8</td>\n",
       "      <td>Andres Iniesta</td>\n",
       "      <td>Andres Iniesta Official Instagram Account, \\nB...</td>\n",
       "      <td>151.0</td>\n",
       "      <td>29542143.0</td>\n",
       "      <td>990.0</td>\n",
       "      <td>mikakus.com</td>\n",
       "      <td>2019-05-08 23:54:35.377 -0400</td>\n",
       "      <td>False</td>\n",
       "    </tr>\n",
       "    <tr>\n",
       "      <th>333193</th>\n",
       "      <td>158690</td>\n",
       "      <td>2.341008e+07</td>\n",
       "      <td>hm</td>\n",
       "      <td>H&amp;M</td>\n",
       "      <td>Welcome to #HM! Follow us at @HM_Man @HM_Kids ...</td>\n",
       "      <td>403.0</td>\n",
       "      <td>29176804.0</td>\n",
       "      <td>4566.0</td>\n",
       "      <td>hm.info/1c9he</td>\n",
       "      <td>2018-05-31 19:33:46.022 -0400</td>\n",
       "      <td>True</td>\n",
       "    </tr>\n",
       "    <tr>\n",
       "      <th>3934581</th>\n",
       "      <td>3615154</td>\n",
       "      <td>2.423993e+07</td>\n",
       "      <td>princessyahrini</td>\n",
       "      <td>Syahrini</td>\n",
       "      <td>NaN</td>\n",
       "      <td>835.0</td>\n",
       "      <td>29042823.0</td>\n",
       "      <td>4719.0</td>\n",
       "      <td>www.youtube.com/c/ThePrincesSyahrini</td>\n",
       "      <td>2019-06-26 15:05:53.411 -0400</td>\n",
       "      <td>True</td>\n",
       "    </tr>\n",
       "    <tr>\n",
       "      <th>1311970</th>\n",
       "      <td>508140</td>\n",
       "      <td>5.041706e+07</td>\n",
       "      <td>danbilzerian</td>\n",
       "      <td>Dan Bilzerian</td>\n",
       "      <td>Snapchat: dbilzerian</td>\n",
       "      <td>252.0</td>\n",
       "      <td>26476004.0</td>\n",
       "      <td>1311.0</td>\n",
       "      <td>www.ignite.co</td>\n",
       "      <td>NaN</td>\n",
       "      <td>True</td>\n",
       "    </tr>\n",
       "    <tr>\n",
       "      <th>1703764</th>\n",
       "      <td>3513205</td>\n",
       "      <td>9.070254e+08</td>\n",
       "      <td>akshaykumar</td>\n",
       "      <td>Akshay Kumar</td>\n",
       "      <td>#AkshayKumar</td>\n",
       "      <td>5.0</td>\n",
       "      <td>26252169.0</td>\n",
       "      <td>1173.0</td>\n",
       "      <td>bit.ly/AliAliBlank</td>\n",
       "      <td>2019-05-14 08:29:29.754 -0400</td>\n",
       "      <td>False</td>\n",
       "    </tr>\n",
       "  </tbody>\n",
       "</table>\n",
       "</div>"
      ],
      "text/plain": [
       "             sid    profile_id     profile_name      firstname_lastname  \\\n",
       "2880218   336492  2.502532e+07        instagram               Instagram   \n",
       "2582507   371414  3.416684e+06  victoriassecret       Victoria's Secret   \n",
       "3820939   337097  2.082449e+07              nba                     NBA   \n",
       "701965    330376  1.876191e+08     louisvuitton  Louis Vuitton Official   \n",
       "2414951   292359  2.125507e+09    buzzfeedtasty                   Tasty   \n",
       "2785241  3437294  4.968651e+08   andresiniesta8          Andres Iniesta   \n",
       "333193    158690  2.341008e+07               hm                     H&M   \n",
       "3934581  3615154  2.423993e+07  princessyahrini                Syahrini   \n",
       "1311970   508140  5.041706e+07     danbilzerian           Dan Bilzerian   \n",
       "1703764  3513205  9.070254e+08      akshaykumar            Akshay Kumar   \n",
       "\n",
       "                                               description  following  \\\n",
       "2880218  Bringing you closer to the people and things y...      226.0   \n",
       "2582507                   Confidence is sexy. #wearitdaily      549.0   \n",
       "3820939  30 teams, 1 🏆\\n👟: @nbakicks \\n📽: @nbahistory \\...      817.0   \n",
       "701965    The official Instagram account of Louis Vuitton.        5.0   \n",
       "2414951  Recipes that will make you say \"oh yes!\"\\n👇 Cl...      298.0   \n",
       "2785241  Andres Iniesta Official Instagram Account, \\nB...      151.0   \n",
       "333193   Welcome to #HM! Follow us at @HM_Man @HM_Kids ...      403.0   \n",
       "3934581                                                NaN      835.0   \n",
       "1311970                               Snapchat: dbilzerian      252.0   \n",
       "1703764                                       #AkshayKumar        5.0   \n",
       "\n",
       "           followers  n_posts                                   url  \\\n",
       "2880218  285457645.0   5760.0                    help.instagram.com   \n",
       "2582507   65269440.0   7355.0             like2b.uy/victoriassecret   \n",
       "3820939   35339708.0  28816.0               nba.app.link/js6X7SVaxT   \n",
       "701965    30689316.0   3352.0          on.louisvuitton.com/Like2Buy   \n",
       "2414951   30246783.0   2791.0                    tasty.co/linkinbio   \n",
       "2785241   29542143.0    990.0                           mikakus.com   \n",
       "333193    29176804.0   4566.0                         hm.info/1c9he   \n",
       "3934581   29042823.0   4719.0  www.youtube.com/c/ThePrincesSyahrini   \n",
       "1311970   26476004.0   1311.0                         www.ignite.co   \n",
       "1703764   26252169.0   1173.0                    bit.ly/AliAliBlank   \n",
       "\n",
       "                                   cts is_business_account  \n",
       "2880218                            NaN               False  \n",
       "2582507                            NaN                True  \n",
       "3820939                            NaN                True  \n",
       "701965                             NaN                True  \n",
       "2414951                            NaN                True  \n",
       "2785241  2019-05-08 23:54:35.377 -0400               False  \n",
       "333193   2018-05-31 19:33:46.022 -0400                True  \n",
       "3934581  2019-06-26 15:05:53.411 -0400                True  \n",
       "1311970                            NaN                True  \n",
       "1703764  2019-05-14 08:29:29.754 -0400               False  "
      ]
     },
     "execution_count": 31,
     "metadata": {},
     "output_type": "execute_result"
    }
   ],
   "source": [
    "top_10_profiles"
   ]
  },
  {
   "cell_type": "markdown",
   "id": "d0a5598a",
   "metadata": {},
   "source": [
    "According to the definition of \"influential\" in the task, the \"Instagram\" profile is the most influential user."
   ]
  },
  {
   "cell_type": "markdown",
   "id": "44a79625-f15f-4a08-993a-cfee0be68049",
   "metadata": {},
   "source": [
    "##### Have they posted anything with tagged locations? "
   ]
  },
  {
   "cell_type": "code",
   "execution_count": 6,
   "id": "b65d0cf3-737d-4189-97bb-c28f97066c13",
   "metadata": {},
   "outputs": [],
   "source": [
    "loc_columns = ['profile_id', 'location_id', 'sid_profile']\n",
    "post_loc_df = pd.read_csv(path_to_posts, delimiter='\\t', usecols=loc_columns)"
   ]
  },
  {
   "cell_type": "code",
   "execution_count": 9,
   "id": "53962867",
   "metadata": {},
   "outputs": [],
   "source": [
    "top_post_loc_df = post_loc_df[post_loc_df[\"profile_id\"].isin(top_ids)]"
   ]
  },
  {
   "cell_type": "code",
   "execution_count": 12,
   "id": "eb67507f",
   "metadata": {},
   "outputs": [
    {
     "name": "stdout",
     "output_type": "stream",
     "text": [
      "Number of posts: \t\t\t 141\n",
      "Number of posts w/ tagged location: \t 105\n",
      "Number of posts w/o tagged location: \t  36\n"
     ]
    }
   ],
   "source": [
    "print('Number of posts:', 3*'\\t', len(top_post_loc_df))\n",
    "print('Number of posts w/ tagged location:', '\\t', len(top_post_loc_df[~top_post_loc_df['location_id'].isna()]))\n",
    "print('Number of posts w/o tagged location:', '\\t ', len(top_post_loc_df[top_post_loc_df['location_id'].isna()]))"
   ]
  },
  {
   "cell_type": "markdown",
   "id": "ece1326a",
   "metadata": {},
   "source": [
    "#### Extract the most frequent areas on their posts and plot the number of times each city has been visited."
   ]
  },
  {
   "cell_type": "code",
   "execution_count": 17,
   "id": "242ed751",
   "metadata": {},
   "outputs": [
    {
     "data": {
      "text/plain": [
       "Text(0.5, 1.0, 'Frequency of visited cities of top instagram user')"
      ]
     },
     "execution_count": 17,
     "metadata": {},
     "output_type": "execute_result"
    },
    {
     "data": {
      "image/png": "[encoded data removed]",
      "text/plain": [
       "<Figure size 864x720 with 1 Axes>"
      ]
     },
     "metadata": {
      "needs_background": "light"
     },
     "output_type": "display_data"
    }
   ],
   "source": [
    "city_dic = {}\n",
    "for post_loc in top_post_loc_df[\"location_id\"].dropna():\n",
    "    current_city = loc_df[loc_df.id == post_loc][\"city\"].iloc[0] # Look up the city name in the loc_df\n",
    "    \n",
    "    if type(current_city) == float: # To catch some exceptions\n",
    "        continue\n",
    "    elif current_city in city_dic.keys():\n",
    "        city_dic[current_city] += 1\n",
    "    else:\n",
    "        city_dic[current_city] = 1\n",
    "\n",
    "sorted_city_dic = {k: v for k, v in sorted(city_dic.items(), key=lambda item: item[1], reverse=True)}\n",
    "        \n",
    "labels = list(map(str, sorted_city_dic.keys()))\n",
    "values =  sorted_city_dic.values()\n",
    "\n",
    "plt.bar(height=values, x=range(len(labels)), tick_label=labels) # , edgecolor='black'\n",
    "plt.xticks(rotation=90)\n",
    "plt.title(\"Frequency of visited cities of top instagram user\")"
   ]
  },
  {
   "cell_type": "markdown",
   "id": "df46117c-9ed2-4808-85ff-e0bda3d200fd",
   "metadata": {},
   "source": [
    "#### How many pictures-only posts have they published? How many reels? (only videos) and how many with both contents? Provide the number as percentages and interpret those figures."
   ]
  },
  {
   "cell_type": "code",
   "execution_count": 68,
   "id": "b850d02c-4af8-4a0d-9749-110974f37927",
   "metadata": {},
   "outputs": [],
   "source": [
    "type_columns = [\"profile_id\", \"post_type\", \"numbr_likes\", \"number_comments\"]\n",
    "post_type_df = pd.read_csv(path_to_posts, delimiter='\\t', usecols=type_columns)"
   ]
  },
  {
   "cell_type": "code",
   "execution_count": 71,
   "id": "c71a7ebb",
   "metadata": {},
   "outputs": [
    {
     "name": "stdout",
     "output_type": "stream",
     "text": [
      "1    128\n",
      "2     13\n",
      "Name: post_type, dtype: int64\n"
     ]
    },
    {
     "data": {
      "text/plain": [
       "Text(0.5, 1.0, '% of post types')"
      ]
     },
     "execution_count": 71,
     "metadata": {},
     "output_type": "execute_result"
    },
    {
     "data": {
      "image/png": "[encoded data removed]",
      "text/plain": [
       "<Figure size 864x720 with 1 Axes>"
      ]
     },
     "metadata": {},
     "output_type": "display_data"
    }
   ],
   "source": [
    "top_post_type = post_type_df[post_type_df[\"profile_id\"].isin(top_ids)]\n",
    "\n",
    "type_counts = top_post_type['post_type'].value_counts()\n",
    "print(type_counts)\n",
    "n_pics = type_counts[1]\n",
    "n_vids = type_counts[2]\n",
    "n_mixd = 0 # type_counts[3] = 0\n",
    "\n",
    "labels = ['pics', 'videos'] # , 'multy']\n",
    "\n",
    "plt.pie([n_pics, n_vids], labels=labels, explode=[0, 0], autopct='%1.1f%%', \n",
    "        wedgeprops={\"edgecolor\": \"black\"})\n",
    "plt.title('% of post types')\n"
   ]
  },
  {
   "cell_type": "markdown",
   "id": "b0237260",
   "metadata": {},
   "source": [
    "We notice that they haven't posted anything with both contents. From this plot we can figure out that posts are more common than videos since people post them way more. In fact, videos aren't really common on the platform."
   ]
  },
  {
   "cell_type": "markdown",
   "id": "935bcb02-4970-4c18-849c-a1b330f80bb2",
   "metadata": {},
   "source": [
    "#### How many \"likes\" and comments did posts with only pictures receive? How about videos and mixed posts? Try to provide the average numbers and confront them with their followers amount, explaining what you can say from that comparison."
   ]
  },
  {
   "cell_type": "code",
   "execution_count": 72,
   "id": "0aff7497-47cd-4326-b67f-0e8c041d13f7",
   "metadata": {},
   "outputs": [],
   "source": [
    "post_type_gb = top_post_type.groupby([\"profile_id\", \"post_type\"])\n",
    "post_type_mean_df = post_type_gb.mean()"
   ]
  },
  {
   "cell_type": "code",
   "execution_count": 73,
   "id": "7902834f",
   "metadata": {},
   "outputs": [],
   "source": [
    "for profile_id in top_ids:\n",
    "    mask = post_type_mean_df.index.get_level_values(0) == profile_id\n",
    "    post_type_mean_df.loc[mask, \"n_follower\"] = top_10_profiles[top_10_profiles.profile_id == profile_id]['followers'].iloc[0]"
   ]
  },
  {
   "cell_type": "code",
   "execution_count": 74,
   "id": "1dad611f",
   "metadata": {},
   "outputs": [],
   "source": [
    "post_type_mean_df[\"likes_ratio\"] = post_type_mean_df[\"numbr_likes\"]/post_type_mean_df[\"n_follower\"]\n",
    "post_type_mean_df[\"comment_ratio\"] = post_type_mean_df[\"number_comments\"]/post_type_mean_df[\"n_follower\"]"
   ]
  },
  {
   "cell_type": "code",
   "execution_count": 75,
   "id": "992960e8",
   "metadata": {},
   "outputs": [
    {
     "data": {
      "text/html": [
       "<div>\n",
       "<style scoped>\n",
       "    .dataframe tbody tr th:only-of-type {\n",
       "        vertical-align: middle;\n",
       "    }\n",
       "\n",
       "    .dataframe tbody tr th {\n",
       "        vertical-align: top;\n",
       "    }\n",
       "\n",
       "    .dataframe thead th {\n",
       "        text-align: right;\n",
       "    }\n",
       "</style>\n",
       "<table border=\"1\" class=\"dataframe\">\n",
       "  <thead>\n",
       "    <tr style=\"text-align: right;\">\n",
       "      <th></th>\n",
       "      <th></th>\n",
       "      <th>numbr_likes</th>\n",
       "      <th>number_comments</th>\n",
       "      <th>n_follower</th>\n",
       "      <th>likes_ratio</th>\n",
       "      <th>comment_ratio</th>\n",
       "    </tr>\n",
       "    <tr>\n",
       "      <th>profile_id</th>\n",
       "      <th>post_type</th>\n",
       "      <th></th>\n",
       "      <th></th>\n",
       "      <th></th>\n",
       "      <th></th>\n",
       "      <th></th>\n",
       "    </tr>\n",
       "  </thead>\n",
       "  <tbody>\n",
       "    <tr>\n",
       "      <th rowspan=\"2\" valign=\"top\">3.416684e+06</th>\n",
       "      <th>1</th>\n",
       "      <td>2.307498e+05</td>\n",
       "      <td>438.400000</td>\n",
       "      <td>65269440.0</td>\n",
       "      <td>0.003535</td>\n",
       "      <td>0.000007</td>\n",
       "    </tr>\n",
       "    <tr>\n",
       "      <th>2</th>\n",
       "      <td>2.614080e+05</td>\n",
       "      <td>583.000000</td>\n",
       "      <td>65269440.0</td>\n",
       "      <td>0.004005</td>\n",
       "      <td>0.000009</td>\n",
       "    </tr>\n",
       "    <tr>\n",
       "      <th rowspan=\"2\" valign=\"top\">2.082449e+07</th>\n",
       "      <th>1</th>\n",
       "      <td>2.422357e+05</td>\n",
       "      <td>1087.846154</td>\n",
       "      <td>35339708.0</td>\n",
       "      <td>0.006854</td>\n",
       "      <td>0.000031</td>\n",
       "    </tr>\n",
       "    <tr>\n",
       "      <th>2</th>\n",
       "      <td>2.072956e+05</td>\n",
       "      <td>1026.800000</td>\n",
       "      <td>35339708.0</td>\n",
       "      <td>0.005866</td>\n",
       "      <td>0.000029</td>\n",
       "    </tr>\n",
       "    <tr>\n",
       "      <th>2.341008e+07</th>\n",
       "      <th>1</th>\n",
       "      <td>8.121350e+04</td>\n",
       "      <td>365.000000</td>\n",
       "      <td>29176804.0</td>\n",
       "      <td>0.002783</td>\n",
       "      <td>0.000013</td>\n",
       "    </tr>\n",
       "    <tr>\n",
       "      <th rowspan=\"2\" valign=\"top\">2.423993e+07</th>\n",
       "      <th>1</th>\n",
       "      <td>1.418733e+05</td>\n",
       "      <td>757.434783</td>\n",
       "      <td>29042823.0</td>\n",
       "      <td>0.004885</td>\n",
       "      <td>0.000026</td>\n",
       "    </tr>\n",
       "    <tr>\n",
       "      <th>2</th>\n",
       "      <td>4.176367e+04</td>\n",
       "      <td>903.333333</td>\n",
       "      <td>29042823.0</td>\n",
       "      <td>0.001438</td>\n",
       "      <td>0.000031</td>\n",
       "    </tr>\n",
       "    <tr>\n",
       "      <th rowspan=\"2\" valign=\"top\">2.502532e+07</th>\n",
       "      <th>1</th>\n",
       "      <td>9.059335e+05</td>\n",
       "      <td>6703.290323</td>\n",
       "      <td>285457645.0</td>\n",
       "      <td>0.003174</td>\n",
       "      <td>0.000023</td>\n",
       "    </tr>\n",
       "    <tr>\n",
       "      <th>2</th>\n",
       "      <td>5.934097e+05</td>\n",
       "      <td>5749.333333</td>\n",
       "      <td>285457645.0</td>\n",
       "      <td>0.002079</td>\n",
       "      <td>0.000020</td>\n",
       "    </tr>\n",
       "    <tr>\n",
       "      <th>5.041706e+07</th>\n",
       "      <th>1</th>\n",
       "      <td>8.631133e+05</td>\n",
       "      <td>8594.733333</td>\n",
       "      <td>26476004.0</td>\n",
       "      <td>0.032600</td>\n",
       "      <td>0.000325</td>\n",
       "    </tr>\n",
       "    <tr>\n",
       "      <th>1.876191e+08</th>\n",
       "      <th>1</th>\n",
       "      <td>1.868570e+05</td>\n",
       "      <td>867.000000</td>\n",
       "      <td>30689316.0</td>\n",
       "      <td>0.006089</td>\n",
       "      <td>0.000028</td>\n",
       "    </tr>\n",
       "    <tr>\n",
       "      <th>4.968651e+08</th>\n",
       "      <th>1</th>\n",
       "      <td>4.730227e+05</td>\n",
       "      <td>2237.083333</td>\n",
       "      <td>29542143.0</td>\n",
       "      <td>0.016012</td>\n",
       "      <td>0.000076</td>\n",
       "    </tr>\n",
       "    <tr>\n",
       "      <th>9.070254e+08</th>\n",
       "      <th>1</th>\n",
       "      <td>1.027102e+06</td>\n",
       "      <td>6582.461538</td>\n",
       "      <td>26252169.0</td>\n",
       "      <td>0.039124</td>\n",
       "      <td>0.000251</td>\n",
       "    </tr>\n",
       "    <tr>\n",
       "      <th>2.125507e+09</th>\n",
       "      <th>1</th>\n",
       "      <td>1.008629e+05</td>\n",
       "      <td>963.153846</td>\n",
       "      <td>30246783.0</td>\n",
       "      <td>0.003335</td>\n",
       "      <td>0.000032</td>\n",
       "    </tr>\n",
       "  </tbody>\n",
       "</table>\n",
       "</div>"
      ],
      "text/plain": [
       "                         numbr_likes  number_comments   n_follower  \\\n",
       "profile_id   post_type                                               \n",
       "3.416684e+06 1          2.307498e+05       438.400000   65269440.0   \n",
       "             2          2.614080e+05       583.000000   65269440.0   \n",
       "2.082449e+07 1          2.422357e+05      1087.846154   35339708.0   \n",
       "             2          2.072956e+05      1026.800000   35339708.0   \n",
       "2.341008e+07 1          8.121350e+04       365.000000   29176804.0   \n",
       "2.423993e+07 1          1.418733e+05       757.434783   29042823.0   \n",
       "             2          4.176367e+04       903.333333   29042823.0   \n",
       "2.502532e+07 1          9.059335e+05      6703.290323  285457645.0   \n",
       "             2          5.934097e+05      5749.333333  285457645.0   \n",
       "5.041706e+07 1          8.631133e+05      8594.733333   26476004.0   \n",
       "1.876191e+08 1          1.868570e+05       867.000000   30689316.0   \n",
       "4.968651e+08 1          4.730227e+05      2237.083333   29542143.0   \n",
       "9.070254e+08 1          1.027102e+06      6582.461538   26252169.0   \n",
       "2.125507e+09 1          1.008629e+05       963.153846   30246783.0   \n",
       "\n",
       "                        likes_ratio  comment_ratio  \n",
       "profile_id   post_type                              \n",
       "3.416684e+06 1             0.003535       0.000007  \n",
       "             2             0.004005       0.000009  \n",
       "2.082449e+07 1             0.006854       0.000031  \n",
       "             2             0.005866       0.000029  \n",
       "2.341008e+07 1             0.002783       0.000013  \n",
       "2.423993e+07 1             0.004885       0.000026  \n",
       "             2             0.001438       0.000031  \n",
       "2.502532e+07 1             0.003174       0.000023  \n",
       "             2             0.002079       0.000020  \n",
       "5.041706e+07 1             0.032600       0.000325  \n",
       "1.876191e+08 1             0.006089       0.000028  \n",
       "4.968651e+08 1             0.016012       0.000076  \n",
       "9.070254e+08 1             0.039124       0.000251  \n",
       "2.125507e+09 1             0.003335       0.000032  "
      ]
     },
     "execution_count": 75,
     "metadata": {},
     "output_type": "execute_result"
    }
   ],
   "source": [
    "post_type_mean_df"
   ]
  },
  {
   "cell_type": "markdown",
   "id": "38fa86d5",
   "metadata": {},
   "source": [
    "From this table we notice that, usually, likes and comments are higher for posts than videos. The most followed account on the list (with profile_id = 2.502532e+07) has a higher number of comments for the second post_type, which is videos, but the profile with profile_id = 5.041706e+07 has a higher number of comments for posts with only pictures, even though he has less followers than the one highlighted before. We notice that the likes_ratio is way higher than the comment_ratio because likes are more \"common\" than comments."
   ]
  },
  {
   "cell_type": "markdown",
   "id": "d8a14be8-dbd7-4917-87c8-bac22cf815fd",
   "metadata": {},
   "source": [
    "### Research Question 6"
   ]
  },
  {
   "cell_type": "markdown",
   "id": "eecd53b7",
   "metadata": {},
   "source": [
    "#### What is the average time (days and minutes) a user lets pass before publishing another post? Plot the top 3 users that publish posts more frequently (calculate the average time that passes between posts), including their amount of followers and following. Provide insights from that chart."
   ]
  },
  {
   "cell_type": "code",
   "execution_count": 4,
   "id": "5b96b219",
   "metadata": {},
   "outputs": [],
   "source": [
    "post_df = pd.read_csv(path_to_posts, delimiter = '\\t', usecols = [\"profile_id\", \"cts\"]).dropna()"
   ]
  },
  {
   "cell_type": "code",
   "execution_count": 5,
   "id": "bbd901d4",
   "metadata": {},
   "outputs": [],
   "source": [
    "post_df['cts'] = pd.to_datetime(post_df['cts'])"
   ]
  },
  {
   "cell_type": "code",
   "execution_count": null,
   "id": "b65ad696",
   "metadata": {},
   "outputs": [],
   "source": [
    "# The following line groups the post_df by profile id, then looks at the cts column and for each group, sorts the \n",
    "# times, computes the difference between each line and the following and finally computes the mean of said \n",
    "# differences\n",
    "\n",
    "# However this takes a long time (>20min on remote)\n",
    "\n",
    "avg_time_df = (post_df.groupby(by='profile_id')\n",
    "                      .cts\n",
    "                      .agg(avg_time_diff=lambda group: group.sort_values().diff().mean()))"
   ]
  },
  {
   "cell_type": "code",
   "execution_count": 12,
   "id": "98d62876",
   "metadata": {},
   "outputs": [],
   "source": [
    "from datetime import timedelta"
   ]
  },
  {
   "cell_type": "code",
   "execution_count": 40,
   "id": "8d4ea37d",
   "metadata": {},
   "outputs": [],
   "source": [
    "top_3_avg_time = avg_time_df[avg_time_df[\"avg_time_diff\"] > timedelta(0)].sort_values(by='avg_time_diff').head(3)"
   ]
  },
  {
   "cell_type": "code",
   "execution_count": 44,
   "id": "d51b9315",
   "metadata": {},
   "outputs": [],
   "source": [
    "top_3_avg_time['profile_name'] = profiles_df[profiles_df.profile_id.isin(top_3_avg_time.index)][\"profile_name\"].to_list()"
   ]
  },
  {
   "cell_type": "code",
   "execution_count": 45,
   "id": "28eb39ca",
   "metadata": {},
   "outputs": [
    {
     "data": {
      "text/html": [
       "<div>\n",
       "<style scoped>\n",
       "    .dataframe tbody tr th:only-of-type {\n",
       "        vertical-align: middle;\n",
       "    }\n",
       "\n",
       "    .dataframe tbody tr th {\n",
       "        vertical-align: top;\n",
       "    }\n",
       "\n",
       "    .dataframe thead th {\n",
       "        text-align: right;\n",
       "    }\n",
       "</style>\n",
       "<table border=\"1\" class=\"dataframe\">\n",
       "  <thead>\n",
       "    <tr style=\"text-align: right;\">\n",
       "      <th></th>\n",
       "      <th>avg_time_diff</th>\n",
       "      <th>profile_name</th>\n",
       "    </tr>\n",
       "    <tr>\n",
       "      <th>profile_id</th>\n",
       "      <th></th>\n",
       "      <th></th>\n",
       "    </tr>\n",
       "  </thead>\n",
       "  <tbody>\n",
       "    <tr>\n",
       "      <th>8.278512e+09</th>\n",
       "      <td>0 days 00:00:00.090909090</td>\n",
       "      <td>5588kkll</td>\n",
       "    </tr>\n",
       "    <tr>\n",
       "      <th>6.109198e+09</th>\n",
       "      <td>0 days 00:00:00.090909090</td>\n",
       "      <td>msidney087</td>\n",
       "    </tr>\n",
       "    <tr>\n",
       "      <th>8.996413e+09</th>\n",
       "      <td>0 days 00:00:00.333333333</td>\n",
       "      <td>no.name7291</td>\n",
       "    </tr>\n",
       "  </tbody>\n",
       "</table>\n",
       "</div>"
      ],
      "text/plain": [
       "                         avg_time_diff profile_name\n",
       "profile_id                                         \n",
       "8.278512e+09 0 days 00:00:00.090909090     5588kkll\n",
       "6.109198e+09 0 days 00:00:00.090909090   msidney087\n",
       "8.996413e+09 0 days 00:00:00.333333333  no.name7291"
      ]
     },
     "execution_count": 45,
     "metadata": {},
     "output_type": "execute_result"
    }
   ],
   "source": [
    "top_3_avg_time"
   ]
  },
  {
   "cell_type": "markdown",
   "id": "7b0aab07",
   "metadata": {},
   "source": [
    "#### Using the function you previously coded, plot the time intervals with the highest average number of “likes” and the ones with the highest average number of comments on posts.\n"
   ]
  },
  {
   "cell_type": "code",
   "execution_count": 4,
   "id": "1089e113",
   "metadata": {},
   "outputs": [],
   "source": [
    "columns = ['cts','numbr_likes','number_comments']"
   ]
  },
  {
   "cell_type": "code",
   "execution_count": 6,
   "id": "16e0f065",
   "metadata": {},
   "outputs": [],
   "source": [
    "df_posts = pd.read_csv(path_to_posts,delimiter='\\t', usecols=columns)"
   ]
  },
  {
   "cell_type": "code",
   "execution_count": 27,
   "id": "ae54639b",
   "metadata": {},
   "outputs": [],
   "source": [
    "df_posts['cts'] = pd.to_datetime(df_posts['cts'])"
   ]
  },
  {
   "cell_type": "code",
   "execution_count": 28,
   "id": "0eb6d369",
   "metadata": {},
   "outputs": [],
   "source": [
    "df_lk = df_posts[['cts','numbr_likes']].dropna()"
   ]
  },
  {
   "cell_type": "code",
   "execution_count": 29,
   "id": "40fb3442",
   "metadata": {},
   "outputs": [],
   "source": [
    "df_cmm = df_posts[['cts','number_comments']].dropna()"
   ]
  },
  {
   "cell_type": "code",
   "execution_count": 30,
   "id": "3039b881",
   "metadata": {},
   "outputs": [],
   "source": [
    "def time_to_plot(list_of_intervals,df):\n",
    "    bin_list = [] # Store start and end times of each interval\n",
    "    labels = []   # For plotting x labels\n",
    "    for t_0, t_end in list_of_intervals:\n",
    "        labels.append(' -> '.join([t_0, t_end]))\n",
    "        \n",
    "        t_0 = pd.to_datetime(t_0).time()\n",
    "        t_end = pd.to_datetime(t_end).time()\n",
    "        \n",
    "        bin_list.append((t_0.hour, t_end.hour))\n",
    "    \n",
    "    loc = range(len(labels))\n",
    "    bins = pd.IntervalIndex.from_tuples(bin_list) # Create pandas bins for grouping\n",
    "    result_df = df.groupby(pd.cut(df[\"cts\"].dt.hour, bins=bins)).mean()\n",
    "    \n",
    "    result_df.plot(kind=\"bar\", edgecolor=\"black\")\n",
    "   \n",
    "    plt.xlabel(\"Time\")\n",
    "    plt.ylabel(df.columns.values[1])\n",
    "    plt.xticks(loc, labels, rotation=\"vertical\")\n",
    "    plt.show()"
   ]
  },
  {
   "cell_type": "code",
   "execution_count": 31,
   "id": "ce5cc07d",
   "metadata": {},
   "outputs": [],
   "source": [
    "time_intervals = [(\"06:00:00\", \"13:59:59\"), \n",
    "                  (\"14:00:00\", \"19:59:59\"), \n",
    "                  (\"20:00:00\", \"23:59:59\"),\n",
    "                  (\"00:00:00\", \"05:59:59\")] "
   ]
  },
  {
   "cell_type": "code",
   "execution_count": 32,
   "id": "73552972",
   "metadata": {},
   "outputs": [
    {
     "data": {
      "image/png": "[encoded data removed]",
      "text/plain": [
       "<Figure size 864x720 with 1 Axes>"
      ]
     },
     "metadata": {
      "needs_background": "light"
     },
     "output_type": "display_data"
    }
   ],
   "source": [
    "time_to_plot(time_intervals, df_lk)"
   ]
  },
  {
   "cell_type": "markdown",
   "id": "e23b6936",
   "metadata": {},
   "source": [
    "As we can observe from the previous plot the time interval with the highest average number of likes is among 14:00 and 20:00, afternoon range."
   ]
  },
  {
   "cell_type": "code",
   "execution_count": 33,
   "id": "91ab01e4",
   "metadata": {},
   "outputs": [
    {
     "data": {
      "image/png": "[encoded data removed]",
      "text/plain": [
       "<Figure size 864x720 with 1 Axes>"
      ]
     },
     "metadata": {
      "needs_background": "light"
     },
     "output_type": "display_data"
    }
   ],
   "source": [
    "time_to_plot(time_intervals, df_cmm)"
   ]
  },
  {
   "cell_type": "markdown",
   "id": "9a880d9d",
   "metadata": {},
   "source": [
    "Additionally we can observe that from the histogram plot above the time interval with the highest average number of comments is among 14:00 and 20:00, afternoon range as well likes. From this information we can suppose that users interacts more in afternoon compared to the rest of the day. In addition, the average number of comments is significantly lower than the number of likes. Certainly the average number of comments is affected by the high number of posts with zero comments."
   ]
  },
  {
   "cell_type": "markdown",
   "id": "9dc4fdf6-4e9e-4a98-8d71-1a26db291e8d",
   "metadata": {},
   "source": [
    "### Research Question 7"
   ]
  },
  {
   "cell_type": "markdown",
   "id": "c99b26e4",
   "metadata": {},
   "source": [
    "#### What's the probability that a post receives more than 20% \"likes\" of the number of followers a user has?"
   ]
  },
  {
   "cell_type": "code",
   "execution_count": 14,
   "id": "36afc1e8",
   "metadata": {},
   "outputs": [],
   "source": [
    "# Preparing the data_posts dataframe\n",
    "\n",
    "columns = ['profile_id', 'numbr_likes']\n",
    "data_posts = pd.read_csv(path_to_posts, usecols = columns, delimiter='\\t')"
   ]
  },
  {
   "cell_type": "code",
   "execution_count": 15,
   "id": "fdf4819e",
   "metadata": {},
   "outputs": [],
   "source": [
    "avg_likes = data_posts.dropna().groupby('profile_id', as_index= False).mean().rename(columns={'numbr_likes': 'avg_likes'}) "
   ]
  },
  {
   "cell_type": "code",
   "execution_count": 20,
   "id": "a15b91d9",
   "metadata": {},
   "outputs": [
    {
     "data": {
      "text/html": [
       "<div>\n",
       "<style scoped>\n",
       "    .dataframe tbody tr th:only-of-type {\n",
       "        vertical-align: middle;\n",
       "    }\n",
       "\n",
       "    .dataframe tbody tr th {\n",
       "        vertical-align: top;\n",
       "    }\n",
       "\n",
       "    .dataframe thead th {\n",
       "        text-align: right;\n",
       "    }\n",
       "</style>\n",
       "<table border=\"1\" class=\"dataframe\">\n",
       "  <thead>\n",
       "    <tr style=\"text-align: right;\">\n",
       "      <th></th>\n",
       "      <th>profile_id</th>\n",
       "      <th>followers</th>\n",
       "    </tr>\n",
       "  </thead>\n",
       "  <tbody>\n",
       "    <tr>\n",
       "      <th>0</th>\n",
       "      <td>4.721050e+09</td>\n",
       "      <td>146.0</td>\n",
       "    </tr>\n",
       "    <tr>\n",
       "      <th>1</th>\n",
       "      <td>5.905830e+08</td>\n",
       "      <td>1145.0</td>\n",
       "    </tr>\n",
       "    <tr>\n",
       "      <th>2</th>\n",
       "      <td>1.074147e+09</td>\n",
       "      <td>324.0</td>\n",
       "    </tr>\n",
       "    <tr>\n",
       "      <th>5</th>\n",
       "      <td>1.450642e+08</td>\n",
       "      <td>192.0</td>\n",
       "    </tr>\n",
       "    <tr>\n",
       "      <th>6</th>\n",
       "      <td>2.061868e+09</td>\n",
       "      <td>4137.0</td>\n",
       "    </tr>\n",
       "    <tr>\n",
       "      <th>...</th>\n",
       "      <td>...</td>\n",
       "      <td>...</td>\n",
       "    </tr>\n",
       "    <tr>\n",
       "      <th>4509578</th>\n",
       "      <td>4.038738e+09</td>\n",
       "      <td>809.0</td>\n",
       "    </tr>\n",
       "    <tr>\n",
       "      <th>4509579</th>\n",
       "      <td>1.840612e+08</td>\n",
       "      <td>599.0</td>\n",
       "    </tr>\n",
       "    <tr>\n",
       "      <th>4509580</th>\n",
       "      <td>4.070370e+09</td>\n",
       "      <td>261.0</td>\n",
       "    </tr>\n",
       "    <tr>\n",
       "      <th>4509581</th>\n",
       "      <td>1.418322e+09</td>\n",
       "      <td>481.0</td>\n",
       "    </tr>\n",
       "    <tr>\n",
       "      <th>4509584</th>\n",
       "      <td>2.338990e+07</td>\n",
       "      <td>153.0</td>\n",
       "    </tr>\n",
       "  </tbody>\n",
       "</table>\n",
       "<p>3447698 rows × 2 columns</p>\n",
       "</div>"
      ],
      "text/plain": [
       "           profile_id  followers\n",
       "0        4.721050e+09      146.0\n",
       "1        5.905830e+08     1145.0\n",
       "2        1.074147e+09      324.0\n",
       "5        1.450642e+08      192.0\n",
       "6        2.061868e+09     4137.0\n",
       "...               ...        ...\n",
       "4509578  4.038738e+09      809.0\n",
       "4509579  1.840612e+08      599.0\n",
       "4509580  4.070370e+09      261.0\n",
       "4509581  1.418322e+09      481.0\n",
       "4509584  2.338990e+07      153.0\n",
       "\n",
       "[3447698 rows x 2 columns]"
      ]
     },
     "execution_count": 20,
     "metadata": {},
     "output_type": "execute_result"
    }
   ],
   "source": [
    "# Preparing the profile_id dataframe\n",
    "\n",
    "columns = ['profile_id', 'followers']\n",
    "data_profiles_red = profiles_df.loc[:, columns]\n",
    "data_profiles_red.dropna()"
   ]
  },
  {
   "cell_type": "code",
   "execution_count": 21,
   "id": "d1d29cef",
   "metadata": {},
   "outputs": [
    {
     "data": {
      "text/html": [
       "<div>\n",
       "<style scoped>\n",
       "    .dataframe tbody tr th:only-of-type {\n",
       "        vertical-align: middle;\n",
       "    }\n",
       "\n",
       "    .dataframe tbody tr th {\n",
       "        vertical-align: top;\n",
       "    }\n",
       "\n",
       "    .dataframe thead th {\n",
       "        text-align: right;\n",
       "    }\n",
       "</style>\n",
       "<table border=\"1\" class=\"dataframe\">\n",
       "  <thead>\n",
       "    <tr style=\"text-align: right;\">\n",
       "      <th></th>\n",
       "      <th>profile_id</th>\n",
       "      <th>avg_likes</th>\n",
       "      <th>followers</th>\n",
       "    </tr>\n",
       "  </thead>\n",
       "  <tbody>\n",
       "    <tr>\n",
       "      <th>0</th>\n",
       "      <td>4.721050e+09</td>\n",
       "      <td>12.666667</td>\n",
       "      <td>146.0</td>\n",
       "    </tr>\n",
       "    <tr>\n",
       "      <th>1</th>\n",
       "      <td>5.905830e+08</td>\n",
       "      <td>36.230769</td>\n",
       "      <td>1145.0</td>\n",
       "    </tr>\n",
       "    <tr>\n",
       "      <th>2</th>\n",
       "      <td>1.074147e+09</td>\n",
       "      <td>63.666667</td>\n",
       "      <td>324.0</td>\n",
       "    </tr>\n",
       "    <tr>\n",
       "      <th>5</th>\n",
       "      <td>1.450642e+08</td>\n",
       "      <td>14.538462</td>\n",
       "      <td>192.0</td>\n",
       "    </tr>\n",
       "    <tr>\n",
       "      <th>6</th>\n",
       "      <td>2.061868e+09</td>\n",
       "      <td>307.937500</td>\n",
       "      <td>4137.0</td>\n",
       "    </tr>\n",
       "    <tr>\n",
       "      <th>...</th>\n",
       "      <td>...</td>\n",
       "      <td>...</td>\n",
       "      <td>...</td>\n",
       "    </tr>\n",
       "    <tr>\n",
       "      <th>4509578</th>\n",
       "      <td>4.038738e+09</td>\n",
       "      <td>21.461538</td>\n",
       "      <td>809.0</td>\n",
       "    </tr>\n",
       "    <tr>\n",
       "      <th>4509579</th>\n",
       "      <td>1.840612e+08</td>\n",
       "      <td>43.000000</td>\n",
       "      <td>599.0</td>\n",
       "    </tr>\n",
       "    <tr>\n",
       "      <th>4509580</th>\n",
       "      <td>4.070370e+09</td>\n",
       "      <td>27.333333</td>\n",
       "      <td>261.0</td>\n",
       "    </tr>\n",
       "    <tr>\n",
       "      <th>4509581</th>\n",
       "      <td>1.418322e+09</td>\n",
       "      <td>56.285714</td>\n",
       "      <td>481.0</td>\n",
       "    </tr>\n",
       "    <tr>\n",
       "      <th>4509584</th>\n",
       "      <td>2.338990e+07</td>\n",
       "      <td>14.833333</td>\n",
       "      <td>153.0</td>\n",
       "    </tr>\n",
       "  </tbody>\n",
       "</table>\n",
       "<p>2020411 rows × 3 columns</p>\n",
       "</div>"
      ],
      "text/plain": [
       "           profile_id   avg_likes  followers\n",
       "0        4.721050e+09   12.666667      146.0\n",
       "1        5.905830e+08   36.230769     1145.0\n",
       "2        1.074147e+09   63.666667      324.0\n",
       "5        1.450642e+08   14.538462      192.0\n",
       "6        2.061868e+09  307.937500     4137.0\n",
       "...               ...         ...        ...\n",
       "4509578  4.038738e+09   21.461538      809.0\n",
       "4509579  1.840612e+08   43.000000      599.0\n",
       "4509580  4.070370e+09   27.333333      261.0\n",
       "4509581  1.418322e+09   56.285714      481.0\n",
       "4509584  2.338990e+07   14.833333      153.0\n",
       "\n",
       "[2020411 rows x 3 columns]"
      ]
     },
     "execution_count": 21,
     "metadata": {},
     "output_type": "execute_result"
    }
   ],
   "source": [
    "joined = pd.merge(avg_likes, data_profiles_red, how='right').dropna()\n",
    "joined"
   ]
  },
  {
   "cell_type": "code",
   "execution_count": 22,
   "id": "48ea83b9",
   "metadata": {},
   "outputs": [],
   "source": [
    "# We need to compute the probability P{20% of the #like > #followers}\n",
    "# One thing we can do is keeping only the profile_ids where the condition is true (success)\n",
    "\n",
    "result_df = joined[joined['avg_likes']*0.2 > joined['followers']]\n",
    "\n",
    "#result_df: 180 266 rows"
   ]
  },
  {
   "cell_type": "code",
   "execution_count": 23,
   "id": "1cc7d705",
   "metadata": {},
   "outputs": [
    {
     "name": "stdout",
     "output_type": "stream",
     "text": [
      "The probability that a user has a number of followers smaller than the 20% of the number of likes is:  0.0011\n"
     ]
    }
   ],
   "source": [
    "# Computation of the probability\n",
    "\n",
    "probability = len(result_df)/len(joined)\n",
    "print('The probability that a user has a number of followers smaller than the 20% of the number of likes is: ', round(probability,4))"
   ]
  },
  {
   "cell_type": "code",
   "execution_count": null,
   "id": "fd46ed37",
   "metadata": {},
   "outputs": [],
   "source": [
    "# Clean the ram\n",
    "# dataframes = list((data_profiles_red, data_posts))\n",
    "# del dataframes"
   ]
  },
  {
   "cell_type": "markdown",
   "id": "2b912283",
   "metadata": {},
   "source": [
    "#### Do users usually return to locations? "
   ]
  },
  {
   "cell_type": "code",
   "execution_count": 24,
   "id": "89e0e3db",
   "metadata": {},
   "outputs": [],
   "source": [
    "type_columns = [\"post_id\", \"profile_id\", \"location_id\"]\n",
    "post_type_df = pd.read_csv(path_to_posts, delimiter='\\t', usecols=type_columns)"
   ]
  },
  {
   "cell_type": "code",
   "execution_count": 25,
   "id": "d29837a5",
   "metadata": {},
   "outputs": [],
   "source": [
    "def user_returning(df):\n",
    "    \n",
    "    len_group = len(df['location_id'])\n",
    "    set_group = len(df['location_id'].unique())\n",
    "    \n",
    "    if len_group != set_group: # If the size of the set of all visited locations and the length of the list of \n",
    "                               # of the all visited locations differ, it means a user has returned to the same\n",
    "                               # location at least once\n",
    "        return True\n",
    "    else:\n",
    "        return False"
   ]
  },
  {
   "cell_type": "code",
   "execution_count": null,
   "id": "8bf01bd1",
   "metadata": {},
   "outputs": [],
   "source": [
    "user_return_df = post_type_df.groupby('profile_id').apply(user_returning).value_counts()"
   ]
  },
  {
   "cell_type": "code",
   "execution_count": 33,
   "id": "e044f095",
   "metadata": {},
   "outputs": [
    {
     "data": {
      "text/plain": [
       "11833765"
      ]
     },
     "execution_count": 33,
     "metadata": {},
     "output_type": "execute_result"
    }
   ],
   "source": [
    "# RESULTS:\n",
    "# n_true = 8724511\n",
    "# n_false = 3109254"
   ]
  },
  {
   "cell_type": "markdown",
   "id": "a3895b2d",
   "metadata": {},
   "source": [
    "From these results we can say that users usually return to location."
   ]
  },
  {
   "cell_type": "markdown",
   "id": "1c9c883b",
   "metadata": {},
   "source": [
    "### Research Question 8"
   ]
  },
  {
   "cell_type": "markdown",
   "id": "f3f01634",
   "metadata": {},
   "source": [
    "#### Does more “likes” also mean more comments? Plot a scatter plot of “likes” vs comments for posts."
   ]
  },
  {
   "cell_type": "code",
   "execution_count": 8,
   "id": "fbf2f4bf",
   "metadata": {},
   "outputs": [],
   "source": [
    "data_posts = pd.read_csv(path_to_posts, delimiter = '\\t', usecols = [\"numbr_likes\", \"number_comments\"])"
   ]
  },
  {
   "cell_type": "code",
   "execution_count": 12,
   "id": "078c80b6",
   "metadata": {},
   "outputs": [
    {
     "data": {
      "image/png": "[encoded data removed]",
      "text/plain": [
       "<Figure size 864x720 with 1 Axes>"
      ]
     },
     "metadata": {
      "needs_background": "light"
     },
     "output_type": "display_data"
    }
   ],
   "source": [
    "x = np.array([data_posts[\"numbr_likes\"]])\n",
    "y = np.array([data_posts[\"number_comments\"]])\n",
    "plt.xlabel(\"#Likes\")\n",
    "plt.ylabel(\"#Comments\")\n",
    "plt.xlim([0, 1000000]) # To set axis range\n",
    "plt.ylim([0, 100000])\n",
    "plt.scatter(x,y)\n",
    "plt.show()"
   ]
  },
  {
   "cell_type": "markdown",
   "id": "2cf838e5",
   "metadata": {},
   "source": [
    "There is no upward or downward movement of the data points so there's no strong correlation between the number of likes and the number of comments. What we can notice is that likes are way higher than comments, because comments are less common.\n",
    "So we cannot really say that more likes also mean more comments."
   ]
  },
  {
   "cell_type": "markdown",
   "id": "6cd62f25",
   "metadata": {},
   "source": [
    "#### Can you find any significant relationship between the time a user publishes a post and the number of comments and “likes”? Use an appropriate statistical test or technique and support your choice."
   ]
  },
  {
   "cell_type": "code",
   "execution_count": 34,
   "id": "c119c79f",
   "metadata": {},
   "outputs": [],
   "source": [
    "import datetime"
   ]
  },
  {
   "cell_type": "code",
   "execution_count": 35,
   "id": "d507eb64",
   "metadata": {},
   "outputs": [],
   "source": [
    "col = [\"numbr_likes\", \"number_comments\", \"cts\"]\n",
    "\n",
    "df_posts = pd.read_csv(path_to_posts, delimiter = \"\\t\", usecols = col).dropna()"
   ]
  },
  {
   "cell_type": "code",
   "execution_count": 36,
   "id": "47de400c",
   "metadata": {},
   "outputs": [],
   "source": [
    "df_posts['cts'] = pd.to_datetime(df_posts['cts'])"
   ]
  },
  {
   "cell_type": "code",
   "execution_count": 37,
   "id": "dbe03122",
   "metadata": {},
   "outputs": [
    {
     "data": {
      "text/plain": [
       "0           20\n",
       "1            9\n",
       "2           20\n",
       "3           16\n",
       "4           10\n",
       "            ..\n",
       "42710192    15\n",
       "42710193    11\n",
       "42710194    20\n",
       "42710195    20\n",
       "42710196     2\n",
       "Name: cts, Length: 42706865, dtype: int64"
      ]
     },
     "execution_count": 37,
     "metadata": {},
     "output_type": "execute_result"
    }
   ],
   "source": [
    "df_posts['cts'].dt.hour\n",
    "\n",
    "# We take into account only the hour of publication of the post, \n",
    "# without minutes and seconds"
   ]
  },
  {
   "cell_type": "code",
   "execution_count": 38,
   "id": "6628de4a",
   "metadata": {},
   "outputs": [],
   "source": [
    "df_posts['hour'] = df_posts['cts'].dt.hour"
   ]
  },
  {
   "cell_type": "code",
   "execution_count": 39,
   "id": "116eba83",
   "metadata": {},
   "outputs": [],
   "source": [
    "df_posts = df_posts.drop(columns=['cts'])"
   ]
  },
  {
   "cell_type": "code",
   "execution_count": 40,
   "id": "c73a1443",
   "metadata": {},
   "outputs": [
    {
     "data": {
      "text/html": [
       "<div>\n",
       "<style scoped>\n",
       "    .dataframe tbody tr th:only-of-type {\n",
       "        vertical-align: middle;\n",
       "    }\n",
       "\n",
       "    .dataframe tbody tr th {\n",
       "        vertical-align: top;\n",
       "    }\n",
       "\n",
       "    .dataframe thead th {\n",
       "        text-align: right;\n",
       "    }\n",
       "</style>\n",
       "<table border=\"1\" class=\"dataframe\">\n",
       "  <thead>\n",
       "    <tr style=\"text-align: right;\">\n",
       "      <th></th>\n",
       "      <th>numbr_likes</th>\n",
       "      <th>number_comments</th>\n",
       "      <th>hour</th>\n",
       "    </tr>\n",
       "  </thead>\n",
       "  <tbody>\n",
       "    <tr>\n",
       "      <th>numbr_likes</th>\n",
       "      <td>1.000000</td>\n",
       "      <td>0.374454</td>\n",
       "      <td>0.001154</td>\n",
       "    </tr>\n",
       "    <tr>\n",
       "      <th>number_comments</th>\n",
       "      <td>0.374454</td>\n",
       "      <td>1.000000</td>\n",
       "      <td>0.000506</td>\n",
       "    </tr>\n",
       "    <tr>\n",
       "      <th>hour</th>\n",
       "      <td>0.001154</td>\n",
       "      <td>0.000506</td>\n",
       "      <td>1.000000</td>\n",
       "    </tr>\n",
       "  </tbody>\n",
       "</table>\n",
       "</div>"
      ],
      "text/plain": [
       "                 numbr_likes  number_comments      hour\n",
       "numbr_likes         1.000000         0.374454  0.001154\n",
       "number_comments     0.374454         1.000000  0.000506\n",
       "hour                0.001154         0.000506  1.000000"
      ]
     },
     "execution_count": 40,
     "metadata": {},
     "output_type": "execute_result"
    }
   ],
   "source": [
    "df_posts.corr() "
   ]
  },
  {
   "cell_type": "markdown",
   "id": "2fb3e171",
   "metadata": {},
   "source": [
    "From this table we can say that there is a slightly positive correlation among #likes and #comments. Instead the correlation is very low if we consider the \"hour\" index."
   ]
  },
  {
   "cell_type": "code",
   "execution_count": 41,
   "id": "b2cc7478",
   "metadata": {},
   "outputs": [],
   "source": [
    "cm = df_posts[['number_comments','hour']]\n",
    "lk = df_posts[['numbr_likes','hour']]"
   ]
  },
  {
   "cell_type": "code",
   "execution_count": 42,
   "id": "bebc0302",
   "metadata": {},
   "outputs": [
    {
     "data": {
      "text/html": [
       "<div>\n",
       "<style scoped>\n",
       "    .dataframe tbody tr th:only-of-type {\n",
       "        vertical-align: middle;\n",
       "    }\n",
       "\n",
       "    .dataframe tbody tr th {\n",
       "        vertical-align: top;\n",
       "    }\n",
       "\n",
       "    .dataframe thead th {\n",
       "        text-align: right;\n",
       "    }\n",
       "</style>\n",
       "<table border=\"1\" class=\"dataframe\">\n",
       "  <thead>\n",
       "    <tr style=\"text-align: right;\">\n",
       "      <th></th>\n",
       "      <th>number_comments</th>\n",
       "      <th>hour</th>\n",
       "    </tr>\n",
       "  </thead>\n",
       "  <tbody>\n",
       "    <tr>\n",
       "      <th>0</th>\n",
       "      <td>0.0</td>\n",
       "      <td>20</td>\n",
       "    </tr>\n",
       "    <tr>\n",
       "      <th>1</th>\n",
       "      <td>1.0</td>\n",
       "      <td>9</td>\n",
       "    </tr>\n",
       "    <tr>\n",
       "      <th>2</th>\n",
       "      <td>0.0</td>\n",
       "      <td>20</td>\n",
       "    </tr>\n",
       "    <tr>\n",
       "      <th>3</th>\n",
       "      <td>0.0</td>\n",
       "      <td>16</td>\n",
       "    </tr>\n",
       "    <tr>\n",
       "      <th>4</th>\n",
       "      <td>0.0</td>\n",
       "      <td>10</td>\n",
       "    </tr>\n",
       "    <tr>\n",
       "      <th>...</th>\n",
       "      <td>...</td>\n",
       "      <td>...</td>\n",
       "    </tr>\n",
       "    <tr>\n",
       "      <th>42710192</th>\n",
       "      <td>0.0</td>\n",
       "      <td>15</td>\n",
       "    </tr>\n",
       "    <tr>\n",
       "      <th>42710193</th>\n",
       "      <td>0.0</td>\n",
       "      <td>11</td>\n",
       "    </tr>\n",
       "    <tr>\n",
       "      <th>42710194</th>\n",
       "      <td>0.0</td>\n",
       "      <td>20</td>\n",
       "    </tr>\n",
       "    <tr>\n",
       "      <th>42710195</th>\n",
       "      <td>1.0</td>\n",
       "      <td>20</td>\n",
       "    </tr>\n",
       "    <tr>\n",
       "      <th>42710196</th>\n",
       "      <td>49.0</td>\n",
       "      <td>2</td>\n",
       "    </tr>\n",
       "  </tbody>\n",
       "</table>\n",
       "<p>42706865 rows × 2 columns</p>\n",
       "</div>"
      ],
      "text/plain": [
       "          number_comments  hour\n",
       "0                     0.0    20\n",
       "1                     1.0     9\n",
       "2                     0.0    20\n",
       "3                     0.0    16\n",
       "4                     0.0    10\n",
       "...                   ...   ...\n",
       "42710192              0.0    15\n",
       "42710193              0.0    11\n",
       "42710194              0.0    20\n",
       "42710195              1.0    20\n",
       "42710196             49.0     2\n",
       "\n",
       "[42706865 rows x 2 columns]"
      ]
     },
     "execution_count": 42,
     "metadata": {},
     "output_type": "execute_result"
    }
   ],
   "source": [
    "cm"
   ]
  },
  {
   "cell_type": "code",
   "execution_count": 43,
   "id": "eeb02ea6",
   "metadata": {},
   "outputs": [
    {
     "data": {
      "text/html": [
       "<div>\n",
       "<style scoped>\n",
       "    .dataframe tbody tr th:only-of-type {\n",
       "        vertical-align: middle;\n",
       "    }\n",
       "\n",
       "    .dataframe tbody tr th {\n",
       "        vertical-align: top;\n",
       "    }\n",
       "\n",
       "    .dataframe thead th {\n",
       "        text-align: right;\n",
       "    }\n",
       "</style>\n",
       "<table border=\"1\" class=\"dataframe\">\n",
       "  <thead>\n",
       "    <tr style=\"text-align: right;\">\n",
       "      <th></th>\n",
       "      <th>number_comments</th>\n",
       "      <th>hour</th>\n",
       "    </tr>\n",
       "  </thead>\n",
       "  <tbody>\n",
       "    <tr>\n",
       "      <th>number_comments</th>\n",
       "      <td>1.000000</td>\n",
       "      <td>0.000506</td>\n",
       "    </tr>\n",
       "    <tr>\n",
       "      <th>hour</th>\n",
       "      <td>0.000506</td>\n",
       "      <td>1.000000</td>\n",
       "    </tr>\n",
       "  </tbody>\n",
       "</table>\n",
       "</div>"
      ],
      "text/plain": [
       "                 number_comments      hour\n",
       "number_comments         1.000000  0.000506\n",
       "hour                    0.000506  1.000000"
      ]
     },
     "execution_count": 43,
     "metadata": {},
     "output_type": "execute_result"
    }
   ],
   "source": [
    "#Let's check by couples \n",
    "\n",
    "cm.corr()"
   ]
  },
  {
   "cell_type": "code",
   "execution_count": 44,
   "id": "e8e0d8da",
   "metadata": {},
   "outputs": [
    {
     "data": {
      "text/html": [
       "<div>\n",
       "<style scoped>\n",
       "    .dataframe tbody tr th:only-of-type {\n",
       "        vertical-align: middle;\n",
       "    }\n",
       "\n",
       "    .dataframe tbody tr th {\n",
       "        vertical-align: top;\n",
       "    }\n",
       "\n",
       "    .dataframe thead th {\n",
       "        text-align: right;\n",
       "    }\n",
       "</style>\n",
       "<table border=\"1\" class=\"dataframe\">\n",
       "  <thead>\n",
       "    <tr style=\"text-align: right;\">\n",
       "      <th></th>\n",
       "      <th>numbr_likes</th>\n",
       "      <th>hour</th>\n",
       "    </tr>\n",
       "  </thead>\n",
       "  <tbody>\n",
       "    <tr>\n",
       "      <th>numbr_likes</th>\n",
       "      <td>1.000000</td>\n",
       "      <td>0.001154</td>\n",
       "    </tr>\n",
       "    <tr>\n",
       "      <th>hour</th>\n",
       "      <td>0.001154</td>\n",
       "      <td>1.000000</td>\n",
       "    </tr>\n",
       "  </tbody>\n",
       "</table>\n",
       "</div>"
      ],
      "text/plain": [
       "             numbr_likes      hour\n",
       "numbr_likes     1.000000  0.001154\n",
       "hour            0.001154  1.000000"
      ]
     },
     "execution_count": 44,
     "metadata": {},
     "output_type": "execute_result"
    }
   ],
   "source": [
    "lk.corr()"
   ]
  },
  {
   "cell_type": "markdown",
   "id": "2095008d",
   "metadata": {},
   "source": [
    "So the correlation with time variable is very low, the number of likes is slightly more correlated to the hour of pubblication of the post."
   ]
  },
  {
   "cell_type": "code",
   "execution_count": 45,
   "id": "66b582c0",
   "metadata": {},
   "outputs": [
    {
     "name": "stdout",
     "output_type": "stream",
     "text": [
      "37513748.18538424\n"
     ]
    }
   ],
   "source": [
    "print(df_posts.var()['numbr_likes'])"
   ]
  },
  {
   "cell_type": "code",
   "execution_count": 46,
   "id": "2b9fa82e",
   "metadata": {},
   "outputs": [
    {
     "name": "stdout",
     "output_type": "stream",
     "text": [
      "37696.01916696919\n"
     ]
    }
   ],
   "source": [
    "print(df_posts.var()['number_comments'])"
   ]
  },
  {
   "cell_type": "code",
   "execution_count": 47,
   "id": "1f80bdfd",
   "metadata": {},
   "outputs": [
    {
     "data": {
      "image/png": "[encoded data removed]",
      "text/plain": [
       "<Figure size 864x720 with 1 Axes>"
      ]
     },
     "metadata": {
      "needs_background": "light"
     },
     "output_type": "display_data"
    }
   ],
   "source": [
    "# By likes\n",
    "x=df_posts['hour']\n",
    "y=df_posts['numbr_likes']\n",
    "plt.scatter(x,y)\n",
    "\n",
    "# By comments\n",
    "x=df_posts['hour']\n",
    "y=df_posts['number_comments']\n",
    "plt.scatter(x,y) # In orange\n",
    "\n",
    "plt.xlim=([0,24])\n",
    "plt.ylim=([0,100000])\n",
    "plt.xlabel('time of publication by hour')\n",
    "plt.ylabel('#Likes and #Comments by hour')\n",
    "plt.show()"
   ]
  },
  {
   "cell_type": "markdown",
   "id": "7c74fa89",
   "metadata": {},
   "source": [
    "From the previous scatterplot we can observe that the distribution of comments and likes is different based on \"hour\" indexs: comments distribution is \"Uniform\" in time (we can approximate it to a uniform distribution) , likes distribution between 14:00 and 22:00 have the maximum number of interactions. The poor correlation between likes and comments may depend on the fact that the dataset does not specify the time zone between the different zones where the posts are allocated."
   ]
  },
  {
   "cell_type": "markdown",
   "id": "69fedc08",
   "metadata": {},
   "source": [
    "#### What’s the distribution of followers? Plot the empirical distribution of followers amongst all users and extract the mean, mode, and quantiles. Interpret those figures."
   ]
  },
  {
   "cell_type": "code",
   "execution_count": 49,
   "id": "dd94f408",
   "metadata": {},
   "outputs": [
    {
     "data": {
      "text/plain": [
       "array([ 146., 1145.,  324., ...,  261.,  481.,  153.])"
      ]
     },
     "execution_count": 49,
     "metadata": {},
     "output_type": "execute_result"
    }
   ],
   "source": [
    "foll = np.array(profiles_df[\"followers\"].dropna())\n",
    "foll"
   ]
  },
  {
   "cell_type": "code",
   "execution_count": 50,
   "id": "55ba8b46",
   "metadata": {},
   "outputs": [
    {
     "data": {
      "image/png": "[encoded data removed]",
      "text/plain": [
       "<Figure size 720x504 with 1 Axes>"
      ]
     },
     "metadata": {
      "needs_background": "light"
     },
     "output_type": "display_data"
    }
   ],
   "source": [
    "fig = plt.figure(figsize = (10, 7))\n",
    "plt.boxplot(foll)\n",
    "plt.show()"
   ]
  },
  {
   "cell_type": "code",
   "execution_count": 51,
   "id": "2c0653a4",
   "metadata": {},
   "outputs": [
    {
     "data": {
      "text/plain": [
       "0.0"
      ]
     },
     "execution_count": 51,
     "metadata": {},
     "output_type": "execute_result"
    }
   ],
   "source": [
    "modefoll = mode(foll)\n",
    "modefoll[0][0]"
   ]
  },
  {
   "cell_type": "code",
   "execution_count": 52,
   "id": "7fc0c946",
   "metadata": {},
   "outputs": [
    {
     "data": {
      "text/plain": [
       "4739.899180397426"
      ]
     },
     "execution_count": 52,
     "metadata": {},
     "output_type": "execute_result"
    }
   ],
   "source": [
    "meanfoll = np.mean(foll)\n",
    "meanfoll"
   ]
  },
  {
   "cell_type": "code",
   "execution_count": 54,
   "id": "3f5dfa2f",
   "metadata": {},
   "outputs": [
    {
     "name": "stdout",
     "output_type": "stream",
     "text": [
      "1st quantile: 159.0 . Median: 406.0 . 3rd quantile: 974.0 .\n"
     ]
    }
   ],
   "source": [
    "quantile25 = np.quantile(foll, .25)\n",
    "quantile50 = np.quantile(foll, .5)\n",
    "quantile75 = np.quantile(foll, .75)\n",
    "print(\"1st quantile:\", quantile25,\".\", \"Median:\", quantile50, \".\", \"3rd quantile:\", quantile75, \".\")"
   ]
  },
  {
   "cell_type": "code",
   "execution_count": 55,
   "id": "10fec1c8",
   "metadata": {},
   "outputs": [
    {
     "data": {
      "image/png": "[encoded data removed]",
      "text/plain": [
       "<Figure size 504x432 with 1 Axes>"
      ]
     },
     "metadata": {
      "needs_background": "light"
     },
     "output_type": "display_data"
    }
   ],
   "source": [
    "def distr(followers):\n",
    "    followers = followers/np.sum(followers)\n",
    "    return np.cumsum(followers)\n",
    "\n",
    "plt.figure(figsize=(7,6))\n",
    "freq = distr(profiles_df[\"followers\"])\n",
    "plt.plot(freq,color = \"red\",linewidth = 3)\n",
    "plt.ylabel('Fx')\n",
    "plt.xlabel(\"Followers\")\n",
    "plt.grid()\n",
    "plt.show()"
   ]
  },
  {
   "cell_type": "code",
   "execution_count": 56,
   "id": "079a3997",
   "metadata": {},
   "outputs": [
    {
     "data": {
      "text/plain": [
       "count    3.452771e+06\n",
       "mean     4.739899e+03\n",
       "std      1.939087e+05\n",
       "min      0.000000e+00\n",
       "25%      1.590000e+02\n",
       "50%      4.060000e+02\n",
       "75%      9.740000e+02\n",
       "max      2.854576e+08\n",
       "Name: followers, dtype: float64"
      ]
     },
     "execution_count": 56,
     "metadata": {},
     "output_type": "execute_result"
    }
   ],
   "source": [
    "profiles_df[\"followers\"].describe()\n",
    "\n",
    "# It's obvious how median is a more robust index than mean.\n",
    "# Outliers in this dataset are many and we have to be careful to consider the average index in our analysis."
   ]
  },
  {
   "cell_type": "markdown",
   "id": "ee71b454",
   "metadata": {},
   "source": [
    "What we can extract from these numbers and plot is that it's a distribution full of outliers so the median is a stronger statistical figure to summarize the array. As we can tell the mode, the mean and the median are very different from each other: 0 is the most common \"followers\" number, meanwhile the mean is 4739.81 and the median is 406.0. The mean is so much higher than the median that it's actually higher than the 3rd quantile as well (974.0). This is way, in this case, we should look at the median. The outliers have such high numbers that the boxplot appears to be just a simple line, when it's actually just very compressed."
   ]
  },
  {
   "cell_type": "markdown",
   "id": "f90f18a8",
   "metadata": {},
   "source": [
    "#### What are histograms, bar plots, scatterplots and pie charts used for?"
   ]
  },
  {
   "cell_type": "markdown",
   "id": "41d9ff19",
   "metadata": {},
   "source": [
    "The histogram is used for graphical representations of frequency: it is obtained by placing the extremes of each class on the x-axis and, for each class, drawing a rectangle with a height equal to the frequency density. Pie charts can be used to show percentages of a whole, and represents percentages at a set point in time. Unlike bar graphs (like histograms) and line graphs, pie charts do not show changes over time. The barplot is different from the frequency histogram in that it shows each categorical variable in relation to its numerical value due to the size of its column. The scatter plot is used when working with a double-disaggregated distribution provided only that the characters are quantitative. Pairs of observed values are represented by placing the X-values on the x-axis and the Y-values on the y-axis."
   ]
  },
  {
   "cell_type": "markdown",
   "id": "b602dc9f",
   "metadata": {},
   "source": [
    "#### What insights can you extract from a Box Plot?"
   ]
  },
  {
   "cell_type": "markdown",
   "id": "7c24d434",
   "metadata": {},
   "source": [
    "Box plots are used when there are distributions of quantitative values. They are useful for quickly understanding the distribution of data (median, quantiles, etc.), especially symmetry and outliers. It is also useful for comparing several distributions of data.\n",
    "\n"
   ]
  },
  {
   "cell_type": "markdown",
   "id": "10b27488",
   "metadata": {},
   "source": [
    "## Bonus Points"
   ]
  },
  {
   "cell_type": "markdown",
   "id": "93ad8819",
   "metadata": {},
   "source": [
    "### Note that we tried to do the A exercise of the bonus points but the pd.merge gives us a MemoryError. In theory, we think that the code is right so we'll add it anyway. We tried running less rows but doesn't return any result since maybe the profile ids don't match."
   ]
  },
  {
   "cell_type": "markdown",
   "id": "284a25df",
   "metadata": {},
   "source": [
    "#### Sort the users in terms of number of followers and divide them into two groups: for the first group, take only the top 10% regarding \"followers\", and for the second one, take the rest. Now compare the mean of time intervals between posts for the two categories. Do you notice something relevant?"
   ]
  },
  {
   "cell_type": "code",
   "execution_count": 46,
   "id": "b0596f4c",
   "metadata": {},
   "outputs": [],
   "source": [
    "profiles = pd.read_csv(path_to_profiles, delimiter = \"\\t\", usecols = ['profile_id', 'followers'])"
   ]
  },
  {
   "cell_type": "code",
   "execution_count": 56,
   "id": "a4124438",
   "metadata": {},
   "outputs": [],
   "source": [
    "top10 = profiles[profiles.followers >= profiles.followers.quantile(0.9)]"
   ]
  },
  {
   "cell_type": "code",
   "execution_count": 57,
   "id": "c9a7285b",
   "metadata": {},
   "outputs": [],
   "source": [
    "other = profiles[profiles.followers < profiles.followers.quantile(0.9)]"
   ]
  },
  {
   "cell_type": "code",
   "execution_count": 53,
   "id": "70f1a78c",
   "metadata": {},
   "outputs": [],
   "source": [
    "posts_intervals = pd.read_csv(path_to_posts, delimiter = \"\\t\", usecols = [\"profile_id\", \"cts\"])"
   ]
  },
  {
   "cell_type": "code",
   "execution_count": 58,
   "id": "7af00683",
   "metadata": {},
   "outputs": [
    {
     "ename": "MemoryError",
     "evalue": "Unable to allocate 5.65 GiB for an array with shape (758305966,) and data type int64",
     "output_type": "error",
     "traceback": [
      "\u001b[1;31m---------------------------------------------------------------------------\u001b[0m",
      "\u001b[1;31mMemoryError\u001b[0m                               Traceback (most recent call last)",
      "Input \u001b[1;32mIn [58]\u001b[0m, in \u001b[0;36m<cell line: 1>\u001b[1;34m()\u001b[0m\n\u001b[1;32m----> 1\u001b[0m df_1 \u001b[38;5;241m=\u001b[39m \u001b[43mpd\u001b[49m\u001b[38;5;241;43m.\u001b[39;49m\u001b[43mmerge\u001b[49m\u001b[43m(\u001b[49m\u001b[43mposts_intervals\u001b[49m\u001b[43m,\u001b[49m\u001b[43m \u001b[49m\u001b[43mtop10\u001b[49m\u001b[43m,\u001b[49m\u001b[43m \u001b[49m\u001b[43mleft_on\u001b[49m\u001b[43m \u001b[49m\u001b[38;5;241;43m=\u001b[39;49m\u001b[43m \u001b[49m\u001b[38;5;124;43m\"\u001b[39;49m\u001b[38;5;124;43mprofile_id\u001b[39;49m\u001b[38;5;124;43m\"\u001b[39;49m\u001b[43m,\u001b[49m\u001b[43m \u001b[49m\u001b[43mright_on\u001b[49m\u001b[43m \u001b[49m\u001b[38;5;241;43m=\u001b[39;49m\u001b[43m \u001b[49m\u001b[38;5;124;43m\"\u001b[39;49m\u001b[38;5;124;43mprofile_id\u001b[39;49m\u001b[38;5;124;43m\"\u001b[39;49m\u001b[43m)\u001b[49m\n",
      "File \u001b[1;32m~\\anaconda3\\lib\\site-packages\\pandas\\core\\reshape\\merge.py:122\u001b[0m, in \u001b[0;36mmerge\u001b[1;34m(left, right, how, on, left_on, right_on, left_index, right_index, sort, suffixes, copy, indicator, validate)\u001b[0m\n\u001b[0;32m     90\u001b[0m \u001b[38;5;129m@Substitution\u001b[39m(\u001b[38;5;124m\"\u001b[39m\u001b[38;5;130;01m\\n\u001b[39;00m\u001b[38;5;124mleft : DataFrame or named Series\u001b[39m\u001b[38;5;124m\"\u001b[39m)\n\u001b[0;32m     91\u001b[0m \u001b[38;5;129m@Appender\u001b[39m(_merge_doc, indents\u001b[38;5;241m=\u001b[39m\u001b[38;5;241m0\u001b[39m)\n\u001b[0;32m     92\u001b[0m \u001b[38;5;28;01mdef\u001b[39;00m \u001b[38;5;21mmerge\u001b[39m(\n\u001b[1;32m   (...)\u001b[0m\n\u001b[0;32m    105\u001b[0m     validate: \u001b[38;5;28mstr\u001b[39m \u001b[38;5;241m|\u001b[39m \u001b[38;5;28;01mNone\u001b[39;00m \u001b[38;5;241m=\u001b[39m \u001b[38;5;28;01mNone\u001b[39;00m,\n\u001b[0;32m    106\u001b[0m ) \u001b[38;5;241m-\u001b[39m\u001b[38;5;241m>\u001b[39m DataFrame:\n\u001b[0;32m    107\u001b[0m     op \u001b[38;5;241m=\u001b[39m _MergeOperation(\n\u001b[0;32m    108\u001b[0m         left,\n\u001b[0;32m    109\u001b[0m         right,\n\u001b[1;32m   (...)\u001b[0m\n\u001b[0;32m    120\u001b[0m         validate\u001b[38;5;241m=\u001b[39mvalidate,\n\u001b[0;32m    121\u001b[0m     )\n\u001b[1;32m--> 122\u001b[0m     \u001b[38;5;28;01mreturn\u001b[39;00m \u001b[43mop\u001b[49m\u001b[38;5;241;43m.\u001b[39;49m\u001b[43mget_result\u001b[49m\u001b[43m(\u001b[49m\u001b[43m)\u001b[49m\n",
      "File \u001b[1;32m~\\anaconda3\\lib\\site-packages\\pandas\\core\\reshape\\merge.py:716\u001b[0m, in \u001b[0;36m_MergeOperation.get_result\u001b[1;34m(self)\u001b[0m\n\u001b[0;32m    713\u001b[0m \u001b[38;5;28;01mif\u001b[39;00m \u001b[38;5;28mself\u001b[39m\u001b[38;5;241m.\u001b[39mindicator:\n\u001b[0;32m    714\u001b[0m     \u001b[38;5;28mself\u001b[39m\u001b[38;5;241m.\u001b[39mleft, \u001b[38;5;28mself\u001b[39m\u001b[38;5;241m.\u001b[39mright \u001b[38;5;241m=\u001b[39m \u001b[38;5;28mself\u001b[39m\u001b[38;5;241m.\u001b[39m_indicator_pre_merge(\u001b[38;5;28mself\u001b[39m\u001b[38;5;241m.\u001b[39mleft, \u001b[38;5;28mself\u001b[39m\u001b[38;5;241m.\u001b[39mright)\n\u001b[1;32m--> 716\u001b[0m join_index, left_indexer, right_indexer \u001b[38;5;241m=\u001b[39m \u001b[38;5;28;43mself\u001b[39;49m\u001b[38;5;241;43m.\u001b[39;49m\u001b[43m_get_join_info\u001b[49m\u001b[43m(\u001b[49m\u001b[43m)\u001b[49m\n\u001b[0;32m    718\u001b[0m llabels, rlabels \u001b[38;5;241m=\u001b[39m _items_overlap_with_suffix(\n\u001b[0;32m    719\u001b[0m     \u001b[38;5;28mself\u001b[39m\u001b[38;5;241m.\u001b[39mleft\u001b[38;5;241m.\u001b[39m_info_axis, \u001b[38;5;28mself\u001b[39m\u001b[38;5;241m.\u001b[39mright\u001b[38;5;241m.\u001b[39m_info_axis, \u001b[38;5;28mself\u001b[39m\u001b[38;5;241m.\u001b[39msuffixes\n\u001b[0;32m    720\u001b[0m )\n\u001b[0;32m    722\u001b[0m lindexers \u001b[38;5;241m=\u001b[39m {\u001b[38;5;241m1\u001b[39m: left_indexer} \u001b[38;5;28;01mif\u001b[39;00m left_indexer \u001b[38;5;129;01mis\u001b[39;00m \u001b[38;5;129;01mnot\u001b[39;00m \u001b[38;5;28;01mNone\u001b[39;00m \u001b[38;5;28;01melse\u001b[39;00m {}\n",
      "File \u001b[1;32m~\\anaconda3\\lib\\site-packages\\pandas\\core\\reshape\\merge.py:967\u001b[0m, in \u001b[0;36m_MergeOperation._get_join_info\u001b[1;34m(self)\u001b[0m\n\u001b[0;32m    963\u001b[0m     join_index, right_indexer, left_indexer \u001b[38;5;241m=\u001b[39m _left_join_on_index(\n\u001b[0;32m    964\u001b[0m         right_ax, left_ax, \u001b[38;5;28mself\u001b[39m\u001b[38;5;241m.\u001b[39mright_join_keys, sort\u001b[38;5;241m=\u001b[39m\u001b[38;5;28mself\u001b[39m\u001b[38;5;241m.\u001b[39msort\n\u001b[0;32m    965\u001b[0m     )\n\u001b[0;32m    966\u001b[0m \u001b[38;5;28;01melse\u001b[39;00m:\n\u001b[1;32m--> 967\u001b[0m     (left_indexer, right_indexer) \u001b[38;5;241m=\u001b[39m \u001b[38;5;28;43mself\u001b[39;49m\u001b[38;5;241;43m.\u001b[39;49m\u001b[43m_get_join_indexers\u001b[49m\u001b[43m(\u001b[49m\u001b[43m)\u001b[49m\n\u001b[0;32m    969\u001b[0m     \u001b[38;5;28;01mif\u001b[39;00m \u001b[38;5;28mself\u001b[39m\u001b[38;5;241m.\u001b[39mright_index:\n\u001b[0;32m    970\u001b[0m         \u001b[38;5;28;01mif\u001b[39;00m \u001b[38;5;28mlen\u001b[39m(\u001b[38;5;28mself\u001b[39m\u001b[38;5;241m.\u001b[39mleft) \u001b[38;5;241m>\u001b[39m \u001b[38;5;241m0\u001b[39m:\n",
      "File \u001b[1;32m~\\anaconda3\\lib\\site-packages\\pandas\\core\\reshape\\merge.py:941\u001b[0m, in \u001b[0;36m_MergeOperation._get_join_indexers\u001b[1;34m(self)\u001b[0m\n\u001b[0;32m    939\u001b[0m \u001b[38;5;28;01mdef\u001b[39;00m \u001b[38;5;21m_get_join_indexers\u001b[39m(\u001b[38;5;28mself\u001b[39m) \u001b[38;5;241m-\u001b[39m\u001b[38;5;241m>\u001b[39m \u001b[38;5;28mtuple\u001b[39m[npt\u001b[38;5;241m.\u001b[39mNDArray[np\u001b[38;5;241m.\u001b[39mintp], npt\u001b[38;5;241m.\u001b[39mNDArray[np\u001b[38;5;241m.\u001b[39mintp]]:\n\u001b[0;32m    940\u001b[0m     \u001b[38;5;124;03m\"\"\"return the join indexers\"\"\"\u001b[39;00m\n\u001b[1;32m--> 941\u001b[0m     \u001b[38;5;28;01mreturn\u001b[39;00m \u001b[43mget_join_indexers\u001b[49m\u001b[43m(\u001b[49m\n\u001b[0;32m    942\u001b[0m \u001b[43m        \u001b[49m\u001b[38;5;28;43mself\u001b[39;49m\u001b[38;5;241;43m.\u001b[39;49m\u001b[43mleft_join_keys\u001b[49m\u001b[43m,\u001b[49m\u001b[43m \u001b[49m\u001b[38;5;28;43mself\u001b[39;49m\u001b[38;5;241;43m.\u001b[39;49m\u001b[43mright_join_keys\u001b[49m\u001b[43m,\u001b[49m\u001b[43m \u001b[49m\u001b[43msort\u001b[49m\u001b[38;5;241;43m=\u001b[39;49m\u001b[38;5;28;43mself\u001b[39;49m\u001b[38;5;241;43m.\u001b[39;49m\u001b[43msort\u001b[49m\u001b[43m,\u001b[49m\u001b[43m \u001b[49m\u001b[43mhow\u001b[49m\u001b[38;5;241;43m=\u001b[39;49m\u001b[38;5;28;43mself\u001b[39;49m\u001b[38;5;241;43m.\u001b[39;49m\u001b[43mhow\u001b[49m\n\u001b[0;32m    943\u001b[0m \u001b[43m    \u001b[49m\u001b[43m)\u001b[49m\n",
      "File \u001b[1;32m~\\anaconda3\\lib\\site-packages\\pandas\\core\\reshape\\merge.py:1509\u001b[0m, in \u001b[0;36mget_join_indexers\u001b[1;34m(left_keys, right_keys, sort, how, **kwargs)\u001b[0m\n\u001b[0;32m   1499\u001b[0m join_func \u001b[38;5;241m=\u001b[39m {\n\u001b[0;32m   1500\u001b[0m     \u001b[38;5;124m\"\u001b[39m\u001b[38;5;124minner\u001b[39m\u001b[38;5;124m\"\u001b[39m: libjoin\u001b[38;5;241m.\u001b[39minner_join,\n\u001b[0;32m   1501\u001b[0m     \u001b[38;5;124m\"\u001b[39m\u001b[38;5;124mleft\u001b[39m\u001b[38;5;124m\"\u001b[39m: libjoin\u001b[38;5;241m.\u001b[39mleft_outer_join,\n\u001b[1;32m   (...)\u001b[0m\n\u001b[0;32m   1505\u001b[0m     \u001b[38;5;124m\"\u001b[39m\u001b[38;5;124mouter\u001b[39m\u001b[38;5;124m\"\u001b[39m: libjoin\u001b[38;5;241m.\u001b[39mfull_outer_join,\n\u001b[0;32m   1506\u001b[0m }[how]\n\u001b[0;32m   1508\u001b[0m \u001b[38;5;66;03m# error: Cannot call function of unknown type\u001b[39;00m\n\u001b[1;32m-> 1509\u001b[0m \u001b[38;5;28;01mreturn\u001b[39;00m join_func(lkey, rkey, count, \u001b[38;5;241m*\u001b[39m\u001b[38;5;241m*\u001b[39mkwargs)\n",
      "File \u001b[1;32m~\\anaconda3\\lib\\site-packages\\pandas\\_libs\\join.pyx:48\u001b[0m, in \u001b[0;36mpandas._libs.join.inner_join\u001b[1;34m()\u001b[0m\n",
      "\u001b[1;31mMemoryError\u001b[0m: Unable to allocate 5.65 GiB for an array with shape (758305966,) and data type int64"
     ]
    }
   ],
   "source": [
    "df_1 = pd.merge(posts_intervals, top10, left_on = \"profile_id\", right_on = \"profile_id\")"
   ]
  },
  {
   "cell_type": "code",
   "execution_count": 28,
   "id": "7eab1444",
   "metadata": {},
   "outputs": [
    {
     "ename": "MemoryError",
     "evalue": "Unable to allocate 617. GiB for an array with shape (82786111910,) and data type int64",
     "output_type": "error",
     "traceback": [
      "\u001b[1;31m---------------------------------------------------------------------------\u001b[0m",
      "\u001b[1;31mMemoryError\u001b[0m                               Traceback (most recent call last)",
      "Input \u001b[1;32mIn [28]\u001b[0m, in \u001b[0;36m<cell line: 1>\u001b[1;34m()\u001b[0m\n\u001b[1;32m----> 1\u001b[0m df_2 \u001b[38;5;241m=\u001b[39m \u001b[43mpd\u001b[49m\u001b[38;5;241;43m.\u001b[39;49m\u001b[43mmerge\u001b[49m\u001b[43m(\u001b[49m\u001b[43mposts_intervals\u001b[49m\u001b[43m,\u001b[49m\u001b[43m \u001b[49m\u001b[43mother_group\u001b[49m\u001b[43m,\u001b[49m\u001b[43m \u001b[49m\u001b[43mleft_on\u001b[49m\u001b[43m \u001b[49m\u001b[38;5;241;43m=\u001b[39;49m\u001b[43m \u001b[49m\u001b[38;5;124;43m\"\u001b[39;49m\u001b[38;5;124;43mprofile_id\u001b[39;49m\u001b[38;5;124;43m\"\u001b[39;49m\u001b[43m,\u001b[49m\u001b[43m \u001b[49m\u001b[43mright_on\u001b[49m\u001b[43m \u001b[49m\u001b[38;5;241;43m=\u001b[39;49m\u001b[43m \u001b[49m\u001b[38;5;124;43m\"\u001b[39;49m\u001b[38;5;124;43mprofile_id\u001b[39;49m\u001b[38;5;124;43m\"\u001b[39;49m\u001b[43m)\u001b[49m\n",
      "File \u001b[1;32m~\\anaconda3\\lib\\site-packages\\pandas\\core\\reshape\\merge.py:122\u001b[0m, in \u001b[0;36mmerge\u001b[1;34m(left, right, how, on, left_on, right_on, left_index, right_index, sort, suffixes, copy, indicator, validate)\u001b[0m\n\u001b[0;32m     90\u001b[0m \u001b[38;5;129m@Substitution\u001b[39m(\u001b[38;5;124m\"\u001b[39m\u001b[38;5;130;01m\\n\u001b[39;00m\u001b[38;5;124mleft : DataFrame or named Series\u001b[39m\u001b[38;5;124m\"\u001b[39m)\n\u001b[0;32m     91\u001b[0m \u001b[38;5;129m@Appender\u001b[39m(_merge_doc, indents\u001b[38;5;241m=\u001b[39m\u001b[38;5;241m0\u001b[39m)\n\u001b[0;32m     92\u001b[0m \u001b[38;5;28;01mdef\u001b[39;00m \u001b[38;5;21mmerge\u001b[39m(\n\u001b[1;32m   (...)\u001b[0m\n\u001b[0;32m    105\u001b[0m     validate: \u001b[38;5;28mstr\u001b[39m \u001b[38;5;241m|\u001b[39m \u001b[38;5;28;01mNone\u001b[39;00m \u001b[38;5;241m=\u001b[39m \u001b[38;5;28;01mNone\u001b[39;00m,\n\u001b[0;32m    106\u001b[0m ) \u001b[38;5;241m-\u001b[39m\u001b[38;5;241m>\u001b[39m DataFrame:\n\u001b[0;32m    107\u001b[0m     op \u001b[38;5;241m=\u001b[39m _MergeOperation(\n\u001b[0;32m    108\u001b[0m         left,\n\u001b[0;32m    109\u001b[0m         right,\n\u001b[1;32m   (...)\u001b[0m\n\u001b[0;32m    120\u001b[0m         validate\u001b[38;5;241m=\u001b[39mvalidate,\n\u001b[0;32m    121\u001b[0m     )\n\u001b[1;32m--> 122\u001b[0m     \u001b[38;5;28;01mreturn\u001b[39;00m \u001b[43mop\u001b[49m\u001b[38;5;241;43m.\u001b[39;49m\u001b[43mget_result\u001b[49m\u001b[43m(\u001b[49m\u001b[43m)\u001b[49m\n",
      "File \u001b[1;32m~\\anaconda3\\lib\\site-packages\\pandas\\core\\reshape\\merge.py:716\u001b[0m, in \u001b[0;36m_MergeOperation.get_result\u001b[1;34m(self)\u001b[0m\n\u001b[0;32m    713\u001b[0m \u001b[38;5;28;01mif\u001b[39;00m \u001b[38;5;28mself\u001b[39m\u001b[38;5;241m.\u001b[39mindicator:\n\u001b[0;32m    714\u001b[0m     \u001b[38;5;28mself\u001b[39m\u001b[38;5;241m.\u001b[39mleft, \u001b[38;5;28mself\u001b[39m\u001b[38;5;241m.\u001b[39mright \u001b[38;5;241m=\u001b[39m \u001b[38;5;28mself\u001b[39m\u001b[38;5;241m.\u001b[39m_indicator_pre_merge(\u001b[38;5;28mself\u001b[39m\u001b[38;5;241m.\u001b[39mleft, \u001b[38;5;28mself\u001b[39m\u001b[38;5;241m.\u001b[39mright)\n\u001b[1;32m--> 716\u001b[0m join_index, left_indexer, right_indexer \u001b[38;5;241m=\u001b[39m \u001b[38;5;28;43mself\u001b[39;49m\u001b[38;5;241;43m.\u001b[39;49m\u001b[43m_get_join_info\u001b[49m\u001b[43m(\u001b[49m\u001b[43m)\u001b[49m\n\u001b[0;32m    718\u001b[0m llabels, rlabels \u001b[38;5;241m=\u001b[39m _items_overlap_with_suffix(\n\u001b[0;32m    719\u001b[0m     \u001b[38;5;28mself\u001b[39m\u001b[38;5;241m.\u001b[39mleft\u001b[38;5;241m.\u001b[39m_info_axis, \u001b[38;5;28mself\u001b[39m\u001b[38;5;241m.\u001b[39mright\u001b[38;5;241m.\u001b[39m_info_axis, \u001b[38;5;28mself\u001b[39m\u001b[38;5;241m.\u001b[39msuffixes\n\u001b[0;32m    720\u001b[0m )\n\u001b[0;32m    722\u001b[0m lindexers \u001b[38;5;241m=\u001b[39m {\u001b[38;5;241m1\u001b[39m: left_indexer} \u001b[38;5;28;01mif\u001b[39;00m left_indexer \u001b[38;5;129;01mis\u001b[39;00m \u001b[38;5;129;01mnot\u001b[39;00m \u001b[38;5;28;01mNone\u001b[39;00m \u001b[38;5;28;01melse\u001b[39;00m {}\n",
      "File \u001b[1;32m~\\anaconda3\\lib\\site-packages\\pandas\\core\\reshape\\merge.py:967\u001b[0m, in \u001b[0;36m_MergeOperation._get_join_info\u001b[1;34m(self)\u001b[0m\n\u001b[0;32m    963\u001b[0m     join_index, right_indexer, left_indexer \u001b[38;5;241m=\u001b[39m _left_join_on_index(\n\u001b[0;32m    964\u001b[0m         right_ax, left_ax, \u001b[38;5;28mself\u001b[39m\u001b[38;5;241m.\u001b[39mright_join_keys, sort\u001b[38;5;241m=\u001b[39m\u001b[38;5;28mself\u001b[39m\u001b[38;5;241m.\u001b[39msort\n\u001b[0;32m    965\u001b[0m     )\n\u001b[0;32m    966\u001b[0m \u001b[38;5;28;01melse\u001b[39;00m:\n\u001b[1;32m--> 967\u001b[0m     (left_indexer, right_indexer) \u001b[38;5;241m=\u001b[39m \u001b[38;5;28;43mself\u001b[39;49m\u001b[38;5;241;43m.\u001b[39;49m\u001b[43m_get_join_indexers\u001b[49m\u001b[43m(\u001b[49m\u001b[43m)\u001b[49m\n\u001b[0;32m    969\u001b[0m     \u001b[38;5;28;01mif\u001b[39;00m \u001b[38;5;28mself\u001b[39m\u001b[38;5;241m.\u001b[39mright_index:\n\u001b[0;32m    970\u001b[0m         \u001b[38;5;28;01mif\u001b[39;00m \u001b[38;5;28mlen\u001b[39m(\u001b[38;5;28mself\u001b[39m\u001b[38;5;241m.\u001b[39mleft) \u001b[38;5;241m>\u001b[39m \u001b[38;5;241m0\u001b[39m:\n",
      "File \u001b[1;32m~\\anaconda3\\lib\\site-packages\\pandas\\core\\reshape\\merge.py:941\u001b[0m, in \u001b[0;36m_MergeOperation._get_join_indexers\u001b[1;34m(self)\u001b[0m\n\u001b[0;32m    939\u001b[0m \u001b[38;5;28;01mdef\u001b[39;00m \u001b[38;5;21m_get_join_indexers\u001b[39m(\u001b[38;5;28mself\u001b[39m) \u001b[38;5;241m-\u001b[39m\u001b[38;5;241m>\u001b[39m \u001b[38;5;28mtuple\u001b[39m[npt\u001b[38;5;241m.\u001b[39mNDArray[np\u001b[38;5;241m.\u001b[39mintp], npt\u001b[38;5;241m.\u001b[39mNDArray[np\u001b[38;5;241m.\u001b[39mintp]]:\n\u001b[0;32m    940\u001b[0m     \u001b[38;5;124;03m\"\"\"return the join indexers\"\"\"\u001b[39;00m\n\u001b[1;32m--> 941\u001b[0m     \u001b[38;5;28;01mreturn\u001b[39;00m \u001b[43mget_join_indexers\u001b[49m\u001b[43m(\u001b[49m\n\u001b[0;32m    942\u001b[0m \u001b[43m        \u001b[49m\u001b[38;5;28;43mself\u001b[39;49m\u001b[38;5;241;43m.\u001b[39;49m\u001b[43mleft_join_keys\u001b[49m\u001b[43m,\u001b[49m\u001b[43m \u001b[49m\u001b[38;5;28;43mself\u001b[39;49m\u001b[38;5;241;43m.\u001b[39;49m\u001b[43mright_join_keys\u001b[49m\u001b[43m,\u001b[49m\u001b[43m \u001b[49m\u001b[43msort\u001b[49m\u001b[38;5;241;43m=\u001b[39;49m\u001b[38;5;28;43mself\u001b[39;49m\u001b[38;5;241;43m.\u001b[39;49m\u001b[43msort\u001b[49m\u001b[43m,\u001b[49m\u001b[43m \u001b[49m\u001b[43mhow\u001b[49m\u001b[38;5;241;43m=\u001b[39;49m\u001b[38;5;28;43mself\u001b[39;49m\u001b[38;5;241;43m.\u001b[39;49m\u001b[43mhow\u001b[49m\n\u001b[0;32m    943\u001b[0m \u001b[43m    \u001b[49m\u001b[43m)\u001b[49m\n",
      "File \u001b[1;32m~\\anaconda3\\lib\\site-packages\\pandas\\core\\reshape\\merge.py:1509\u001b[0m, in \u001b[0;36mget_join_indexers\u001b[1;34m(left_keys, right_keys, sort, how, **kwargs)\u001b[0m\n\u001b[0;32m   1499\u001b[0m join_func \u001b[38;5;241m=\u001b[39m {\n\u001b[0;32m   1500\u001b[0m     \u001b[38;5;124m\"\u001b[39m\u001b[38;5;124minner\u001b[39m\u001b[38;5;124m\"\u001b[39m: libjoin\u001b[38;5;241m.\u001b[39minner_join,\n\u001b[0;32m   1501\u001b[0m     \u001b[38;5;124m\"\u001b[39m\u001b[38;5;124mleft\u001b[39m\u001b[38;5;124m\"\u001b[39m: libjoin\u001b[38;5;241m.\u001b[39mleft_outer_join,\n\u001b[1;32m   (...)\u001b[0m\n\u001b[0;32m   1505\u001b[0m     \u001b[38;5;124m\"\u001b[39m\u001b[38;5;124mouter\u001b[39m\u001b[38;5;124m\"\u001b[39m: libjoin\u001b[38;5;241m.\u001b[39mfull_outer_join,\n\u001b[0;32m   1506\u001b[0m }[how]\n\u001b[0;32m   1508\u001b[0m \u001b[38;5;66;03m# error: Cannot call function of unknown type\u001b[39;00m\n\u001b[1;32m-> 1509\u001b[0m \u001b[38;5;28;01mreturn\u001b[39;00m join_func(lkey, rkey, count, \u001b[38;5;241m*\u001b[39m\u001b[38;5;241m*\u001b[39mkwargs)\n",
      "File \u001b[1;32m~\\anaconda3\\lib\\site-packages\\pandas\\_libs\\join.pyx:48\u001b[0m, in \u001b[0;36mpandas._libs.join.inner_join\u001b[1;34m()\u001b[0m\n",
      "\u001b[1;31mMemoryError\u001b[0m: Unable to allocate 617. GiB for an array with shape (82786111910,) and data type int64"
     ]
    }
   ],
   "source": [
    "df_2 = pd.merge(posts_intervals, other, left_on = \"profile_id\", right_on = \"profile_id\")"
   ]
  },
  {
   "cell_type": "code",
   "execution_count": null,
   "id": "f02e192e",
   "metadata": {},
   "outputs": [],
   "source": [
    "def condition(x):\n",
    "    if len(x) > 1:\n",
    "        return x.diff().mean()"
   ]
  },
  {
   "cell_type": "code",
   "execution_count": 20,
   "id": "882f37b1",
   "metadata": {},
   "outputs": [
    {
     "data": {
      "text/html": [
       "<div>\n",
       "<style scoped>\n",
       "    .dataframe tbody tr th:only-of-type {\n",
       "        vertical-align: middle;\n",
       "    }\n",
       "\n",
       "    .dataframe tbody tr th {\n",
       "        vertical-align: top;\n",
       "    }\n",
       "\n",
       "    .dataframe thead th {\n",
       "        text-align: right;\n",
       "    }\n",
       "</style>\n",
       "<table border=\"1\" class=\"dataframe\">\n",
       "  <thead>\n",
       "    <tr style=\"text-align: right;\">\n",
       "      <th></th>\n",
       "      <th>avg_time_diff</th>\n",
       "    </tr>\n",
       "    <tr>\n",
       "      <th>profile_id</th>\n",
       "      <th></th>\n",
       "    </tr>\n",
       "  </thead>\n",
       "  <tbody>\n",
       "  </tbody>\n",
       "</table>\n",
       "</div>"
      ],
      "text/plain": [
       "Empty DataFrame\n",
       "Columns: [avg_time_diff]\n",
       "Index: []"
      ]
     },
     "execution_count": 20,
     "metadata": {},
     "output_type": "execute_result"
    }
   ],
   "source": [
    "avg_time_top10 = (df1.groupby(by='profile_id')\n",
    "                      .cts\n",
    "                      .agg(avg_time_diff=lambda group: condition(group)))\n",
    "avg_time_top10"
   ]
  },
  {
   "cell_type": "code",
   "execution_count": 21,
   "id": "f1da1fad",
   "metadata": {},
   "outputs": [
    {
     "data": {
      "text/html": [
       "<div>\n",
       "<style scoped>\n",
       "    .dataframe tbody tr th:only-of-type {\n",
       "        vertical-align: middle;\n",
       "    }\n",
       "\n",
       "    .dataframe tbody tr th {\n",
       "        vertical-align: top;\n",
       "    }\n",
       "\n",
       "    .dataframe thead th {\n",
       "        text-align: right;\n",
       "    }\n",
       "</style>\n",
       "<table border=\"1\" class=\"dataframe\">\n",
       "  <thead>\n",
       "    <tr style=\"text-align: right;\">\n",
       "      <th></th>\n",
       "      <th>avg_time_diff</th>\n",
       "    </tr>\n",
       "    <tr>\n",
       "      <th>profile_id</th>\n",
       "      <th></th>\n",
       "    </tr>\n",
       "  </thead>\n",
       "  <tbody>\n",
       "  </tbody>\n",
       "</table>\n",
       "</div>"
      ],
      "text/plain": [
       "Empty DataFrame\n",
       "Columns: [avg_time_diff]\n",
       "Index: []"
      ]
     },
     "execution_count": 21,
     "metadata": {},
     "output_type": "execute_result"
    }
   ],
   "source": [
    "avg_time_others = (df2.groupby(by='profile_id')\n",
    "                      .cts\n",
    "                      .agg(avg_time_diff=lambda group: condition(group)))\n",
    "avg_time_others"
   ]
  },
  {
   "cell_type": "markdown",
   "id": "e27c532a",
   "metadata": {},
   "source": [
    "#### Assume users publish their posts the same day pictures or videos are taken: Are there users that have visited the same location on the same day? How about the same week? Extract the results and explain them."
   ]
  },
  {
   "cell_type": "code",
   "execution_count": null,
   "id": "b7c3e0ec",
   "metadata": {},
   "outputs": [],
   "source": []
  },
  {
   "cell_type": "markdown",
   "id": "4c5871be",
   "metadata": {},
   "source": [
    "#### Implement a text data analysis (also known as text mining) of the field \"description\" from instagram_posts.csv for descriptions written in English. Use appropriate visualizations and statistics to highlight the words (and probably the topics) provided for the users in that field."
   ]
  },
  {
   "cell_type": "code",
   "execution_count": null,
   "id": "9a6b510d",
   "metadata": {},
   "outputs": [],
   "source": []
  },
  {
   "cell_type": "markdown",
   "id": "e7191155",
   "metadata": {},
   "source": [
    "### Alogrithmic Question 1"
   ]
  },
  {
   "cell_type": "code",
   "execution_count": 47,
   "id": "e1231d34",
   "metadata": {},
   "outputs": [],
   "source": [
    "def f1(seq, end):\n",
    "    global counter_1\n",
    "    counter_1 += 1\n",
    "    # print(' '.join(seq))\n",
    "    # print('\\n')"
   ]
  },
  {
   "cell_type": "code",
   "execution_count": 60,
   "id": "9c58c99e",
   "metadata": {},
   "outputs": [],
   "source": [
    "def f2(seq, start, end):\n",
    "    global counter_2\n",
    "    counter_2 += 1\n",
    "    if start == end:\n",
    "        f1(seq, end)                 #\n",
    "    else:\n",
    "        for i in range(start, end):\n",
    "            temp = seq[start]\n",
    "            seq[start] = seq[i]      # swap seq[start]\n",
    "            seq[i] = temp            # and seq[i]\n",
    "            \n",
    "            f2(seq, start+1, end)    # call f2 with swapped chars\n",
    "                                     # we call it N times\n",
    "                                     # \n",
    "            temp = seq[start]        \n",
    "            seq[start] = seq[i]      # swap\n",
    "            seq[i] = temp            # back"
   ]
  },
  {
   "cell_type": "markdown",
   "id": "899de7cc",
   "metadata": {},
   "source": [
    "This algorithm computes all the possible permutations for the complete sequence and for each subsequence going to the right from the start. This is done swapping the character at location \"start\" with the character at location \"i\", then calling the function again on this altered sequence and undoing the character-swap. \\\n",
    "The inner loop leads to a runtime of O(n!), since the recursive call needs one iteration less because of the \"start+1\"."
   ]
  },
  {
   "cell_type": "code",
   "execution_count": 65,
   "id": "986718b8",
   "metadata": {},
   "outputs": [
    {
     "name": "stderr",
     "output_type": "stream",
     "text": [
      "/tmp/ipykernel_4412/4056211887.py:13: RuntimeWarning: divide by zero encountered in log\n",
      "  plt.plot(np.log(np.arange(max_N))*factorial(np.arange(max_N)), label=\"log(N)*fac N\")\n"
     ]
    },
    {
     "data": {
      "text/plain": [
       "<matplotlib.legend.Legend at 0x7ff589d64880>"
      ]
     },
     "execution_count": 65,
     "metadata": {},
     "output_type": "execute_result"
    },
    {
     "data": {
      "image/png": "[encoded data removed]",
      "text/plain": [
       "<Figure size 432x288 with 1 Axes>"
      ]
     },
     "metadata": {
      "needs_background": "light"
     },
     "output_type": "display_data"
    }
   ],
   "source": [
    "from scipy.special import factorial\n",
    "\n",
    "loc_1, loc_2 = [], []\n",
    "max_N = 10\n",
    "for i in range(max_N):\n",
    "    counter_1, counter_2 = 0, 0\n",
    "    f2(list(range(i)), 0, i)\n",
    "    loc_1.append(counter_1)\n",
    "    loc_2.append(counter_2)\n",
    "\n",
    "plt.scatter(range(max_N), loc_2, label=\"f2\")\n",
    "\n",
    "plt.plot(np.log(np.arange(max_N))*factorial(np.arange(max_N)), label=\"log(N)*fac N\")\n",
    "plt.plot(np.sqrt(np.arange(max_N))*factorial(np.arange(max_N)), label=\"sqrt(N)*fac N\")\n",
    "\n",
    "plt.legend()"
   ]
  },
  {
   "cell_type": "markdown",
   "id": "f7725275",
   "metadata": {},
   "source": [
    "As we can see from the plot, the f2 function is approximated by log(n)*n\\! from the below and by sqrt(n)*n! from above. Therfore overall we can say f2 is in O(sqrt(n)*n!)."
   ]
  },
  {
   "cell_type": "markdown",
   "id": "3cc5e33a",
   "metadata": {},
   "source": [
    "### Algorithmic Question 2"
   ]
  },
  {
   "cell_type": "code",
   "execution_count": 74,
   "id": "fc95b326",
   "metadata": {
    "scrolled": false
   },
   "outputs": [],
   "source": [
    "def ribbon_rec(N):\n",
    "    if N == 1:\n",
    "        return [1]\n",
    "    \n",
    "    temp = []    # Store the maximal values here\n",
    "    arr = np.ones(N)\n",
    "    n = int(N/2) # Divide by 2 and ceiling since cutting e.g. N=5 at 2 yields the ribbon pairs (2, 3) which is the same as\n",
    "                 # cutting at 3 which would yield the pair (3, 2)\n",
    "    for i in range(1, n+1):\n",
    "        \n",
    "        k, l = len(arr[:i]), len(arr[i:])\n",
    "        \n",
    "        temp.append(k * l)\n",
    "        temp.append(k * max(ribbon_rec(l)))\n",
    "        \n",
    "    return temp"
   ]
  },
  {
   "cell_type": "markdown",
   "id": "4996c4e7",
   "metadata": {},
   "source": [
    "When thinking of the recursive algorithm as going deeper into a recursion tree, we append the maximum of each level to the very first temp list. Therefore we need to call the max() method on the final output (see cell below). \\\n",
    "For each level we want to store the values for k * l which resemles cutting once, at that level and doing more cuts, resembled by k * max(ribbon_rec(l)). \\\n",
    "By iterating over all possible pairs (k, l) for each level we calcualte all possible values and therefore the maximal value as well."
   ]
  },
  {
   "cell_type": "code",
   "execution_count": 32,
   "id": "5b716422",
   "metadata": {},
   "outputs": [],
   "source": [
    "def ribbon_poly(N):\n",
    "    if N == 2:\n",
    "        return 1\n",
    "    if N == 3:\n",
    "        return 2\n",
    "    dictp = {\"1\":1 , \"2\": 2, \"3\": 3}\n",
    "    for i in range(4, N+1):\n",
    "        halfi = int(i/2)\n",
    "        prod = []\n",
    "        arr = np.ones(i)\n",
    "        \n",
    "        for j in range(1, halfi+1):\n",
    "            k, l = len(arr[:j]), len(arr[j:])\n",
    "            prod.append(dictp[str(k)]*dictp[str(l)])\n",
    "             \n",
    "        maxp = max(prod)    \n",
    "        dictp[str(i)] = maxp\n",
    "    return dictp[str(N)]"
   ]
  },
  {
   "cell_type": "markdown",
   "id": "1afaf6d2",
   "metadata": {},
   "source": [
    "Instead of branching into a tree, when solve the problem in a bottom-up fashion. We have the base cases 2 and 3, for which we can only obtain one result. Also these are the cases where the final product is actually smaller than the N itself. \\\n",
    "In a dictionary we store all solutions for the subproblems i<N. By storing the sub-solutions, we later only need to compare the prodcut of all possible pairs (k, l)."
   ]
  },
  {
   "cell_type": "code",
   "execution_count": 69,
   "id": "9e4307b2",
   "metadata": {},
   "outputs": [
    {
     "data": {
      "image/png": "[encoded data removed]",
      "text/plain": [
       "<Figure size 432x288 with 2 Axes>"
      ]
     },
     "metadata": {
      "needs_background": "light"
     },
     "output_type": "display_data"
    }
   ],
   "source": [
    "rec_times, poly_times = [], []\n",
    "\n",
    "for N in range(2, 26):\n",
    "    t0_rec = time.time()\n",
    "    max(ribbon_rec(N))\n",
    "    T_rec = time.time() - t0_rec\n",
    "    \n",
    "    t0_poly = time.time()\n",
    "    ribbon_poly(N)\n",
    "    T_poly = time.time() - t0_poly\n",
    "    \n",
    "    rec_times.append(T_rec)\n",
    "    poly_times.append(T_poly)\n",
    "\n",
    "fig, (ax1, ax2) = plt.subplots(ncols=2, sharex=True)\n",
    "\n",
    "ax1.plot(np.arange(2,26), rec_times, label=\"rec_ribbon\")\n",
    "ax1.set_xlabel(\"N\")\n",
    "ax1.set_ylabel(\"recursive time [s]\")\n",
    "ax1.legend()\n",
    "\n",
    "ax2.plot(np.arange(2,26), poly_times, label=\"poly_ribbon\")\n",
    "ax2.set_xlabel(\"N\")\n",
    "ax2.set_ylabel(\"DP time [s]\")\n",
    "ax2.legend()\n",
    "\n",
    "fig.suptitle(\"Running Time for Rec and DP\")\n",
    "plt.tight_layout()\n",
    "plt.show()"
   ]
  },
  {
   "cell_type": "markdown",
   "id": "645e16db",
   "metadata": {},
   "source": [
    "Note the difference between the values on the y-axis. The DP variant is much faster. \\\n",
    "The recursive variant clearly approximates an exponential function. The recursive algorithm branches for each iteration into two branches making the runtime exponential, O(2^n). \\\n",
    "The polynomial algorithm is much faster, since we have a for loop and a nested for loop, both bounded by n which lead to the polynomial runtime O(n^2)."
   ]
  }
 ],
 "metadata": {
  "kernelspec": {
   "display_name": "Python 3 (ipykernel)",
   "language": "python",
   "name": "python3"
  },
  "language_info": {
   "codemirror_mode": {
    "name": "ipython",
    "version": 3
   },
   "file_extension": ".py",
   "mimetype": "text/x-python",
   "name": "python",
   "nbconvert_exporter": "python",
   "pygments_lexer": "ipython3",
   "version": "3.9.12"
  }
 },
 "nbformat": 4,
 "nbformat_minor": 5
}
